{
 "cells": [
  {
   "cell_type": "markdown",
   "id": "49eb83cb",
   "metadata": {},
   "source": [
    "# 🌍 Solar Potential Comparison: Benin 🇧🇯 | Sierra Leone 🇸🇱 | Togo 🇹🇬\n",
    "\n",
    "*Evaluating Global Horizontal Irradiance (GHI), Direct Normal Irradiance (DNI), and Diffuse Horizontal Irradiance (DHI) for strategic solar deployment.*\n"
   ]
  },
  {
   "cell_type": "code",
   "execution_count": 7,
   "id": "897fcb95",
   "metadata": {},
   "outputs": [],
   "source": [
    "#imports\n",
    "import pandas as pd\n",
    "import matplotlib.pyplot as plt\n",
    "import seaborn as sns\n",
    "from scipy.stats import f_oneway, kruskal\n",
    "import warnings\n",
    "import sys\n",
    "sys.path.append('../scripts')\n",
    "from visualization_utils import SolarVisualizer"
   ]
  },
  {
   "cell_type": "code",
   "execution_count": 2,
   "id": "5ab8f9d9",
   "metadata": {},
   "outputs": [],
   "source": [
    "#suppress all warnings\n",
    "warnings.filterwarnings(\"ignore\")"
   ]
  },
  {
   "cell_type": "markdown",
   "id": "f34d9ef4",
   "metadata": {},
   "source": [
    "\n",
    "\n",
    "## 📌1. Introduction\n",
    "\n",
    "Welcome to the **Cross-Country Solar Potential Analysis** — a project developed as part of the **10 Academy Week 1 Challenge** for candidates aspiring to join the 12-week intensive training in:\n",
    "\n",
    "- 🛠️ **Data Engineering (DE)**\n",
    "- 📊 **Financial Analytics (FA)**\n",
    "- 🤖 **Machine Learning Engineering (MLE)**\n",
    "\n",
    "This notebook focuses on **analyzing and comparing solar radiation data** from three West African countries: **Benin**, **Sierra Leone**, and **Togo**. Using exploratory data analysis, statistical comparisons, and visualization techniques, we aim to:\n",
    "\n",
    "- Assess **solar energy potential** across countries,\n",
    "- Identify key **variations and patterns**, and\n",
    "- Deliver **insights** to guide strategic solar investments for **MoonLight Energy Solutions**.\n",
    "\n",
    "---"
   ]
  },
  {
   "cell_type": "markdown",
   "id": "7cfc1b9f",
   "metadata": {},
   "source": [
    "## 🧭 Background\n",
    "\n",
    "🌞 **MoonLight Energy Solutions** is on a mission to scale clean energy deployment by identifying the most promising regions for **solar installation**. This project supports that mission by evaluating environmental data collected in **Benin**, **Sierra Leone**, and **Togo**, including:\n",
    "\n",
    "- ☀️ **GHI (Global Horizontal Irradiance)** – Total solar radiation on a horizontal surface\n",
    "- 🔆 **DNI (Direct Normal Irradiance)** – Direct solar radiation perpendicular to the sun’s rays\n",
    "- 🌤️ **DHI (Diffuse Horizontal Irradiance)** – Solar radiation received indirectly\n",
    "\n",
    "Other recorded environmental variables include **air temperature**, **humidity**, **wind speed**, **precipitation**, and **sensor cleaning events**.\n",
    "\n",
    "📈 This notebook will:\n",
    "- Visualize solar metrics across countries using **boxplots** and **bar charts**\n",
    "- Compare country-level averages with a **summary statistics table**\n",
    "- Run statistical tests like **ANOVA** or **Kruskal–Wallis** to check for significant differences\n",
    "- Summarize key takeaways to support **data-driven decision-making**\n",
    "\n",
    "---\n"
   ]
  },
  {
   "cell_type": "markdown",
   "id": "271b760f",
   "metadata": {},
   "source": [
    "## 📦 2. Data Loading & Overview  <a id= '2-data-loading--overview'></a>"
   ]
  },
  {
   "cell_type": "markdown",
   "id": "3f2db130",
   "metadata": {},
   "source": [
    "➤ Load data"
   ]
  },
  {
   "cell_type": "code",
   "execution_count": 3,
   "id": "3bed4408",
   "metadata": {},
   "outputs": [],
   "source": [
    "benin = pd.read_csv('../data/benin_clean.csv')\n",
    "togo = pd.read_csv('../data/togo_clean.csv')\n",
    "sl = pd.read_csv('../data/sierraleone_clean.csv')\n"
   ]
  },
  {
   "cell_type": "markdown",
   "id": "584b576a",
   "metadata": {},
   "source": [
    "➤ Add a country label to each DataFrame"
   ]
  },
  {
   "cell_type": "code",
   "execution_count": 4,
   "id": "3cac4140",
   "metadata": {},
   "outputs": [],
   "source": [
    "benin['country'] = 'Benin'\n",
    "togo['country'] = 'Togo'\n",
    "sl['country'] = 'Sierra Leone'\n"
   ]
  },
  {
   "cell_type": "markdown",
   "id": "27c1df6c",
   "metadata": {},
   "source": [
    "➤ Add a country label to each DataFrame"
   ]
  },
  {
   "cell_type": "code",
   "execution_count": 5,
   "id": "950322d1",
   "metadata": {},
   "outputs": [],
   "source": [
    "benin['country'] = 'Benin'\n",
    "togo['country'] = 'Togo'\n",
    "sl['country'] = 'Sierra Leone'\n"
   ]
  },
  {
   "cell_type": "markdown",
   "id": "eee73cc6",
   "metadata": {},
   "source": [
    "➤ Concatenate"
   ]
  },
  {
   "cell_type": "code",
   "execution_count": 6,
   "id": "06ea9be8",
   "metadata": {},
   "outputs": [],
   "source": [
    "#concatenate the three dataframes\n",
    "f = pd.concat([benin, togo, sl], ignore_index=True)"
   ]
  },
  {
   "cell_type": "code",
   "execution_count": 8,
   "id": "9f33f61a",
   "metadata": {},
   "outputs": [
    {
     "data": {
      "text/html": [
       "<div>\n",
       "<style scoped>\n",
       "    .dataframe tbody tr th:only-of-type {\n",
       "        vertical-align: middle;\n",
       "    }\n",
       "\n",
       "    .dataframe tbody tr th {\n",
       "        vertical-align: top;\n",
       "    }\n",
       "\n",
       "    .dataframe thead th {\n",
       "        text-align: right;\n",
       "    }\n",
       "</style>\n",
       "<table border=\"1\" class=\"dataframe\">\n",
       "  <thead>\n",
       "    <tr style=\"text-align: right;\">\n",
       "      <th></th>\n",
       "      <th>Timestamp</th>\n",
       "      <th>GHI</th>\n",
       "      <th>DNI</th>\n",
       "      <th>DHI</th>\n",
       "      <th>ModA</th>\n",
       "      <th>ModB</th>\n",
       "      <th>Tamb</th>\n",
       "      <th>RH</th>\n",
       "      <th>WS</th>\n",
       "      <th>WSgust</th>\n",
       "      <th>WSstdev</th>\n",
       "      <th>WD</th>\n",
       "      <th>WDstdev</th>\n",
       "      <th>BP</th>\n",
       "      <th>Cleaning</th>\n",
       "      <th>Precipitation</th>\n",
       "      <th>TModA</th>\n",
       "      <th>TModB</th>\n",
       "      <th>country</th>\n",
       "    </tr>\n",
       "  </thead>\n",
       "  <tbody>\n",
       "    <tr>\n",
       "      <th>1512169</th>\n",
       "      <td>2022-09-15 02:50:00</td>\n",
       "      <td>0.000</td>\n",
       "      <td>0.000</td>\n",
       "      <td>0.000</td>\n",
       "      <td>0.000</td>\n",
       "      <td>0.000</td>\n",
       "      <td>24.0</td>\n",
       "      <td>100.0</td>\n",
       "      <td>0.0</td>\n",
       "      <td>0.0</td>\n",
       "      <td>0.0</td>\n",
       "      <td>0.0</td>\n",
       "      <td>0.0</td>\n",
       "      <td>1001</td>\n",
       "      <td>0</td>\n",
       "      <td>0.0</td>\n",
       "      <td>24.6</td>\n",
       "      <td>24.8</td>\n",
       "      <td>Sierra Leone</td>\n",
       "    </tr>\n",
       "    <tr>\n",
       "      <th>134487</th>\n",
       "      <td>2022-01-31 09:28:00</td>\n",
       "      <td>5.940</td>\n",
       "      <td>5.815</td>\n",
       "      <td>5.335</td>\n",
       "      <td>6.092</td>\n",
       "      <td>5.950</td>\n",
       "      <td>25.0</td>\n",
       "      <td>74.1</td>\n",
       "      <td>1.5</td>\n",
       "      <td>1.9</td>\n",
       "      <td>0.4</td>\n",
       "      <td>104.1</td>\n",
       "      <td>18.8</td>\n",
       "      <td>1001</td>\n",
       "      <td>0</td>\n",
       "      <td>0.0</td>\n",
       "      <td>33.1</td>\n",
       "      <td>35.3</td>\n",
       "      <td>Benin</td>\n",
       "    </tr>\n",
       "    <tr>\n",
       "      <th>162136</th>\n",
       "      <td>2022-02-19 14:17:00</td>\n",
       "      <td>6.644</td>\n",
       "      <td>5.991</td>\n",
       "      <td>6.025</td>\n",
       "      <td>6.694</td>\n",
       "      <td>6.672</td>\n",
       "      <td>36.4</td>\n",
       "      <td>27.6</td>\n",
       "      <td>4.0</td>\n",
       "      <td>4.9</td>\n",
       "      <td>0.7</td>\n",
       "      <td>62.9</td>\n",
       "      <td>11.5</td>\n",
       "      <td>996</td>\n",
       "      <td>0</td>\n",
       "      <td>0.0</td>\n",
       "      <td>60.3</td>\n",
       "      <td>58.5</td>\n",
       "      <td>Benin</td>\n",
       "    </tr>\n",
       "    <tr>\n",
       "      <th>1450218</th>\n",
       "      <td>2022-08-03 02:19:00</td>\n",
       "      <td>0.000</td>\n",
       "      <td>0.000</td>\n",
       "      <td>0.000</td>\n",
       "      <td>0.000</td>\n",
       "      <td>0.000</td>\n",
       "      <td>22.1</td>\n",
       "      <td>100.0</td>\n",
       "      <td>0.0</td>\n",
       "      <td>0.0</td>\n",
       "      <td>0.0</td>\n",
       "      <td>0.0</td>\n",
       "      <td>0.0</td>\n",
       "      <td>1001</td>\n",
       "      <td>0</td>\n",
       "      <td>0.0</td>\n",
       "      <td>22.5</td>\n",
       "      <td>22.8</td>\n",
       "      <td>Sierra Leone</td>\n",
       "    </tr>\n",
       "    <tr>\n",
       "      <th>345345</th>\n",
       "      <td>2022-06-26 19:46:00</td>\n",
       "      <td>0.000</td>\n",
       "      <td>0.000</td>\n",
       "      <td>0.000</td>\n",
       "      <td>0.000</td>\n",
       "      <td>0.000</td>\n",
       "      <td>26.9</td>\n",
       "      <td>89.3</td>\n",
       "      <td>0.0</td>\n",
       "      <td>0.0</td>\n",
       "      <td>0.0</td>\n",
       "      <td>0.0</td>\n",
       "      <td>0.0</td>\n",
       "      <td>1000</td>\n",
       "      <td>0</td>\n",
       "      <td>0.0</td>\n",
       "      <td>26.2</td>\n",
       "      <td>26.6</td>\n",
       "      <td>Benin</td>\n",
       "    </tr>\n",
       "    <tr>\n",
       "      <th>484908</th>\n",
       "      <td>2022-10-01 17:49:00</td>\n",
       "      <td>3.920</td>\n",
       "      <td>0.095</td>\n",
       "      <td>3.904</td>\n",
       "      <td>3.902</td>\n",
       "      <td>3.865</td>\n",
       "      <td>24.1</td>\n",
       "      <td>94.5</td>\n",
       "      <td>2.9</td>\n",
       "      <td>3.9</td>\n",
       "      <td>0.6</td>\n",
       "      <td>239.4</td>\n",
       "      <td>8.1</td>\n",
       "      <td>999</td>\n",
       "      <td>0</td>\n",
       "      <td>0.0</td>\n",
       "      <td>25.8</td>\n",
       "      <td>26.0</td>\n",
       "      <td>Benin</td>\n",
       "    </tr>\n",
       "    <tr>\n",
       "      <th>586615</th>\n",
       "      <td>2021-12-06 08:56:00</td>\n",
       "      <td>6.290</td>\n",
       "      <td>6.237</td>\n",
       "      <td>5.435</td>\n",
       "      <td>6.390</td>\n",
       "      <td>6.352</td>\n",
       "      <td>27.8</td>\n",
       "      <td>23.8</td>\n",
       "      <td>2.0</td>\n",
       "      <td>3.0</td>\n",
       "      <td>0.7</td>\n",
       "      <td>62.2</td>\n",
       "      <td>12.5</td>\n",
       "      <td>978</td>\n",
       "      <td>0</td>\n",
       "      <td>0.0</td>\n",
       "      <td>37.5</td>\n",
       "      <td>41.7</td>\n",
       "      <td>Togo</td>\n",
       "    </tr>\n",
       "    <tr>\n",
       "      <th>217861</th>\n",
       "      <td>2022-03-30 07:02:00</td>\n",
       "      <td>2.695</td>\n",
       "      <td>0.095</td>\n",
       "      <td>2.715</td>\n",
       "      <td>3.020</td>\n",
       "      <td>2.991</td>\n",
       "      <td>22.3</td>\n",
       "      <td>97.3</td>\n",
       "      <td>0.0</td>\n",
       "      <td>0.0</td>\n",
       "      <td>0.0</td>\n",
       "      <td>0.0</td>\n",
       "      <td>0.0</td>\n",
       "      <td>996</td>\n",
       "      <td>1</td>\n",
       "      <td>0.0</td>\n",
       "      <td>22.4</td>\n",
       "      <td>22.6</td>\n",
       "      <td>Benin</td>\n",
       "    </tr>\n",
       "    <tr>\n",
       "      <th>1232322</th>\n",
       "      <td>2022-03-04 18:43:00</td>\n",
       "      <td>2.067</td>\n",
       "      <td>0.956</td>\n",
       "      <td>2.015</td>\n",
       "      <td>2.728</td>\n",
       "      <td>2.667</td>\n",
       "      <td>32.6</td>\n",
       "      <td>47.2</td>\n",
       "      <td>0.0</td>\n",
       "      <td>0.0</td>\n",
       "      <td>0.0</td>\n",
       "      <td>0.0</td>\n",
       "      <td>0.0</td>\n",
       "      <td>995</td>\n",
       "      <td>0</td>\n",
       "      <td>0.0</td>\n",
       "      <td>32.9</td>\n",
       "      <td>33.1</td>\n",
       "      <td>Sierra Leone</td>\n",
       "    </tr>\n",
       "    <tr>\n",
       "      <th>1391619</th>\n",
       "      <td>2022-06-23 09:40:00</td>\n",
       "      <td>6.207</td>\n",
       "      <td>5.693</td>\n",
       "      <td>5.675</td>\n",
       "      <td>6.093</td>\n",
       "      <td>6.067</td>\n",
       "      <td>24.7</td>\n",
       "      <td>87.1</td>\n",
       "      <td>0.0</td>\n",
       "      <td>0.0</td>\n",
       "      <td>0.0</td>\n",
       "      <td>0.0</td>\n",
       "      <td>0.0</td>\n",
       "      <td>1001</td>\n",
       "      <td>0</td>\n",
       "      <td>0.0</td>\n",
       "      <td>35.3</td>\n",
       "      <td>35.2</td>\n",
       "      <td>Sierra Leone</td>\n",
       "    </tr>\n",
       "  </tbody>\n",
       "</table>\n",
       "</div>"
      ],
      "text/plain": [
       "                   Timestamp    GHI    DNI    DHI   ModA   ModB  Tamb     RH  \\\n",
       "1512169  2022-09-15 02:50:00  0.000  0.000  0.000  0.000  0.000  24.0  100.0   \n",
       "134487   2022-01-31 09:28:00  5.940  5.815  5.335  6.092  5.950  25.0   74.1   \n",
       "162136   2022-02-19 14:17:00  6.644  5.991  6.025  6.694  6.672  36.4   27.6   \n",
       "1450218  2022-08-03 02:19:00  0.000  0.000  0.000  0.000  0.000  22.1  100.0   \n",
       "345345   2022-06-26 19:46:00  0.000  0.000  0.000  0.000  0.000  26.9   89.3   \n",
       "484908   2022-10-01 17:49:00  3.920  0.095  3.904  3.902  3.865  24.1   94.5   \n",
       "586615   2021-12-06 08:56:00  6.290  6.237  5.435  6.390  6.352  27.8   23.8   \n",
       "217861   2022-03-30 07:02:00  2.695  0.095  2.715  3.020  2.991  22.3   97.3   \n",
       "1232322  2022-03-04 18:43:00  2.067  0.956  2.015  2.728  2.667  32.6   47.2   \n",
       "1391619  2022-06-23 09:40:00  6.207  5.693  5.675  6.093  6.067  24.7   87.1   \n",
       "\n",
       "          WS  WSgust  WSstdev     WD  WDstdev    BP  Cleaning  Precipitation  \\\n",
       "1512169  0.0     0.0      0.0    0.0      0.0  1001         0            0.0   \n",
       "134487   1.5     1.9      0.4  104.1     18.8  1001         0            0.0   \n",
       "162136   4.0     4.9      0.7   62.9     11.5   996         0            0.0   \n",
       "1450218  0.0     0.0      0.0    0.0      0.0  1001         0            0.0   \n",
       "345345   0.0     0.0      0.0    0.0      0.0  1000         0            0.0   \n",
       "484908   2.9     3.9      0.6  239.4      8.1   999         0            0.0   \n",
       "586615   2.0     3.0      0.7   62.2     12.5   978         0            0.0   \n",
       "217861   0.0     0.0      0.0    0.0      0.0   996         1            0.0   \n",
       "1232322  0.0     0.0      0.0    0.0      0.0   995         0            0.0   \n",
       "1391619  0.0     0.0      0.0    0.0      0.0  1001         0            0.0   \n",
       "\n",
       "         TModA  TModB       country  \n",
       "1512169   24.6   24.8  Sierra Leone  \n",
       "134487    33.1   35.3         Benin  \n",
       "162136    60.3   58.5         Benin  \n",
       "1450218   22.5   22.8  Sierra Leone  \n",
       "345345    26.2   26.6         Benin  \n",
       "484908    25.8   26.0         Benin  \n",
       "586615    37.5   41.7          Togo  \n",
       "217861    22.4   22.6         Benin  \n",
       "1232322   32.9   33.1  Sierra Leone  \n",
       "1391619   35.3   35.2  Sierra Leone  "
      ]
     },
     "execution_count": 8,
     "metadata": {},
     "output_type": "execute_result"
    }
   ],
   "source": [
    "#inspect the dataframe\n",
    "f.sample(10)"
   ]
  },
  {
   "cell_type": "code",
   "execution_count": 9,
   "id": "7cb7636b",
   "metadata": {},
   "outputs": [],
   "source": [
    "#instantiate classes\n",
    "visualizer=SolarVisualizer(f)\n"
   ]
  },
  {
   "cell_type": "code",
   "execution_count": 10,
   "id": "305757f8",
   "metadata": {},
   "outputs": [
    {
     "data": {
      "text/plain": [
       "(1576800, 19)"
      ]
     },
     "execution_count": 10,
     "metadata": {},
     "output_type": "execute_result"
    }
   ],
   "source": [
    "f.shape"
   ]
  },
  {
   "cell_type": "code",
   "execution_count": 11,
   "id": "10bca58e",
   "metadata": {},
   "outputs": [
    {
     "name": "stdout",
     "output_type": "stream",
     "text": [
      "<class 'pandas.core.frame.DataFrame'>\n",
      "RangeIndex: 1576800 entries, 0 to 1576799\n",
      "Data columns (total 19 columns):\n",
      " #   Column         Non-Null Count    Dtype  \n",
      "---  ------         --------------    -----  \n",
      " 0   Timestamp      1576800 non-null  object \n",
      " 1   GHI            1576800 non-null  float64\n",
      " 2   DNI            1576800 non-null  float64\n",
      " 3   DHI            1576800 non-null  float64\n",
      " 4   ModA           1576800 non-null  float64\n",
      " 5   ModB           1576800 non-null  float64\n",
      " 6   Tamb           1576800 non-null  float64\n",
      " 7   RH             1576800 non-null  float64\n",
      " 8   WS             1576800 non-null  float64\n",
      " 9   WSgust         1576800 non-null  float64\n",
      " 10  WSstdev        1576800 non-null  float64\n",
      " 11  WD             1576800 non-null  float64\n",
      " 12  WDstdev        1576800 non-null  float64\n",
      " 13  BP             1576800 non-null  int64  \n",
      " 14  Cleaning       1576800 non-null  int64  \n",
      " 15  Precipitation  1576800 non-null  float64\n",
      " 16  TModA          1576800 non-null  float64\n",
      " 17  TModB          1576800 non-null  float64\n",
      " 18  country        1576800 non-null  object \n",
      "dtypes: float64(15), int64(2), object(2)\n",
      "memory usage: 228.6+ MB\n"
     ]
    }
   ],
   "source": [
    "f.info()"
   ]
  },
  {
   "cell_type": "markdown",
   "id": "01cf24cc",
   "metadata": {},
   "source": [
    "## 📊 3. Metric Comparison"
   ]
  },
  {
   "cell_type": "markdown",
   "id": "42efd9bd",
   "metadata": {},
   "source": [
    "### ➤ Boxplots"
   ]
  },
  {
   "cell_type": "code",
   "execution_count": 12,
   "id": "82f173d2",
   "metadata": {},
   "outputs": [
    {
     "data": {
      "image/png": "[encoded data removed]",
      "text/plain": [
       "<Figure size 2000x600 with 3 Axes>"
      ]
     },
     "metadata": {},
     "output_type": "display_data"
    }
   ],
   "source": [
    "#Create three side-by-side boxplots (use col='metric' if using FacetGrid or three subplots manually):\n",
    "visualizer.plot_boxplots_comparison()"
   ]
  },
  {
   "cell_type": "markdown",
   "id": "aa23e36f",
   "metadata": {},
   "source": [
    "\n",
    "<div style=\"border-radius:10px; border:orange solid; padding: 15px; font-size:100%; text-align:left; font-color:#325939;background-color:#2c2c2c\">\n",
    "<h3 align=\"left\"><font color='orange'>💡Key Observations</font></h3>\n",
    "\n",
    "\n",
    "#### 🌍 Global Horizontal Irradiance (GHI)\n",
    "- **Togo** has the highest **median and peak GHI**, indicating strong solar availability.\n",
    "- **Benin** and **Sierra Leone** have slightly lower but similar GHI distributions.\n",
    "- Variability is comparable across all three.\n",
    "\n",
    "#### 🔆 Direct Normal Irradiance (DNI)\n",
    "- **Togo** leads with the **highest median and maximum DNI**.\n",
    "- **Benin** and **Sierra Leone** show similar, lower levels.\n",
    "- This gives Togo an edge for technologies using direct sunlight (e.g., CSP).\n",
    "\n",
    "#### ☁️ Diffuse Horizontal Irradiance (DHI)\n",
    "- All three countries show **similar median and spread**, indicating comparable diffuse sunlight levels.\n",
    "\n",
    "---\n",
    "\n",
    "### ✅ Country Suitability for Solar Investment\n",
    "\n",
    "| Country       | Summary                                                                 |\n",
    "|---------------|-------------------------------------------------------------------------|\n",
    "| **🇹🇬 Togo**       | 🌟 Most promising overall. Strong GHI & DNI. Ideal for fixed & tracking systems. |\n",
    "| **🇧🇯 Benin**      | 👍 Good potential. Slightly lower DNI than Togo, but competitive GHI.          |\n",
    "| **🇸🇱 Sierra Leone** | ⚠️ Feasible, but with lower GHI & DNI. May require more efficient tech or support. |\n",
    "\n",
    "---\n",
    "\n",
    "### 📌 Conclusion\n",
    "\n",
    "**Togo** From this graph alone Togo seems to stand out as the best candidate for solar investment, due to its high levels of both **total** and **direct** irradiance. **Benin** is a strong secondary option, while **Sierra Leone** may require more tailored solutions.\n"
   ]
  },
  {
   "cell_type": "markdown",
   "id": "36231824",
   "metadata": {},
   "source": [
    "## 📋 4. Summary Table"
   ]
  },
  {
   "cell_type": "code",
   "execution_count": 14,
   "id": "4727970d",
   "metadata": {},
   "outputs": [
    {
     "data": {
      "text/html": [
       "<div>\n",
       "<style scoped>\n",
       "    .dataframe tbody tr th:only-of-type {\n",
       "        vertical-align: middle;\n",
       "    }\n",
       "\n",
       "    .dataframe tbody tr th {\n",
       "        vertical-align: top;\n",
       "    }\n",
       "\n",
       "    .dataframe thead tr th {\n",
       "        text-align: left;\n",
       "    }\n",
       "\n",
       "    .dataframe thead tr:last-of-type th {\n",
       "        text-align: right;\n",
       "    }\n",
       "</style>\n",
       "<table border=\"1\" class=\"dataframe\">\n",
       "  <thead>\n",
       "    <tr>\n",
       "      <th></th>\n",
       "      <th colspan=\"3\" halign=\"left\">GHI</th>\n",
       "      <th colspan=\"3\" halign=\"left\">DNI</th>\n",
       "      <th colspan=\"3\" halign=\"left\">DHI</th>\n",
       "    </tr>\n",
       "    <tr>\n",
       "      <th></th>\n",
       "      <th>mean</th>\n",
       "      <th>median</th>\n",
       "      <th>std</th>\n",
       "      <th>mean</th>\n",
       "      <th>median</th>\n",
       "      <th>std</th>\n",
       "      <th>mean</th>\n",
       "      <th>median</th>\n",
       "      <th>std</th>\n",
       "    </tr>\n",
       "    <tr>\n",
       "      <th>country</th>\n",
       "      <th></th>\n",
       "      <th></th>\n",
       "      <th></th>\n",
       "      <th></th>\n",
       "      <th></th>\n",
       "      <th></th>\n",
       "      <th></th>\n",
       "      <th></th>\n",
       "      <th></th>\n",
       "    </tr>\n",
       "  </thead>\n",
       "  <tbody>\n",
       "    <tr>\n",
       "      <th>Benin</th>\n",
       "      <td>2.78</td>\n",
       "      <td>1.22</td>\n",
       "      <td>2.87</td>\n",
       "      <td>1.89</td>\n",
       "      <td>0.0</td>\n",
       "      <td>2.58</td>\n",
       "      <td>2.54</td>\n",
       "      <td>0.74</td>\n",
       "      <td>2.65</td>\n",
       "    </tr>\n",
       "    <tr>\n",
       "      <th>Sierra Leone</th>\n",
       "      <td>2.78</td>\n",
       "      <td>1.22</td>\n",
       "      <td>2.87</td>\n",
       "      <td>1.89</td>\n",
       "      <td>0.0</td>\n",
       "      <td>2.58</td>\n",
       "      <td>2.54</td>\n",
       "      <td>0.74</td>\n",
       "      <td>2.65</td>\n",
       "    </tr>\n",
       "    <tr>\n",
       "      <th>Togo</th>\n",
       "      <td>2.87</td>\n",
       "      <td>1.78</td>\n",
       "      <td>2.95</td>\n",
       "      <td>2.17</td>\n",
       "      <td>0.0</td>\n",
       "      <td>2.77</td>\n",
       "      <td>2.58</td>\n",
       "      <td>1.25</td>\n",
       "      <td>2.65</td>\n",
       "    </tr>\n",
       "  </tbody>\n",
       "</table>\n",
       "</div>"
      ],
      "text/plain": [
       "               GHI                DNI                DHI             \n",
       "              mean median   std  mean median   std  mean median   std\n",
       "country                                                              \n",
       "Benin         2.78   1.22  2.87  1.89    0.0  2.58  2.54   0.74  2.65\n",
       "Sierra Leone  2.78   1.22  2.87  1.89    0.0  2.58  2.54   0.74  2.65\n",
       "Togo          2.87   1.78  2.95  2.17    0.0  2.77  2.58   1.25  2.65"
      ]
     },
     "execution_count": 14,
     "metadata": {},
     "output_type": "execute_result"
    }
   ],
   "source": [
    "#Use groupby for mean, median, std:\n",
    "summary = f.groupby('country')[['GHI', 'DNI', 'DHI']].agg(['mean', 'median', 'std']).round(2)\n",
    "summary"
   ]
  },
  {
   "cell_type": "markdown",
   "id": "9a53dda0",
   "metadata": {},
   "source": [
    "## 📐 5. Statistical Test"
   ]
  },
  {
   "cell_type": "code",
   "execution_count": 15,
   "id": "491b9267",
   "metadata": {},
   "outputs": [
    {
     "name": "stdout",
     "output_type": "stream",
     "text": [
      "ANOVA F-statistic: 163.54, p-value: 0.0000\n"
     ]
    }
   ],
   "source": [
    "# ANOVA (parametric)\n",
    "f_stat, p_val = f_oneway(\n",
    "    benin['GHI'].dropna(),\n",
    "    togo['GHI'].dropna(),\n",
    "    sl['GHI'].dropna()\n",
    ")\n",
    "print(f\"ANOVA F-statistic: {f_stat:.2f}, p-value: {p_val:.4f}\")"
   ]
  },
  {
   "cell_type": "code",
   "execution_count": 16,
   "id": "936594cd",
   "metadata": {},
   "outputs": [
    {
     "name": "stdout",
     "output_type": "stream",
     "text": [
      "Kruskal-Wallis H-statistic: 428.27, p-value: 0.0000\n"
     ]
    }
   ],
   "source": [
    "\n",
    "# Kruskal-Wallis (non-parametric)\n",
    "h_stat, kw_p_val = kruskal(\n",
    "    benin['GHI'].dropna(),\n",
    "    togo['GHI'].dropna(),\n",
    "    sl['GHI'].dropna()\n",
    ")\n",
    "print(f\"Kruskal-Wallis H-statistic: {h_stat:.2f}, p-value: {kw_p_val:.4f}\")"
   ]
  },
  {
   "cell_type": "markdown",
   "id": "00146ba9",
   "metadata": {},
   "source": [
    "<div style=\"border-radius:10px; border:orange solid; padding: 15px; font-size:100%; text-align:left; font-color:#325939;background-color:#2c2c2c\">\n",
    "<h3 align=\"left\"><font color='orange'>💡Key Observations in Statistical Significance of GHI Differences</font></h3>\n",
    "Both tests indicate that the differences in GHI between the three countries are <b><i>highly statistically significant</i></b>.\n",
    "\n",
    "However, it is important to note that the **sample size exceeds 1.5 million records**, which greatly increases statistical power. This means that even **small differences** in GHI values may result in **very low p-values**, potentially overstating their practical significance.\n",
    "\n",
    "🧠 **Insight**: While the statistical tests confirm that GHI differs between countries, further analysis should consider the **magnitude** of those differences and their **real-world impact** on solar energy potential before drawing conclusions.\n"
   ]
  },
  {
   "cell_type": "markdown",
   "id": "437e1c9e",
   "metadata": {},
   "source": [
    "## 📊 6. Visual Summary: Average GHI per Country"
   ]
  },
  {
   "cell_type": "code",
   "execution_count": 17,
   "id": "d198f0d3",
   "metadata": {},
   "outputs": [
    {
     "data": {
      "image/png": "[encoded data removed]",
      "text/plain": [
       "<Figure size 640x480 with 1 Axes>"
      ]
     },
     "metadata": {},
     "output_type": "display_data"
    }
   ],
   "source": [
    " # Average GHI per Countr\n",
    "visualizer.plot_avg_ghi_by_country()"
   ]
  },
  {
   "cell_type": "markdown",
   "id": "dc6805af",
   "metadata": {},
   "source": [
    "## 🧠 7. Key Observations"
   ]
  },
  {
   "cell_type": "markdown",
   "id": "bf9e7134",
   "metadata": {},
   "source": [
    "<div style=\"border-radius:10px; border:orange solid; padding: 15px; font-size:100%; text-align:left; font-color:#325939;background-color:#2c2c2c\">\n",
    "<h3 align=\"left\"><font color='orange'>💡Solar Potential Insights Summary</font></h3>\n",
    "\n",
    "- **Togo 🇹🇬 leads in solar potential**, with the highest median and peak values in both Global Horizontal Irradiance (GHI) and Direct Normal Irradiance (DNI), making it ideal for both fixed and tracking PV systems.\n",
    "\n",
    "- **Benin 🇧🇯 shows solid potential**, with slightly lower but still competitive GHI and DNI values compared to Togo, supporting viable solar energy investments.\n",
    "\n",
    "- **Sierra Leone 🇸🇱 lags slightly behind**, with lower GHI and DNI values; while still feasible for solar projects, it may require more efficient or adaptive technologies for optimal returns.\n"
   ]
  },
  {
   "cell_type": "markdown",
   "id": "760f4189",
   "metadata": {},
   "source": [
    "\n",
    "<div style=\"border-radius:10px; border:orange solid; padding: 15px; font-size:100%; text-align:left; font-color:#325939;background-color:#2c2c2c\">\n",
    "<h3 align=\"left\"><font color='orange'>✅ Recommendations</font></h3>\n",
    "\n",
    "Based on the comparative analysis of Global Horizontal Irradiance (GHI), Direct Normal Irradiance (DNI), and Diffuse Horizontal Irradiance (DHI) across Benin, Togo, and Sierra Leone, the following recommendations are proposed:\n",
    "\n",
    "- **🇹🇬 Prioritize Solar Investments in Togo**\n",
    "  - Togo consistently ranks highest in GHI and DNI, making it the most promising candidate for both **fixed-tilt** and **tracking/concentrated solar technologies**.\n",
    "  - Recommended for large-scale deployment of solar farms and CSP infrastructure.\n",
    "\n",
    "- **🇧🇯 Consider Benin for Secondary Expansion**\n",
    "  - Benin exhibits strong solar metrics, particularly in GHI, and presents a reliable environment for **photovoltaic (PV)** installations.\n",
    "  - Suitable for phased investment or pilot programs to validate longer-term scalability.\n",
    "\n",
    "- **🇸🇱 Approach Sierra Leone with Caution**\n",
    "  - While DHI levels are on par with other countries, the comparatively lower GHI and DNI suggest reduced efficiency for traditional solar setups.\n",
    "  - Investments should focus on **high-efficiency systems** or be supported by **hybrid solutions** and **policy incentives**.\n",
    "\n",
    "- **⚠️ Consider Practical Factors Beyond Irradiance**\n",
    "  - Further due diligence should evaluate infrastructure readiness, grid capacity, regulatory environment, and maintenance logistics.\n",
    "  - Statistical significance should be balanced with **practical impact and ROI**.\n",
    "\n",
    "> 🧠 *Note: Although the results are statistically significant (p < 0.0001), the large dataset (1.5M+ rows) may inflate the sensitivity of tests. Focus should remain on **practical advantages** over purely statistical ones.*\n"
   ]
  }
 ],
 "metadata": {
  "kernelspec": {
   "display_name": "venv",
   "language": "python",
   "name": "python3"
  },
  "language_info": {
   "codemirror_mode": {
    "name": "ipython",
    "version": 3
   },
   "file_extension": ".py",
   "mimetype": "text/x-python",
   "name": "python",
   "nbconvert_exporter": "python",
   "pygments_lexer": "ipython3",
   "version": "3.10.12"
  }
 },
 "nbformat": 4,
 "nbformat_minor": 5
}
