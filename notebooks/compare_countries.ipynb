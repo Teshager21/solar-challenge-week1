{
 "cells": [
  {
   "cell_type": "markdown",
   "id": "49eb83cb",
   "metadata": {},
   "source": [
    "# 🌞 MoonLight Energy Solutions Solar Investment Analysis — Cross-Country Comparison\n",
    "\n",
    "## Benin 🇧🇯 • Sierra Leone 🇸🇱 • Togo 🇹🇬  \n",
    "*Evaluating Global Horizontal Irradiance (GHI), Direct Normal Irradiance (DNI), and Diffuse Horizontal Irradiance (DHI) for strategic solar deployment.*\n"
   ]
  },
  {
   "cell_type": "code",
   "execution_count": null,
   "id": "897fcb95",
   "metadata": {},
   "outputs": [],
   "source": [
    "#imports\n",
    "import pandas as pd\n",
    "import matplotlib.pyplot as plt\n",
    "import seaborn as sns\n",
    "from scipy.stats import f_oneway, kruskal"
   ]
  }
 ],
 "metadata": {
  "kernelspec": {
   "display_name": "venv",
   "language": "python",
   "name": "python3"
  },
  "language_info": {
   "name": "python",
   "version": "3.10.12"
  }
 },
 "nbformat": 4,
 "nbformat_minor": 5
}
