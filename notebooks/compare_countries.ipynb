{
 "cells": [
  {
   "cell_type": "markdown",
   "id": "49eb83cb",
   "metadata": {},
   "source": [
    "# 🌍 Solar Potential Comparison: Benin 🇧🇯 | Sierra Leone 🇸🇱 | Togo 🇹🇬\n",
    "\n",
    "*Evaluating Global Horizontal Irradiance (GHI), Direct Normal Irradiance (DNI), and Diffuse Horizontal Irradiance (DHI) for strategic solar deployment.*\n"
   ]
  },
  {
   "cell_type": "code",
   "execution_count": 2,
   "id": "897fcb95",
   "metadata": {},
   "outputs": [],
   "source": [
    "#imports\n",
    "import pandas as pd\n",
    "import matplotlib.pyplot as plt\n",
    "import seaborn as sns\n",
    "from scipy.stats import f_oneway, kruskal\n",
    "import warnings"
   ]
  },
  {
   "cell_type": "code",
   "execution_count": 3,
   "id": "5ab8f9d9",
   "metadata": {},
   "outputs": [],
   "source": [
    "#suppress all warnings\n",
    "warnings.filterwarnings(\"ignore\")"
   ]
  },
  {
   "cell_type": "markdown",
   "id": "f34d9ef4",
   "metadata": {},
   "source": [
    "\n",
    "\n",
    "## 📌 Introduction\n",
    "\n",
    "Welcome to the **Cross-Country Solar Potential Analysis** — a project developed as part of the **10 Academy Week 1 Challenge** for candidates aspiring to join the 12-week intensive training in:\n",
    "\n",
    "- 🛠️ **Data Engineering (DE)**\n",
    "- 📊 **Financial Analytics (FA)**\n",
    "- 🤖 **Machine Learning Engineering (MLE)**\n",
    "\n",
    "This notebook focuses on **analyzing and comparing solar radiation data** from three West African countries: **Benin**, **Sierra Leone**, and **Togo**. Using exploratory data analysis, statistical comparisons, and visualization techniques, we aim to:\n",
    "\n",
    "- Assess **solar energy potential** across countries,\n",
    "- Identify key **variations and patterns**, and\n",
    "- Deliver **insights** to guide strategic solar investments for **MoonLight Energy Solutions**.\n",
    "\n",
    "---"
   ]
  },
  {
   "cell_type": "markdown",
   "id": "7cfc1b9f",
   "metadata": {},
   "source": [
    "## 🧭 Background\n",
    "\n",
    "🌞 **MoonLight Energy Solutions** is on a mission to scale clean energy deployment by identifying the most promising regions for **solar installation**. This project supports that mission by evaluating environmental data collected in **Benin**, **Sierra Leone**, and **Togo**, including:\n",
    "\n",
    "- ☀️ **GHI (Global Horizontal Irradiance)** – Total solar radiation on a horizontal surface\n",
    "- 🔆 **DNI (Direct Normal Irradiance)** – Direct solar radiation perpendicular to the sun’s rays\n",
    "- 🌤️ **DHI (Diffuse Horizontal Irradiance)** – Solar radiation received indirectly\n",
    "\n",
    "Other recorded environmental variables include **air temperature**, **humidity**, **wind speed**, **precipitation**, and **sensor cleaning events**.\n",
    "\n",
    "📈 This notebook will:\n",
    "- Visualize solar metrics across countries using **boxplots** and **bar charts**\n",
    "- Compare country-level averages with a **summary statistics table**\n",
    "- Run statistical tests like **ANOVA** or **Kruskal–Wallis** to check for significant differences\n",
    "- Summarize key takeaways to support **data-driven decision-making**\n",
    "\n",
    "---\n"
   ]
  }
 ],
 "metadata": {
  "kernelspec": {
   "display_name": "venv",
   "language": "python",
   "name": "python3"
  },
  "language_info": {
   "codemirror_mode": {
    "name": "ipython",
    "version": 3
   },
   "file_extension": ".py",
   "mimetype": "text/x-python",
   "name": "python",
   "nbconvert_exporter": "python",
   "pygments_lexer": "ipython3",
   "version": "3.10.12"
  }
 },
 "nbformat": 4,
 "nbformat_minor": 5
}
