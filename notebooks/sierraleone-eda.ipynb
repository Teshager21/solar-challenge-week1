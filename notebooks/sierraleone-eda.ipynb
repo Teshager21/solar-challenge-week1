{
 "cells": [
  {
   "cell_type": "markdown",
   "id": "d97795a3",
   "metadata": {},
   "source": [
    "# 🌞 MoonLight Energy Solutions: Solar Investment Analysis   — Benin 🇧🇯"
   ]
  },
  {
   "cell_type": "code",
   "execution_count": 1,
   "id": "c64a2780",
   "metadata": {},
   "outputs": [],
   "source": [
    "#all imports\n",
    "import pandas as pd\n",
    "import numpy as np\n",
    "import matplotlib.pyplot as plt\n",
    "import seaborn as sns\n",
    "import os\n",
    "import sys\n",
    "sys.path.append('../scripts')\n",
    "import warnings\n",
    "# from scipy.stats import zscore\n",
    "from data_quality_utils import columns_with_significant_missing_values,detect_outliers_zscore,find_columns_with_invalid_values, conditional_impute,impute_multiple_targets_with_model,impute_ghi_with_linear_regression,replace_negative_irradiance_with_nan\n",
    "from visualization_utils import plot_continuous_histograms, plot_scatter_relationships,plot_rh_relationships,plot_bubble_ghi_vs_tamb,plot_mod_cleaning_effect,plot_irradiance_temperature_timeseries,plot_hourly_irradiance_temperature, plot_monthly_irradiance_temperature,plot_ghi_anomalies,plot_wind_rose,plot_correlation_heatmap,plot_pairplot\n",
    "from feature_engineering_utils import log_transform_columns\n",
    "from windrose import WindroseAxes"
   ]
  },
  {
   "cell_type": "code",
   "execution_count": 2,
   "id": "f28232d7",
   "metadata": {},
   "outputs": [],
   "source": [
    "#suppress all warnings\n",
    "warnings.filterwarnings(\"ignore\")"
   ]
  },
  {
   "cell_type": "markdown",
   "id": "d5736fe7",
   "metadata": {},
   "source": [
    "## 📚 Table of Contents\n",
    "\n",
    "1. [📊 Introduction & Objective](#1-introduction--objective)\n",
    "2. [📦 Data Loading & Overview](#2-data-loading--overview)\n",
    "3. [📐 Data Types & Basic Stats](#3-data-types--basic-stats)\n",
    "4. [🔍 Data Quality Analysis](#4-data-quality-analysis)\n",
    "5. [🧹 Data Cleaning](#5-data-cleaning)\n",
    "6. [📈 Univariate Analysis (Single Variable)](#6-univariate-analysis-single-variable)\n",
    "7. [📉 Bivariate/Multivariate Analysis](#7-bivariatemultivariate-analysis)\n",
    "8. [🧮 Feature Engineering](#8-feature-engineering)\n",
    "9. [📅 Time Series Trends](#9-time-series-trends)\n",
    "10. [🧠 Key Insights](#10-key-insights)\n",
    "11. [🔚 Conclusion & Next Steps](#11-conclusion--next-steps)"
   ]
  },
  {
   "cell_type": "markdown",
   "id": "cd5bc349",
   "metadata": {},
   "source": [
    "## 📊 1. Introduction & Objective <a id='#1-introduction--objective'></a>"
   ]
  },
  {
   "cell_type": "markdown",
   "id": "fab041df",
   "metadata": {},
   "source": [
    "### Background in the Subject Matter\n",
    "\n",
    "Understanding lead and lag measures is crucial in solar energy analytics to identify what drives performance (lead) and what reflects performance outcomes (lag).\n",
    "\n",
    "---\n",
    "\n",
    "#### 🔹 Lead Measures\n",
    "\n",
    "| Parameter         | Description |\n",
    "|------------------|-------------|\n",
    "| **Cleaning (1/0)** | Indicates whether a cleaning event occurred. A direct action that can influence panel efficiency. |\n",
    "| **Precipitation (mm/min)** | Natural cleaning mechanism. Affects panel cleanliness and performance. |\n",
    "| **RH (Relative Humidity)** | Can contribute to soiling or panel fogging. A predictive factor for efficiency. |\n",
    "| **WS (Wind Speed)** | Can help remove dust/debris. High wind may act as a natural cleaning factor. |\n",
    "| **TModA / TModB (°C)** | Module temperatures. Impact the conversion efficiency — monitored to optimize performance. |\n",
    "\n",
    "\n",
    "\n",
    "#### 🔹 Lag Measures\n",
    "\n",
    "| Parameter         | Description |\n",
    "|------------------|-------------|\n",
    "| **GHI (Global Horizontal Irradiance)** | Total solar radiation on a horizontal surface — reflects solar availability. |\n",
    "| **DNI (Direct Normal Irradiance)** | Direct solar radiation received perpendicularly — outcome of atmospheric conditions. |\n",
    "| **DHI (Diffuse Horizontal Irradiance)** | Scattered sunlight received — indicates sky clarity. |\n",
    "| **ModA / ModB (W/m²)** | Actual power received by panels — outcome of environmental and maintenance factors. |\n",
    "| **Tamb (Ambient Temperature)** | Environmental factor — affects efficiency but cannot be controlled. |\n",
    "| **BP (Barometric Pressure)** | Reflects atmospheric conditions — no direct control. |\n",
    "| **WD / WDstdev** | Wind direction and its variability — background environmental effects. |\n",
    "| **WSstdev / WSgust** | Wind variability and gusts — lag indicators of natural impacts. |\n",
    "\n"
   ]
  },
  {
   "cell_type": "markdown",
   "id": "6526f6c2",
   "metadata": {},
   "source": [
    "### 🇧🇯 Background on Benin"
   ]
  },
  {
   "cell_type": "markdown",
   "id": "d675c529",
   "metadata": {},
   "source": [
    "#### ☀️ Solar Power Potential of Sierra Leone\n",
    "Sierra Leone is located in West Africa, between latitudes 7° and 10° North of the Equator. \n",
    "Sierra Leone, located near the equator in West Africa, has significant untapped solar energy potential. With average Global Horizontal Irradiance (GHI) levels ranging from 4.5 to 5.5 kWh/m²/day, the country receives consistent and abundant sunlight throughout the year. This makes it highly suitable for solar photovoltaic (PV) energy generation, especially in rural and off-grid regions. "
   ]
  },
  {
   "cell_type": "markdown",
   "id": "2b5b059c",
   "metadata": {},
   "source": [
    "### 🎯 Business Objective\n",
    "\n",
    "- Perform a quick yet insightful analysis of solar radiation and environmental data to:\n",
    "- Identify **key trends and performance drivers**.\n",
    "- Understand the **impact of environmental conditions** on solar energy potential.\n",
    "- Evaluate the **effect of soiling and cleaning** on solar module performance.\n",
    "- Recommend **ideal conditions or locations** for sustainable solar installations."
   ]
  },
  {
   "cell_type": "markdown",
   "id": "c718d221",
   "metadata": {},
   "source": [
    "\n",
    "### 🧠 Key Questions to Explore\n",
    "\n",
    "1. **Solar Potential**  \n",
    "   - Where and when is solar radiation (`GHI`, `DNI`, `DHI`) strongest and most consistent?\n",
    "\n",
    "2. **Environmental Impact on Performance**  \n",
    "   - How do temperature, humidity, wind, and pressure affect solar metrics?\n",
    "\n",
    "3. **Sensor/Module Performance**  \n",
    "   - How do `ModA` and `ModB` correlate with irradiance data?\n",
    "   - Are performance improvements observed after cleaning?\n",
    "\n",
    "4. **Cleaning Effectiveness**  \n",
    "   - What is the impact of cleaning events on solar performance?\n",
    "   - Can a cleaning schedule be recommended?"
   ]
  },
  {
   "cell_type": "markdown",
   "id": "34a4be9a",
   "metadata": {},
   "source": [
    "## 📦 2. Data Loading & Overview  <a id= '2-data-loading--overview'></a>"
   ]
  },
  {
   "cell_type": "markdown",
   "id": "763c41be",
   "metadata": {},
   "source": [
    "#### Loading Data"
   ]
  },
  {
   "cell_type": "code",
   "execution_count": 3,
   "id": "3b1ac4d4",
   "metadata": {},
   "outputs": [
    {
     "data": {
      "text/html": [
       "<div>\n",
       "<style scoped>\n",
       "    .dataframe tbody tr th:only-of-type {\n",
       "        vertical-align: middle;\n",
       "    }\n",
       "\n",
       "    .dataframe tbody tr th {\n",
       "        vertical-align: top;\n",
       "    }\n",
       "\n",
       "    .dataframe thead th {\n",
       "        text-align: right;\n",
       "    }\n",
       "</style>\n",
       "<table border=\"1\" class=\"dataframe\">\n",
       "  <thead>\n",
       "    <tr style=\"text-align: right;\">\n",
       "      <th></th>\n",
       "      <th>Timestamp</th>\n",
       "      <th>GHI</th>\n",
       "      <th>DNI</th>\n",
       "      <th>DHI</th>\n",
       "      <th>ModA</th>\n",
       "      <th>ModB</th>\n",
       "      <th>Tamb</th>\n",
       "      <th>RH</th>\n",
       "      <th>WS</th>\n",
       "      <th>WSgust</th>\n",
       "      <th>WSstdev</th>\n",
       "      <th>WD</th>\n",
       "      <th>WDstdev</th>\n",
       "      <th>BP</th>\n",
       "      <th>Cleaning</th>\n",
       "      <th>Precipitation</th>\n",
       "      <th>TModA</th>\n",
       "      <th>TModB</th>\n",
       "      <th>Comments</th>\n",
       "    </tr>\n",
       "  </thead>\n",
       "  <tbody>\n",
       "    <tr>\n",
       "      <th>0</th>\n",
       "      <td>2021-10-30 00:01</td>\n",
       "      <td>-0.7</td>\n",
       "      <td>-0.1</td>\n",
       "      <td>-0.8</td>\n",
       "      <td>0.0</td>\n",
       "      <td>0.0</td>\n",
       "      <td>21.9</td>\n",
       "      <td>99.1</td>\n",
       "      <td>0.0</td>\n",
       "      <td>0.0</td>\n",
       "      <td>0.0</td>\n",
       "      <td>0.0</td>\n",
       "      <td>0.0</td>\n",
       "      <td>1002</td>\n",
       "      <td>0</td>\n",
       "      <td>0.0</td>\n",
       "      <td>22.3</td>\n",
       "      <td>22.6</td>\n",
       "      <td>NaN</td>\n",
       "    </tr>\n",
       "    <tr>\n",
       "      <th>1</th>\n",
       "      <td>2021-10-30 00:02</td>\n",
       "      <td>-0.7</td>\n",
       "      <td>-0.1</td>\n",
       "      <td>-0.8</td>\n",
       "      <td>0.0</td>\n",
       "      <td>0.0</td>\n",
       "      <td>21.9</td>\n",
       "      <td>99.2</td>\n",
       "      <td>0.0</td>\n",
       "      <td>0.0</td>\n",
       "      <td>0.0</td>\n",
       "      <td>0.0</td>\n",
       "      <td>0.0</td>\n",
       "      <td>1002</td>\n",
       "      <td>0</td>\n",
       "      <td>0.0</td>\n",
       "      <td>22.3</td>\n",
       "      <td>22.6</td>\n",
       "      <td>NaN</td>\n",
       "    </tr>\n",
       "    <tr>\n",
       "      <th>2</th>\n",
       "      <td>2021-10-30 00:03</td>\n",
       "      <td>-0.7</td>\n",
       "      <td>-0.1</td>\n",
       "      <td>-0.8</td>\n",
       "      <td>0.0</td>\n",
       "      <td>0.0</td>\n",
       "      <td>21.9</td>\n",
       "      <td>99.2</td>\n",
       "      <td>0.0</td>\n",
       "      <td>0.0</td>\n",
       "      <td>0.0</td>\n",
       "      <td>0.0</td>\n",
       "      <td>0.0</td>\n",
       "      <td>1002</td>\n",
       "      <td>0</td>\n",
       "      <td>0.0</td>\n",
       "      <td>22.3</td>\n",
       "      <td>22.6</td>\n",
       "      <td>NaN</td>\n",
       "    </tr>\n",
       "    <tr>\n",
       "      <th>3</th>\n",
       "      <td>2021-10-30 00:04</td>\n",
       "      <td>-0.7</td>\n",
       "      <td>0.0</td>\n",
       "      <td>-0.8</td>\n",
       "      <td>0.0</td>\n",
       "      <td>0.0</td>\n",
       "      <td>21.9</td>\n",
       "      <td>99.3</td>\n",
       "      <td>0.0</td>\n",
       "      <td>0.0</td>\n",
       "      <td>0.0</td>\n",
       "      <td>0.0</td>\n",
       "      <td>0.0</td>\n",
       "      <td>1002</td>\n",
       "      <td>0</td>\n",
       "      <td>0.1</td>\n",
       "      <td>22.3</td>\n",
       "      <td>22.6</td>\n",
       "      <td>NaN</td>\n",
       "    </tr>\n",
       "    <tr>\n",
       "      <th>4</th>\n",
       "      <td>2021-10-30 00:05</td>\n",
       "      <td>-0.7</td>\n",
       "      <td>-0.1</td>\n",
       "      <td>-0.8</td>\n",
       "      <td>0.0</td>\n",
       "      <td>0.0</td>\n",
       "      <td>21.9</td>\n",
       "      <td>99.3</td>\n",
       "      <td>0.0</td>\n",
       "      <td>0.0</td>\n",
       "      <td>0.0</td>\n",
       "      <td>0.0</td>\n",
       "      <td>0.0</td>\n",
       "      <td>1002</td>\n",
       "      <td>0</td>\n",
       "      <td>0.0</td>\n",
       "      <td>22.3</td>\n",
       "      <td>22.6</td>\n",
       "      <td>NaN</td>\n",
       "    </tr>\n",
       "    <tr>\n",
       "      <th>...</th>\n",
       "      <td>...</td>\n",
       "      <td>...</td>\n",
       "      <td>...</td>\n",
       "      <td>...</td>\n",
       "      <td>...</td>\n",
       "      <td>...</td>\n",
       "      <td>...</td>\n",
       "      <td>...</td>\n",
       "      <td>...</td>\n",
       "      <td>...</td>\n",
       "      <td>...</td>\n",
       "      <td>...</td>\n",
       "      <td>...</td>\n",
       "      <td>...</td>\n",
       "      <td>...</td>\n",
       "      <td>...</td>\n",
       "      <td>...</td>\n",
       "      <td>...</td>\n",
       "      <td>...</td>\n",
       "    </tr>\n",
       "    <tr>\n",
       "      <th>525595</th>\n",
       "      <td>2022-10-29 23:56</td>\n",
       "      <td>-1.6</td>\n",
       "      <td>-0.1</td>\n",
       "      <td>-2.9</td>\n",
       "      <td>0.0</td>\n",
       "      <td>0.0</td>\n",
       "      <td>24.0</td>\n",
       "      <td>100.0</td>\n",
       "      <td>0.0</td>\n",
       "      <td>0.0</td>\n",
       "      <td>0.0</td>\n",
       "      <td>0.0</td>\n",
       "      <td>0.0</td>\n",
       "      <td>999</td>\n",
       "      <td>0</td>\n",
       "      <td>0.0</td>\n",
       "      <td>24.2</td>\n",
       "      <td>24.5</td>\n",
       "      <td>NaN</td>\n",
       "    </tr>\n",
       "    <tr>\n",
       "      <th>525596</th>\n",
       "      <td>2022-10-29 23:57</td>\n",
       "      <td>-1.7</td>\n",
       "      <td>-0.1</td>\n",
       "      <td>-3.0</td>\n",
       "      <td>0.0</td>\n",
       "      <td>0.0</td>\n",
       "      <td>24.0</td>\n",
       "      <td>100.0</td>\n",
       "      <td>0.0</td>\n",
       "      <td>0.0</td>\n",
       "      <td>0.0</td>\n",
       "      <td>0.0</td>\n",
       "      <td>0.0</td>\n",
       "      <td>999</td>\n",
       "      <td>0</td>\n",
       "      <td>0.0</td>\n",
       "      <td>24.2</td>\n",
       "      <td>24.5</td>\n",
       "      <td>NaN</td>\n",
       "    </tr>\n",
       "    <tr>\n",
       "      <th>525597</th>\n",
       "      <td>2022-10-29 23:58</td>\n",
       "      <td>-1.7</td>\n",
       "      <td>-0.1</td>\n",
       "      <td>-3.1</td>\n",
       "      <td>0.0</td>\n",
       "      <td>0.0</td>\n",
       "      <td>24.0</td>\n",
       "      <td>100.0</td>\n",
       "      <td>0.0</td>\n",
       "      <td>0.0</td>\n",
       "      <td>0.0</td>\n",
       "      <td>0.0</td>\n",
       "      <td>0.0</td>\n",
       "      <td>1000</td>\n",
       "      <td>0</td>\n",
       "      <td>0.0</td>\n",
       "      <td>24.1</td>\n",
       "      <td>24.4</td>\n",
       "      <td>NaN</td>\n",
       "    </tr>\n",
       "    <tr>\n",
       "      <th>525598</th>\n",
       "      <td>2022-10-29 23:59</td>\n",
       "      <td>-1.7</td>\n",
       "      <td>-0.2</td>\n",
       "      <td>-3.3</td>\n",
       "      <td>0.0</td>\n",
       "      <td>0.0</td>\n",
       "      <td>23.9</td>\n",
       "      <td>100.0</td>\n",
       "      <td>0.0</td>\n",
       "      <td>0.0</td>\n",
       "      <td>0.0</td>\n",
       "      <td>0.0</td>\n",
       "      <td>0.0</td>\n",
       "      <td>1000</td>\n",
       "      <td>0</td>\n",
       "      <td>0.0</td>\n",
       "      <td>24.1</td>\n",
       "      <td>24.4</td>\n",
       "      <td>NaN</td>\n",
       "    </tr>\n",
       "    <tr>\n",
       "      <th>525599</th>\n",
       "      <td>2022-10-30 00:00</td>\n",
       "      <td>-1.7</td>\n",
       "      <td>-0.1</td>\n",
       "      <td>-3.4</td>\n",
       "      <td>0.0</td>\n",
       "      <td>0.0</td>\n",
       "      <td>23.9</td>\n",
       "      <td>100.0</td>\n",
       "      <td>0.0</td>\n",
       "      <td>0.0</td>\n",
       "      <td>0.0</td>\n",
       "      <td>0.0</td>\n",
       "      <td>0.0</td>\n",
       "      <td>1000</td>\n",
       "      <td>0</td>\n",
       "      <td>0.0</td>\n",
       "      <td>24.1</td>\n",
       "      <td>24.4</td>\n",
       "      <td>NaN</td>\n",
       "    </tr>\n",
       "  </tbody>\n",
       "</table>\n",
       "<p>525600 rows × 19 columns</p>\n",
       "</div>"
      ],
      "text/plain": [
       "               Timestamp  GHI  DNI  DHI  ModA  ModB  Tamb     RH   WS  WSgust  \\\n",
       "0       2021-10-30 00:01 -0.7 -0.1 -0.8   0.0   0.0  21.9   99.1  0.0     0.0   \n",
       "1       2021-10-30 00:02 -0.7 -0.1 -0.8   0.0   0.0  21.9   99.2  0.0     0.0   \n",
       "2       2021-10-30 00:03 -0.7 -0.1 -0.8   0.0   0.0  21.9   99.2  0.0     0.0   \n",
       "3       2021-10-30 00:04 -0.7  0.0 -0.8   0.0   0.0  21.9   99.3  0.0     0.0   \n",
       "4       2021-10-30 00:05 -0.7 -0.1 -0.8   0.0   0.0  21.9   99.3  0.0     0.0   \n",
       "...                  ...  ...  ...  ...   ...   ...   ...    ...  ...     ...   \n",
       "525595  2022-10-29 23:56 -1.6 -0.1 -2.9   0.0   0.0  24.0  100.0  0.0     0.0   \n",
       "525596  2022-10-29 23:57 -1.7 -0.1 -3.0   0.0   0.0  24.0  100.0  0.0     0.0   \n",
       "525597  2022-10-29 23:58 -1.7 -0.1 -3.1   0.0   0.0  24.0  100.0  0.0     0.0   \n",
       "525598  2022-10-29 23:59 -1.7 -0.2 -3.3   0.0   0.0  23.9  100.0  0.0     0.0   \n",
       "525599  2022-10-30 00:00 -1.7 -0.1 -3.4   0.0   0.0  23.9  100.0  0.0     0.0   \n",
       "\n",
       "        WSstdev   WD  WDstdev    BP  Cleaning  Precipitation  TModA  TModB  \\\n",
       "0           0.0  0.0      0.0  1002         0            0.0   22.3   22.6   \n",
       "1           0.0  0.0      0.0  1002         0            0.0   22.3   22.6   \n",
       "2           0.0  0.0      0.0  1002         0            0.0   22.3   22.6   \n",
       "3           0.0  0.0      0.0  1002         0            0.1   22.3   22.6   \n",
       "4           0.0  0.0      0.0  1002         0            0.0   22.3   22.6   \n",
       "...         ...  ...      ...   ...       ...            ...    ...    ...   \n",
       "525595      0.0  0.0      0.0   999         0            0.0   24.2   24.5   \n",
       "525596      0.0  0.0      0.0   999         0            0.0   24.2   24.5   \n",
       "525597      0.0  0.0      0.0  1000         0            0.0   24.1   24.4   \n",
       "525598      0.0  0.0      0.0  1000         0            0.0   24.1   24.4   \n",
       "525599      0.0  0.0      0.0  1000         0            0.0   24.1   24.4   \n",
       "\n",
       "        Comments  \n",
       "0            NaN  \n",
       "1            NaN  \n",
       "2            NaN  \n",
       "3            NaN  \n",
       "4            NaN  \n",
       "...          ...  \n",
       "525595       NaN  \n",
       "525596       NaN  \n",
       "525597       NaN  \n",
       "525598       NaN  \n",
       "525599       NaN  \n",
       "\n",
       "[525600 rows x 19 columns]"
      ]
     },
     "execution_count": 3,
     "metadata": {},
     "output_type": "execute_result"
    }
   ],
   "source": [
    "#load the data from the github repo or #using locally stored dataset\n",
    "df=pd.read_csv('../data/sierraleone-bumbuna.csv')\n",
    "df"
   ]
  },
  {
   "cell_type": "markdown",
   "id": "65497291",
   "metadata": {},
   "source": [
    "#### Data Overview"
   ]
  },
  {
   "cell_type": "code",
   "execution_count": 4,
   "id": "170d7996",
   "metadata": {},
   "outputs": [
    {
     "data": {
      "text/html": [
       "<div>\n",
       "<style scoped>\n",
       "    .dataframe tbody tr th:only-of-type {\n",
       "        vertical-align: middle;\n",
       "    }\n",
       "\n",
       "    .dataframe tbody tr th {\n",
       "        vertical-align: top;\n",
       "    }\n",
       "\n",
       "    .dataframe thead th {\n",
       "        text-align: right;\n",
       "    }\n",
       "</style>\n",
       "<table border=\"1\" class=\"dataframe\">\n",
       "  <thead>\n",
       "    <tr style=\"text-align: right;\">\n",
       "      <th></th>\n",
       "      <th>Timestamp</th>\n",
       "      <th>GHI</th>\n",
       "      <th>DNI</th>\n",
       "      <th>DHI</th>\n",
       "      <th>ModA</th>\n",
       "      <th>ModB</th>\n",
       "      <th>Tamb</th>\n",
       "      <th>RH</th>\n",
       "      <th>WS</th>\n",
       "      <th>WSgust</th>\n",
       "      <th>WSstdev</th>\n",
       "      <th>WD</th>\n",
       "      <th>WDstdev</th>\n",
       "      <th>BP</th>\n",
       "      <th>Cleaning</th>\n",
       "      <th>Precipitation</th>\n",
       "      <th>TModA</th>\n",
       "      <th>TModB</th>\n",
       "      <th>Comments</th>\n",
       "    </tr>\n",
       "  </thead>\n",
       "  <tbody>\n",
       "    <tr>\n",
       "      <th>0</th>\n",
       "      <td>2021-10-30 00:01</td>\n",
       "      <td>-0.7</td>\n",
       "      <td>-0.1</td>\n",
       "      <td>-0.8</td>\n",
       "      <td>0.0</td>\n",
       "      <td>0.0</td>\n",
       "      <td>21.9</td>\n",
       "      <td>99.1</td>\n",
       "      <td>0.0</td>\n",
       "      <td>0.0</td>\n",
       "      <td>0.0</td>\n",
       "      <td>0.0</td>\n",
       "      <td>0.0</td>\n",
       "      <td>1002</td>\n",
       "      <td>0</td>\n",
       "      <td>0.0</td>\n",
       "      <td>22.3</td>\n",
       "      <td>22.6</td>\n",
       "      <td>NaN</td>\n",
       "    </tr>\n",
       "    <tr>\n",
       "      <th>1</th>\n",
       "      <td>2021-10-30 00:02</td>\n",
       "      <td>-0.7</td>\n",
       "      <td>-0.1</td>\n",
       "      <td>-0.8</td>\n",
       "      <td>0.0</td>\n",
       "      <td>0.0</td>\n",
       "      <td>21.9</td>\n",
       "      <td>99.2</td>\n",
       "      <td>0.0</td>\n",
       "      <td>0.0</td>\n",
       "      <td>0.0</td>\n",
       "      <td>0.0</td>\n",
       "      <td>0.0</td>\n",
       "      <td>1002</td>\n",
       "      <td>0</td>\n",
       "      <td>0.0</td>\n",
       "      <td>22.3</td>\n",
       "      <td>22.6</td>\n",
       "      <td>NaN</td>\n",
       "    </tr>\n",
       "    <tr>\n",
       "      <th>2</th>\n",
       "      <td>2021-10-30 00:03</td>\n",
       "      <td>-0.7</td>\n",
       "      <td>-0.1</td>\n",
       "      <td>-0.8</td>\n",
       "      <td>0.0</td>\n",
       "      <td>0.0</td>\n",
       "      <td>21.9</td>\n",
       "      <td>99.2</td>\n",
       "      <td>0.0</td>\n",
       "      <td>0.0</td>\n",
       "      <td>0.0</td>\n",
       "      <td>0.0</td>\n",
       "      <td>0.0</td>\n",
       "      <td>1002</td>\n",
       "      <td>0</td>\n",
       "      <td>0.0</td>\n",
       "      <td>22.3</td>\n",
       "      <td>22.6</td>\n",
       "      <td>NaN</td>\n",
       "    </tr>\n",
       "    <tr>\n",
       "      <th>3</th>\n",
       "      <td>2021-10-30 00:04</td>\n",
       "      <td>-0.7</td>\n",
       "      <td>0.0</td>\n",
       "      <td>-0.8</td>\n",
       "      <td>0.0</td>\n",
       "      <td>0.0</td>\n",
       "      <td>21.9</td>\n",
       "      <td>99.3</td>\n",
       "      <td>0.0</td>\n",
       "      <td>0.0</td>\n",
       "      <td>0.0</td>\n",
       "      <td>0.0</td>\n",
       "      <td>0.0</td>\n",
       "      <td>1002</td>\n",
       "      <td>0</td>\n",
       "      <td>0.1</td>\n",
       "      <td>22.3</td>\n",
       "      <td>22.6</td>\n",
       "      <td>NaN</td>\n",
       "    </tr>\n",
       "    <tr>\n",
       "      <th>4</th>\n",
       "      <td>2021-10-30 00:05</td>\n",
       "      <td>-0.7</td>\n",
       "      <td>-0.1</td>\n",
       "      <td>-0.8</td>\n",
       "      <td>0.0</td>\n",
       "      <td>0.0</td>\n",
       "      <td>21.9</td>\n",
       "      <td>99.3</td>\n",
       "      <td>0.0</td>\n",
       "      <td>0.0</td>\n",
       "      <td>0.0</td>\n",
       "      <td>0.0</td>\n",
       "      <td>0.0</td>\n",
       "      <td>1002</td>\n",
       "      <td>0</td>\n",
       "      <td>0.0</td>\n",
       "      <td>22.3</td>\n",
       "      <td>22.6</td>\n",
       "      <td>NaN</td>\n",
       "    </tr>\n",
       "  </tbody>\n",
       "</table>\n",
       "</div>"
      ],
      "text/plain": [
       "          Timestamp  GHI  DNI  DHI  ModA  ModB  Tamb    RH   WS  WSgust  \\\n",
       "0  2021-10-30 00:01 -0.7 -0.1 -0.8   0.0   0.0  21.9  99.1  0.0     0.0   \n",
       "1  2021-10-30 00:02 -0.7 -0.1 -0.8   0.0   0.0  21.9  99.2  0.0     0.0   \n",
       "2  2021-10-30 00:03 -0.7 -0.1 -0.8   0.0   0.0  21.9  99.2  0.0     0.0   \n",
       "3  2021-10-30 00:04 -0.7  0.0 -0.8   0.0   0.0  21.9  99.3  0.0     0.0   \n",
       "4  2021-10-30 00:05 -0.7 -0.1 -0.8   0.0   0.0  21.9  99.3  0.0     0.0   \n",
       "\n",
       "   WSstdev   WD  WDstdev    BP  Cleaning  Precipitation  TModA  TModB  \\\n",
       "0      0.0  0.0      0.0  1002         0            0.0   22.3   22.6   \n",
       "1      0.0  0.0      0.0  1002         0            0.0   22.3   22.6   \n",
       "2      0.0  0.0      0.0  1002         0            0.0   22.3   22.6   \n",
       "3      0.0  0.0      0.0  1002         0            0.1   22.3   22.6   \n",
       "4      0.0  0.0      0.0  1002         0            0.0   22.3   22.6   \n",
       "\n",
       "   Comments  \n",
       "0       NaN  \n",
       "1       NaN  \n",
       "2       NaN  \n",
       "3       NaN  \n",
       "4       NaN  "
      ]
     },
     "execution_count": 4,
     "metadata": {},
     "output_type": "execute_result"
    }
   ],
   "source": [
    "df.head()"
   ]
  },
  {
   "cell_type": "code",
   "execution_count": 5,
   "id": "0facf217",
   "metadata": {},
   "outputs": [
    {
     "data": {
      "text/html": [
       "<div>\n",
       "<style scoped>\n",
       "    .dataframe tbody tr th:only-of-type {\n",
       "        vertical-align: middle;\n",
       "    }\n",
       "\n",
       "    .dataframe tbody tr th {\n",
       "        vertical-align: top;\n",
       "    }\n",
       "\n",
       "    .dataframe thead th {\n",
       "        text-align: right;\n",
       "    }\n",
       "</style>\n",
       "<table border=\"1\" class=\"dataframe\">\n",
       "  <thead>\n",
       "    <tr style=\"text-align: right;\">\n",
       "      <th></th>\n",
       "      <th>Timestamp</th>\n",
       "      <th>GHI</th>\n",
       "      <th>DNI</th>\n",
       "      <th>DHI</th>\n",
       "      <th>ModA</th>\n",
       "      <th>ModB</th>\n",
       "      <th>Tamb</th>\n",
       "      <th>RH</th>\n",
       "      <th>WS</th>\n",
       "      <th>WSgust</th>\n",
       "      <th>WSstdev</th>\n",
       "      <th>WD</th>\n",
       "      <th>WDstdev</th>\n",
       "      <th>BP</th>\n",
       "      <th>Cleaning</th>\n",
       "      <th>Precipitation</th>\n",
       "      <th>TModA</th>\n",
       "      <th>TModB</th>\n",
       "      <th>Comments</th>\n",
       "    </tr>\n",
       "  </thead>\n",
       "  <tbody>\n",
       "    <tr>\n",
       "      <th>525595</th>\n",
       "      <td>2022-10-29 23:56</td>\n",
       "      <td>-1.6</td>\n",
       "      <td>-0.1</td>\n",
       "      <td>-2.9</td>\n",
       "      <td>0.0</td>\n",
       "      <td>0.0</td>\n",
       "      <td>24.0</td>\n",
       "      <td>100.0</td>\n",
       "      <td>0.0</td>\n",
       "      <td>0.0</td>\n",
       "      <td>0.0</td>\n",
       "      <td>0.0</td>\n",
       "      <td>0.0</td>\n",
       "      <td>999</td>\n",
       "      <td>0</td>\n",
       "      <td>0.0</td>\n",
       "      <td>24.2</td>\n",
       "      <td>24.5</td>\n",
       "      <td>NaN</td>\n",
       "    </tr>\n",
       "    <tr>\n",
       "      <th>525596</th>\n",
       "      <td>2022-10-29 23:57</td>\n",
       "      <td>-1.7</td>\n",
       "      <td>-0.1</td>\n",
       "      <td>-3.0</td>\n",
       "      <td>0.0</td>\n",
       "      <td>0.0</td>\n",
       "      <td>24.0</td>\n",
       "      <td>100.0</td>\n",
       "      <td>0.0</td>\n",
       "      <td>0.0</td>\n",
       "      <td>0.0</td>\n",
       "      <td>0.0</td>\n",
       "      <td>0.0</td>\n",
       "      <td>999</td>\n",
       "      <td>0</td>\n",
       "      <td>0.0</td>\n",
       "      <td>24.2</td>\n",
       "      <td>24.5</td>\n",
       "      <td>NaN</td>\n",
       "    </tr>\n",
       "    <tr>\n",
       "      <th>525597</th>\n",
       "      <td>2022-10-29 23:58</td>\n",
       "      <td>-1.7</td>\n",
       "      <td>-0.1</td>\n",
       "      <td>-3.1</td>\n",
       "      <td>0.0</td>\n",
       "      <td>0.0</td>\n",
       "      <td>24.0</td>\n",
       "      <td>100.0</td>\n",
       "      <td>0.0</td>\n",
       "      <td>0.0</td>\n",
       "      <td>0.0</td>\n",
       "      <td>0.0</td>\n",
       "      <td>0.0</td>\n",
       "      <td>1000</td>\n",
       "      <td>0</td>\n",
       "      <td>0.0</td>\n",
       "      <td>24.1</td>\n",
       "      <td>24.4</td>\n",
       "      <td>NaN</td>\n",
       "    </tr>\n",
       "    <tr>\n",
       "      <th>525598</th>\n",
       "      <td>2022-10-29 23:59</td>\n",
       "      <td>-1.7</td>\n",
       "      <td>-0.2</td>\n",
       "      <td>-3.3</td>\n",
       "      <td>0.0</td>\n",
       "      <td>0.0</td>\n",
       "      <td>23.9</td>\n",
       "      <td>100.0</td>\n",
       "      <td>0.0</td>\n",
       "      <td>0.0</td>\n",
       "      <td>0.0</td>\n",
       "      <td>0.0</td>\n",
       "      <td>0.0</td>\n",
       "      <td>1000</td>\n",
       "      <td>0</td>\n",
       "      <td>0.0</td>\n",
       "      <td>24.1</td>\n",
       "      <td>24.4</td>\n",
       "      <td>NaN</td>\n",
       "    </tr>\n",
       "    <tr>\n",
       "      <th>525599</th>\n",
       "      <td>2022-10-30 00:00</td>\n",
       "      <td>-1.7</td>\n",
       "      <td>-0.1</td>\n",
       "      <td>-3.4</td>\n",
       "      <td>0.0</td>\n",
       "      <td>0.0</td>\n",
       "      <td>23.9</td>\n",
       "      <td>100.0</td>\n",
       "      <td>0.0</td>\n",
       "      <td>0.0</td>\n",
       "      <td>0.0</td>\n",
       "      <td>0.0</td>\n",
       "      <td>0.0</td>\n",
       "      <td>1000</td>\n",
       "      <td>0</td>\n",
       "      <td>0.0</td>\n",
       "      <td>24.1</td>\n",
       "      <td>24.4</td>\n",
       "      <td>NaN</td>\n",
       "    </tr>\n",
       "  </tbody>\n",
       "</table>\n",
       "</div>"
      ],
      "text/plain": [
       "               Timestamp  GHI  DNI  DHI  ModA  ModB  Tamb     RH   WS  WSgust  \\\n",
       "525595  2022-10-29 23:56 -1.6 -0.1 -2.9   0.0   0.0  24.0  100.0  0.0     0.0   \n",
       "525596  2022-10-29 23:57 -1.7 -0.1 -3.0   0.0   0.0  24.0  100.0  0.0     0.0   \n",
       "525597  2022-10-29 23:58 -1.7 -0.1 -3.1   0.0   0.0  24.0  100.0  0.0     0.0   \n",
       "525598  2022-10-29 23:59 -1.7 -0.2 -3.3   0.0   0.0  23.9  100.0  0.0     0.0   \n",
       "525599  2022-10-30 00:00 -1.7 -0.1 -3.4   0.0   0.0  23.9  100.0  0.0     0.0   \n",
       "\n",
       "        WSstdev   WD  WDstdev    BP  Cleaning  Precipitation  TModA  TModB  \\\n",
       "525595      0.0  0.0      0.0   999         0            0.0   24.2   24.5   \n",
       "525596      0.0  0.0      0.0   999         0            0.0   24.2   24.5   \n",
       "525597      0.0  0.0      0.0  1000         0            0.0   24.1   24.4   \n",
       "525598      0.0  0.0      0.0  1000         0            0.0   24.1   24.4   \n",
       "525599      0.0  0.0      0.0  1000         0            0.0   24.1   24.4   \n",
       "\n",
       "        Comments  \n",
       "525595       NaN  \n",
       "525596       NaN  \n",
       "525597       NaN  \n",
       "525598       NaN  \n",
       "525599       NaN  "
      ]
     },
     "execution_count": 5,
     "metadata": {},
     "output_type": "execute_result"
    }
   ],
   "source": [
    "df.tail()"
   ]
  },
  {
   "cell_type": "code",
   "execution_count": 6,
   "id": "c971dec9",
   "metadata": {},
   "outputs": [
    {
     "data": {
      "text/html": [
       "<div>\n",
       "<style scoped>\n",
       "    .dataframe tbody tr th:only-of-type {\n",
       "        vertical-align: middle;\n",
       "    }\n",
       "\n",
       "    .dataframe tbody tr th {\n",
       "        vertical-align: top;\n",
       "    }\n",
       "\n",
       "    .dataframe thead th {\n",
       "        text-align: right;\n",
       "    }\n",
       "</style>\n",
       "<table border=\"1\" class=\"dataframe\">\n",
       "  <thead>\n",
       "    <tr style=\"text-align: right;\">\n",
       "      <th></th>\n",
       "      <th>Timestamp</th>\n",
       "      <th>GHI</th>\n",
       "      <th>DNI</th>\n",
       "      <th>DHI</th>\n",
       "      <th>ModA</th>\n",
       "      <th>ModB</th>\n",
       "      <th>Tamb</th>\n",
       "      <th>RH</th>\n",
       "      <th>WS</th>\n",
       "      <th>WSgust</th>\n",
       "      <th>WSstdev</th>\n",
       "      <th>WD</th>\n",
       "      <th>WDstdev</th>\n",
       "      <th>BP</th>\n",
       "      <th>Cleaning</th>\n",
       "      <th>Precipitation</th>\n",
       "      <th>TModA</th>\n",
       "      <th>TModB</th>\n",
       "      <th>Comments</th>\n",
       "    </tr>\n",
       "  </thead>\n",
       "  <tbody>\n",
       "    <tr>\n",
       "      <th>358314</th>\n",
       "      <td>2022-07-05 19:55</td>\n",
       "      <td>-1.4</td>\n",
       "      <td>-0.4</td>\n",
       "      <td>-1.6</td>\n",
       "      <td>0.0</td>\n",
       "      <td>0.0</td>\n",
       "      <td>26.3</td>\n",
       "      <td>89.2</td>\n",
       "      <td>0.1</td>\n",
       "      <td>1.1</td>\n",
       "      <td>0.4</td>\n",
       "      <td>190.8</td>\n",
       "      <td>1.5</td>\n",
       "      <td>1001</td>\n",
       "      <td>0</td>\n",
       "      <td>0.0</td>\n",
       "      <td>25.8</td>\n",
       "      <td>26.0</td>\n",
       "      <td>NaN</td>\n",
       "    </tr>\n",
       "    <tr>\n",
       "      <th>411292</th>\n",
       "      <td>2022-08-11 14:53</td>\n",
       "      <td>441.8</td>\n",
       "      <td>1.2</td>\n",
       "      <td>438.1</td>\n",
       "      <td>424.4</td>\n",
       "      <td>403.7</td>\n",
       "      <td>27.2</td>\n",
       "      <td>84.3</td>\n",
       "      <td>1.8</td>\n",
       "      <td>2.4</td>\n",
       "      <td>0.4</td>\n",
       "      <td>216.2</td>\n",
       "      <td>14.7</td>\n",
       "      <td>999</td>\n",
       "      <td>0</td>\n",
       "      <td>0.0</td>\n",
       "      <td>35.1</td>\n",
       "      <td>35.8</td>\n",
       "      <td>NaN</td>\n",
       "    </tr>\n",
       "    <tr>\n",
       "      <th>434160</th>\n",
       "      <td>2022-08-27 12:01</td>\n",
       "      <td>269.1</td>\n",
       "      <td>1.2</td>\n",
       "      <td>267.0</td>\n",
       "      <td>294.0</td>\n",
       "      <td>287.4</td>\n",
       "      <td>28.3</td>\n",
       "      <td>79.5</td>\n",
       "      <td>0.4</td>\n",
       "      <td>1.4</td>\n",
       "      <td>0.6</td>\n",
       "      <td>80.9</td>\n",
       "      <td>5.0</td>\n",
       "      <td>1000</td>\n",
       "      <td>0</td>\n",
       "      <td>0.0</td>\n",
       "      <td>48.2</td>\n",
       "      <td>46.4</td>\n",
       "      <td>NaN</td>\n",
       "    </tr>\n",
       "    <tr>\n",
       "      <th>391723</th>\n",
       "      <td>2022-07-29 00:44</td>\n",
       "      <td>-1.8</td>\n",
       "      <td>-0.1</td>\n",
       "      <td>-2.3</td>\n",
       "      <td>0.0</td>\n",
       "      <td>0.0</td>\n",
       "      <td>22.8</td>\n",
       "      <td>99.6</td>\n",
       "      <td>0.0</td>\n",
       "      <td>0.0</td>\n",
       "      <td>0.0</td>\n",
       "      <td>0.0</td>\n",
       "      <td>0.0</td>\n",
       "      <td>1003</td>\n",
       "      <td>0</td>\n",
       "      <td>0.0</td>\n",
       "      <td>23.2</td>\n",
       "      <td>23.5</td>\n",
       "      <td>NaN</td>\n",
       "    </tr>\n",
       "    <tr>\n",
       "      <th>137952</th>\n",
       "      <td>2022-02-02 19:13</td>\n",
       "      <td>-15.2</td>\n",
       "      <td>-1.1</td>\n",
       "      <td>-16.4</td>\n",
       "      <td>0.1</td>\n",
       "      <td>0.1</td>\n",
       "      <td>27.5</td>\n",
       "      <td>39.2</td>\n",
       "      <td>1.8</td>\n",
       "      <td>2.1</td>\n",
       "      <td>0.3</td>\n",
       "      <td>53.6</td>\n",
       "      <td>3.3</td>\n",
       "      <td>998</td>\n",
       "      <td>0</td>\n",
       "      <td>0.0</td>\n",
       "      <td>25.9</td>\n",
       "      <td>26.4</td>\n",
       "      <td>NaN</td>\n",
       "    </tr>\n",
       "    <tr>\n",
       "      <th>457612</th>\n",
       "      <td>2022-09-12 18:53</td>\n",
       "      <td>-0.3</td>\n",
       "      <td>-0.1</td>\n",
       "      <td>-0.9</td>\n",
       "      <td>1.2</td>\n",
       "      <td>1.2</td>\n",
       "      <td>25.0</td>\n",
       "      <td>94.1</td>\n",
       "      <td>3.1</td>\n",
       "      <td>4.6</td>\n",
       "      <td>1.0</td>\n",
       "      <td>197.5</td>\n",
       "      <td>18.1</td>\n",
       "      <td>1000</td>\n",
       "      <td>0</td>\n",
       "      <td>0.0</td>\n",
       "      <td>25.6</td>\n",
       "      <td>25.8</td>\n",
       "      <td>NaN</td>\n",
       "    </tr>\n",
       "    <tr>\n",
       "      <th>148651</th>\n",
       "      <td>2022-02-10 05:32</td>\n",
       "      <td>-11.8</td>\n",
       "      <td>-0.5</td>\n",
       "      <td>-11.7</td>\n",
       "      <td>0.0</td>\n",
       "      <td>0.0</td>\n",
       "      <td>20.1</td>\n",
       "      <td>92.0</td>\n",
       "      <td>0.0</td>\n",
       "      <td>0.0</td>\n",
       "      <td>0.0</td>\n",
       "      <td>0.0</td>\n",
       "      <td>0.0</td>\n",
       "      <td>998</td>\n",
       "      <td>0</td>\n",
       "      <td>0.0</td>\n",
       "      <td>19.1</td>\n",
       "      <td>19.2</td>\n",
       "      <td>NaN</td>\n",
       "    </tr>\n",
       "    <tr>\n",
       "      <th>495587</th>\n",
       "      <td>2022-10-09 03:48</td>\n",
       "      <td>-1.0</td>\n",
       "      <td>-0.2</td>\n",
       "      <td>-2.3</td>\n",
       "      <td>0.0</td>\n",
       "      <td>0.0</td>\n",
       "      <td>22.5</td>\n",
       "      <td>100.0</td>\n",
       "      <td>0.1</td>\n",
       "      <td>1.1</td>\n",
       "      <td>0.4</td>\n",
       "      <td>55.9</td>\n",
       "      <td>2.4</td>\n",
       "      <td>999</td>\n",
       "      <td>0</td>\n",
       "      <td>0.0</td>\n",
       "      <td>22.6</td>\n",
       "      <td>22.9</td>\n",
       "      <td>NaN</td>\n",
       "    </tr>\n",
       "    <tr>\n",
       "      <th>135383</th>\n",
       "      <td>2022-02-01 00:24</td>\n",
       "      <td>-10.6</td>\n",
       "      <td>-0.5</td>\n",
       "      <td>-10.9</td>\n",
       "      <td>0.0</td>\n",
       "      <td>0.0</td>\n",
       "      <td>22.7</td>\n",
       "      <td>81.4</td>\n",
       "      <td>0.0</td>\n",
       "      <td>0.0</td>\n",
       "      <td>0.0</td>\n",
       "      <td>0.0</td>\n",
       "      <td>0.0</td>\n",
       "      <td>1001</td>\n",
       "      <td>0</td>\n",
       "      <td>0.0</td>\n",
       "      <td>21.6</td>\n",
       "      <td>21.8</td>\n",
       "      <td>NaN</td>\n",
       "    </tr>\n",
       "    <tr>\n",
       "      <th>185780</th>\n",
       "      <td>2022-03-08 00:21</td>\n",
       "      <td>-9.0</td>\n",
       "      <td>-0.4</td>\n",
       "      <td>-8.3</td>\n",
       "      <td>0.0</td>\n",
       "      <td>0.0</td>\n",
       "      <td>23.4</td>\n",
       "      <td>71.8</td>\n",
       "      <td>0.0</td>\n",
       "      <td>0.0</td>\n",
       "      <td>0.0</td>\n",
       "      <td>0.0</td>\n",
       "      <td>0.0</td>\n",
       "      <td>998</td>\n",
       "      <td>0</td>\n",
       "      <td>0.0</td>\n",
       "      <td>22.4</td>\n",
       "      <td>22.8</td>\n",
       "      <td>NaN</td>\n",
       "    </tr>\n",
       "  </tbody>\n",
       "</table>\n",
       "</div>"
      ],
      "text/plain": [
       "               Timestamp    GHI  DNI    DHI   ModA   ModB  Tamb     RH   WS  \\\n",
       "358314  2022-07-05 19:55   -1.4 -0.4   -1.6    0.0    0.0  26.3   89.2  0.1   \n",
       "411292  2022-08-11 14:53  441.8  1.2  438.1  424.4  403.7  27.2   84.3  1.8   \n",
       "434160  2022-08-27 12:01  269.1  1.2  267.0  294.0  287.4  28.3   79.5  0.4   \n",
       "391723  2022-07-29 00:44   -1.8 -0.1   -2.3    0.0    0.0  22.8   99.6  0.0   \n",
       "137952  2022-02-02 19:13  -15.2 -1.1  -16.4    0.1    0.1  27.5   39.2  1.8   \n",
       "457612  2022-09-12 18:53   -0.3 -0.1   -0.9    1.2    1.2  25.0   94.1  3.1   \n",
       "148651  2022-02-10 05:32  -11.8 -0.5  -11.7    0.0    0.0  20.1   92.0  0.0   \n",
       "495587  2022-10-09 03:48   -1.0 -0.2   -2.3    0.0    0.0  22.5  100.0  0.1   \n",
       "135383  2022-02-01 00:24  -10.6 -0.5  -10.9    0.0    0.0  22.7   81.4  0.0   \n",
       "185780  2022-03-08 00:21   -9.0 -0.4   -8.3    0.0    0.0  23.4   71.8  0.0   \n",
       "\n",
       "        WSgust  WSstdev     WD  WDstdev    BP  Cleaning  Precipitation  TModA  \\\n",
       "358314     1.1      0.4  190.8      1.5  1001         0            0.0   25.8   \n",
       "411292     2.4      0.4  216.2     14.7   999         0            0.0   35.1   \n",
       "434160     1.4      0.6   80.9      5.0  1000         0            0.0   48.2   \n",
       "391723     0.0      0.0    0.0      0.0  1003         0            0.0   23.2   \n",
       "137952     2.1      0.3   53.6      3.3   998         0            0.0   25.9   \n",
       "457612     4.6      1.0  197.5     18.1  1000         0            0.0   25.6   \n",
       "148651     0.0      0.0    0.0      0.0   998         0            0.0   19.1   \n",
       "495587     1.1      0.4   55.9      2.4   999         0            0.0   22.6   \n",
       "135383     0.0      0.0    0.0      0.0  1001         0            0.0   21.6   \n",
       "185780     0.0      0.0    0.0      0.0   998         0            0.0   22.4   \n",
       "\n",
       "        TModB  Comments  \n",
       "358314   26.0       NaN  \n",
       "411292   35.8       NaN  \n",
       "434160   46.4       NaN  \n",
       "391723   23.5       NaN  \n",
       "137952   26.4       NaN  \n",
       "457612   25.8       NaN  \n",
       "148651   19.2       NaN  \n",
       "495587   22.9       NaN  \n",
       "135383   21.8       NaN  \n",
       "185780   22.8       NaN  "
      ]
     },
     "execution_count": 6,
     "metadata": {},
     "output_type": "execute_result"
    }
   ],
   "source": [
    "df.sample(10)"
   ]
  },
  {
   "cell_type": "code",
   "execution_count": 7,
   "id": "53a653f1",
   "metadata": {},
   "outputs": [
    {
     "data": {
      "text/plain": [
       "(525600, 19)"
      ]
     },
     "execution_count": 7,
     "metadata": {},
     "output_type": "execute_result"
    }
   ],
   "source": [
    "#shape of the dataset\n",
    "df.shape"
   ]
  },
  {
   "cell_type": "code",
   "execution_count": 8,
   "id": "c7b45767",
   "metadata": {},
   "outputs": [
    {
     "data": {
      "text/plain": [
       "Index(['Timestamp', 'GHI', 'DNI', 'DHI', 'ModA', 'ModB', 'Tamb', 'RH', 'WS',\n",
       "       'WSgust', 'WSstdev', 'WD', 'WDstdev', 'BP', 'Cleaning', 'Precipitation',\n",
       "       'TModA', 'TModB', 'Comments'],\n",
       "      dtype='object')"
      ]
     },
     "execution_count": 8,
     "metadata": {},
     "output_type": "execute_result"
    }
   ],
   "source": [
    "#list of columns of the dataset\n",
    "df.columns"
   ]
  },
  {
   "cell_type": "markdown",
   "id": "8e7976fe",
   "metadata": {},
   "source": [
    "## 📐 3. Data Types & Basic Stats <a id='3-data-types--basic-stats'></a>"
   ]
  },
  {
   "cell_type": "markdown",
   "id": "a85c63d7",
   "metadata": {},
   "source": [
    "#### Data Summaries - basics stats"
   ]
  },
  {
   "cell_type": "code",
   "execution_count": 9,
   "id": "3be4cc20",
   "metadata": {},
   "outputs": [
    {
     "data": {
      "text/html": [
       "<div>\n",
       "<style scoped>\n",
       "    .dataframe tbody tr th:only-of-type {\n",
       "        vertical-align: middle;\n",
       "    }\n",
       "\n",
       "    .dataframe tbody tr th {\n",
       "        vertical-align: top;\n",
       "    }\n",
       "\n",
       "    .dataframe thead th {\n",
       "        text-align: right;\n",
       "    }\n",
       "</style>\n",
       "<table border=\"1\" class=\"dataframe\">\n",
       "  <thead>\n",
       "    <tr style=\"text-align: right;\">\n",
       "      <th></th>\n",
       "      <th>count</th>\n",
       "      <th>mean</th>\n",
       "      <th>std</th>\n",
       "      <th>min</th>\n",
       "      <th>25%</th>\n",
       "      <th>50%</th>\n",
       "      <th>75%</th>\n",
       "      <th>max</th>\n",
       "    </tr>\n",
       "  </thead>\n",
       "  <tbody>\n",
       "    <tr>\n",
       "      <th>GHI</th>\n",
       "      <td>525600.0</td>\n",
       "      <td>201.957515</td>\n",
       "      <td>298.495150</td>\n",
       "      <td>-19.5</td>\n",
       "      <td>-2.8</td>\n",
       "      <td>0.3</td>\n",
       "      <td>362.4</td>\n",
       "      <td>1499.0</td>\n",
       "    </tr>\n",
       "    <tr>\n",
       "      <th>DNI</th>\n",
       "      <td>525600.0</td>\n",
       "      <td>116.376337</td>\n",
       "      <td>218.652659</td>\n",
       "      <td>-7.8</td>\n",
       "      <td>-0.3</td>\n",
       "      <td>-0.1</td>\n",
       "      <td>107.0</td>\n",
       "      <td>946.0</td>\n",
       "    </tr>\n",
       "    <tr>\n",
       "      <th>DHI</th>\n",
       "      <td>525600.0</td>\n",
       "      <td>113.720571</td>\n",
       "      <td>158.946032</td>\n",
       "      <td>-17.9</td>\n",
       "      <td>-3.8</td>\n",
       "      <td>-0.1</td>\n",
       "      <td>224.7</td>\n",
       "      <td>892.0</td>\n",
       "    </tr>\n",
       "    <tr>\n",
       "      <th>ModA</th>\n",
       "      <td>525600.0</td>\n",
       "      <td>206.643095</td>\n",
       "      <td>300.896893</td>\n",
       "      <td>0.0</td>\n",
       "      <td>0.0</td>\n",
       "      <td>3.6</td>\n",
       "      <td>359.5</td>\n",
       "      <td>1507.0</td>\n",
       "    </tr>\n",
       "    <tr>\n",
       "      <th>ModB</th>\n",
       "      <td>525600.0</td>\n",
       "      <td>198.114691</td>\n",
       "      <td>288.889073</td>\n",
       "      <td>0.0</td>\n",
       "      <td>0.0</td>\n",
       "      <td>3.4</td>\n",
       "      <td>345.4</td>\n",
       "      <td>1473.0</td>\n",
       "    </tr>\n",
       "    <tr>\n",
       "      <th>Tamb</th>\n",
       "      <td>525600.0</td>\n",
       "      <td>26.319394</td>\n",
       "      <td>4.398605</td>\n",
       "      <td>12.3</td>\n",
       "      <td>23.1</td>\n",
       "      <td>25.3</td>\n",
       "      <td>29.4</td>\n",
       "      <td>39.9</td>\n",
       "    </tr>\n",
       "    <tr>\n",
       "      <th>RH</th>\n",
       "      <td>525600.0</td>\n",
       "      <td>79.448857</td>\n",
       "      <td>20.520775</td>\n",
       "      <td>9.9</td>\n",
       "      <td>68.7</td>\n",
       "      <td>85.4</td>\n",
       "      <td>96.7</td>\n",
       "      <td>100.0</td>\n",
       "    </tr>\n",
       "    <tr>\n",
       "      <th>WS</th>\n",
       "      <td>525600.0</td>\n",
       "      <td>1.146113</td>\n",
       "      <td>1.239248</td>\n",
       "      <td>0.0</td>\n",
       "      <td>0.0</td>\n",
       "      <td>0.8</td>\n",
       "      <td>2.0</td>\n",
       "      <td>19.2</td>\n",
       "    </tr>\n",
       "    <tr>\n",
       "      <th>WSgust</th>\n",
       "      <td>525600.0</td>\n",
       "      <td>1.691606</td>\n",
       "      <td>1.617053</td>\n",
       "      <td>0.0</td>\n",
       "      <td>0.0</td>\n",
       "      <td>1.6</td>\n",
       "      <td>2.6</td>\n",
       "      <td>23.9</td>\n",
       "    </tr>\n",
       "    <tr>\n",
       "      <th>WSstdev</th>\n",
       "      <td>525600.0</td>\n",
       "      <td>0.363823</td>\n",
       "      <td>0.295000</td>\n",
       "      <td>0.0</td>\n",
       "      <td>0.0</td>\n",
       "      <td>0.4</td>\n",
       "      <td>0.6</td>\n",
       "      <td>4.1</td>\n",
       "    </tr>\n",
       "    <tr>\n",
       "      <th>WD</th>\n",
       "      <td>525600.0</td>\n",
       "      <td>133.044668</td>\n",
       "      <td>114.284792</td>\n",
       "      <td>0.0</td>\n",
       "      <td>0.0</td>\n",
       "      <td>161.5</td>\n",
       "      <td>234.1</td>\n",
       "      <td>360.0</td>\n",
       "    </tr>\n",
       "    <tr>\n",
       "      <th>WDstdev</th>\n",
       "      <td>525600.0</td>\n",
       "      <td>7.172220</td>\n",
       "      <td>7.535093</td>\n",
       "      <td>0.0</td>\n",
       "      <td>0.0</td>\n",
       "      <td>6.2</td>\n",
       "      <td>12.0</td>\n",
       "      <td>98.4</td>\n",
       "    </tr>\n",
       "    <tr>\n",
       "      <th>BP</th>\n",
       "      <td>525600.0</td>\n",
       "      <td>999.876469</td>\n",
       "      <td>2.104419</td>\n",
       "      <td>993.0</td>\n",
       "      <td>999.0</td>\n",
       "      <td>1000.0</td>\n",
       "      <td>1001.0</td>\n",
       "      <td>1006.0</td>\n",
       "    </tr>\n",
       "    <tr>\n",
       "      <th>Cleaning</th>\n",
       "      <td>525600.0</td>\n",
       "      <td>0.000967</td>\n",
       "      <td>0.031074</td>\n",
       "      <td>0.0</td>\n",
       "      <td>0.0</td>\n",
       "      <td>0.0</td>\n",
       "      <td>0.0</td>\n",
       "      <td>1.0</td>\n",
       "    </tr>\n",
       "    <tr>\n",
       "      <th>Precipitation</th>\n",
       "      <td>525600.0</td>\n",
       "      <td>0.004806</td>\n",
       "      <td>0.047556</td>\n",
       "      <td>0.0</td>\n",
       "      <td>0.0</td>\n",
       "      <td>0.0</td>\n",
       "      <td>0.0</td>\n",
       "      <td>2.4</td>\n",
       "    </tr>\n",
       "    <tr>\n",
       "      <th>TModA</th>\n",
       "      <td>525600.0</td>\n",
       "      <td>32.504263</td>\n",
       "      <td>12.434899</td>\n",
       "      <td>10.7</td>\n",
       "      <td>23.5</td>\n",
       "      <td>26.6</td>\n",
       "      <td>40.9</td>\n",
       "      <td>72.8</td>\n",
       "    </tr>\n",
       "    <tr>\n",
       "      <th>TModB</th>\n",
       "      <td>525600.0</td>\n",
       "      <td>32.593091</td>\n",
       "      <td>12.009161</td>\n",
       "      <td>11.1</td>\n",
       "      <td>23.8</td>\n",
       "      <td>26.9</td>\n",
       "      <td>41.3</td>\n",
       "      <td>70.4</td>\n",
       "    </tr>\n",
       "    <tr>\n",
       "      <th>Comments</th>\n",
       "      <td>0.0</td>\n",
       "      <td>NaN</td>\n",
       "      <td>NaN</td>\n",
       "      <td>NaN</td>\n",
       "      <td>NaN</td>\n",
       "      <td>NaN</td>\n",
       "      <td>NaN</td>\n",
       "      <td>NaN</td>\n",
       "    </tr>\n",
       "  </tbody>\n",
       "</table>\n",
       "</div>"
      ],
      "text/plain": [
       "                  count        mean         std    min    25%     50%     75%  \\\n",
       "GHI            525600.0  201.957515  298.495150  -19.5   -2.8     0.3   362.4   \n",
       "DNI            525600.0  116.376337  218.652659   -7.8   -0.3    -0.1   107.0   \n",
       "DHI            525600.0  113.720571  158.946032  -17.9   -3.8    -0.1   224.7   \n",
       "ModA           525600.0  206.643095  300.896893    0.0    0.0     3.6   359.5   \n",
       "ModB           525600.0  198.114691  288.889073    0.0    0.0     3.4   345.4   \n",
       "Tamb           525600.0   26.319394    4.398605   12.3   23.1    25.3    29.4   \n",
       "RH             525600.0   79.448857   20.520775    9.9   68.7    85.4    96.7   \n",
       "WS             525600.0    1.146113    1.239248    0.0    0.0     0.8     2.0   \n",
       "WSgust         525600.0    1.691606    1.617053    0.0    0.0     1.6     2.6   \n",
       "WSstdev        525600.0    0.363823    0.295000    0.0    0.0     0.4     0.6   \n",
       "WD             525600.0  133.044668  114.284792    0.0    0.0   161.5   234.1   \n",
       "WDstdev        525600.0    7.172220    7.535093    0.0    0.0     6.2    12.0   \n",
       "BP             525600.0  999.876469    2.104419  993.0  999.0  1000.0  1001.0   \n",
       "Cleaning       525600.0    0.000967    0.031074    0.0    0.0     0.0     0.0   \n",
       "Precipitation  525600.0    0.004806    0.047556    0.0    0.0     0.0     0.0   \n",
       "TModA          525600.0   32.504263   12.434899   10.7   23.5    26.6    40.9   \n",
       "TModB          525600.0   32.593091   12.009161   11.1   23.8    26.9    41.3   \n",
       "Comments            0.0         NaN         NaN    NaN    NaN     NaN     NaN   \n",
       "\n",
       "                  max  \n",
       "GHI            1499.0  \n",
       "DNI             946.0  \n",
       "DHI             892.0  \n",
       "ModA           1507.0  \n",
       "ModB           1473.0  \n",
       "Tamb             39.9  \n",
       "RH              100.0  \n",
       "WS               19.2  \n",
       "WSgust           23.9  \n",
       "WSstdev           4.1  \n",
       "WD              360.0  \n",
       "WDstdev          98.4  \n",
       "BP             1006.0  \n",
       "Cleaning          1.0  \n",
       "Precipitation     2.4  \n",
       "TModA            72.8  \n",
       "TModB            70.4  \n",
       "Comments          NaN  "
      ]
     },
     "execution_count": 9,
     "metadata": {},
     "output_type": "execute_result"
    }
   ],
   "source": [
    "#Numerical Columns\n",
    "df.describe().T"
   ]
  },
  {
   "cell_type": "code",
   "execution_count": 11,
   "id": "1e452a50",
   "metadata": {},
   "outputs": [
    {
     "data": {
      "text/html": [
       "<div>\n",
       "<style scoped>\n",
       "    .dataframe tbody tr th:only-of-type {\n",
       "        vertical-align: middle;\n",
       "    }\n",
       "\n",
       "    .dataframe tbody tr th {\n",
       "        vertical-align: top;\n",
       "    }\n",
       "\n",
       "    .dataframe thead th {\n",
       "        text-align: right;\n",
       "    }\n",
       "</style>\n",
       "<table border=\"1\" class=\"dataframe\">\n",
       "  <thead>\n",
       "    <tr style=\"text-align: right;\">\n",
       "      <th></th>\n",
       "      <th>count</th>\n",
       "      <th>unique</th>\n",
       "      <th>top</th>\n",
       "      <th>freq</th>\n",
       "    </tr>\n",
       "  </thead>\n",
       "  <tbody>\n",
       "    <tr>\n",
       "      <th>Timestamp</th>\n",
       "      <td>525600</td>\n",
       "      <td>525600</td>\n",
       "      <td>2022-10-29 23:44</td>\n",
       "      <td>1</td>\n",
       "    </tr>\n",
       "  </tbody>\n",
       "</table>\n",
       "</div>"
      ],
      "text/plain": [
       "            count  unique               top freq\n",
       "Timestamp  525600  525600  2022-10-29 23:44    1"
      ]
     },
     "execution_count": 11,
     "metadata": {},
     "output_type": "execute_result"
    }
   ],
   "source": [
    "#for columns of object type\n",
    "df.describe(include=['O']).T"
   ]
  },
  {
   "cell_type": "markdown",
   "id": "989cc333",
   "metadata": {},
   "source": [
    "#### Data Types"
   ]
  },
  {
   "cell_type": "code",
   "execution_count": 12,
   "id": "d9eb0006",
   "metadata": {},
   "outputs": [
    {
     "name": "stdout",
     "output_type": "stream",
     "text": [
      "<class 'pandas.core.frame.DataFrame'>\n",
      "RangeIndex: 525600 entries, 0 to 525599\n",
      "Data columns (total 19 columns):\n",
      " #   Column         Non-Null Count   Dtype  \n",
      "---  ------         --------------   -----  \n",
      " 0   Timestamp      525600 non-null  object \n",
      " 1   GHI            525600 non-null  float64\n",
      " 2   DNI            525600 non-null  float64\n",
      " 3   DHI            525600 non-null  float64\n",
      " 4   ModA           525600 non-null  float64\n",
      " 5   ModB           525600 non-null  float64\n",
      " 6   Tamb           525600 non-null  float64\n",
      " 7   RH             525600 non-null  float64\n",
      " 8   WS             525600 non-null  float64\n",
      " 9   WSgust         525600 non-null  float64\n",
      " 10  WSstdev        525600 non-null  float64\n",
      " 11  WD             525600 non-null  float64\n",
      " 12  WDstdev        525600 non-null  float64\n",
      " 13  BP             525600 non-null  int64  \n",
      " 14  Cleaning       525600 non-null  int64  \n",
      " 15  Precipitation  525600 non-null  float64\n",
      " 16  TModA          525600 non-null  float64\n",
      " 17  TModB          525600 non-null  float64\n",
      " 18  Comments       0 non-null       float64\n",
      "dtypes: float64(16), int64(2), object(1)\n",
      "memory usage: 76.2+ MB\n"
     ]
    }
   ],
   "source": [
    "df.info()"
   ]
  },
  {
   "cell_type": "markdown",
   "id": "023ac676",
   "metadata": {},
   "source": [
    "### Distinct Values"
   ]
  },
  {
   "cell_type": "code",
   "execution_count": 13,
   "id": "24b72120",
   "metadata": {},
   "outputs": [
    {
     "data": {
      "text/plain": [
       "Timestamp        525600\n",
       "ModA              10188\n",
       "GHI                8742\n",
       "ModB               8524\n",
       "DNI                8205\n",
       "DHI                7183\n",
       "WD                 3601\n",
       "RH                  902\n",
       "WDstdev             712\n",
       "TModA               620\n",
       "TModB               572\n",
       "Tamb                276\n",
       "WS                  145\n",
       "WSgust               88\n",
       "WSstdev              40\n",
       "Precipitation        24\n",
       "BP                   14\n",
       "Cleaning              2\n",
       "Comments              0\n",
       "dtype: int64"
      ]
     },
     "execution_count": 13,
     "metadata": {},
     "output_type": "execute_result"
    }
   ],
   "source": [
    "df.nunique().sort_values(ascending=False)"
   ]
  },
  {
   "cell_type": "markdown",
   "id": "d6dca418",
   "metadata": {},
   "source": [
    "## 🔍 4. Data Quality Analysis <a id='4-data-quality-analysis'></a>"
   ]
  },
  {
   "cell_type": "markdown",
   "id": "6214435d",
   "metadata": {},
   "source": [
    "### Missing-Values Analysis"
   ]
  },
  {
   "cell_type": "code",
   "execution_count": 14,
   "id": "330de782",
   "metadata": {},
   "outputs": [
    {
     "data": {
      "text/plain": [
       "Timestamp             0\n",
       "GHI                   0\n",
       "DNI                   0\n",
       "DHI                   0\n",
       "ModA                  0\n",
       "ModB                  0\n",
       "Tamb                  0\n",
       "RH                    0\n",
       "WS                    0\n",
       "WSgust                0\n",
       "WSstdev               0\n",
       "WD                    0\n",
       "WDstdev               0\n",
       "BP                    0\n",
       "Cleaning              0\n",
       "Precipitation         0\n",
       "TModA                 0\n",
       "TModB                 0\n",
       "Comments         525600\n",
       "dtype: int64"
      ]
     },
     "execution_count": 14,
     "metadata": {},
     "output_type": "execute_result"
    }
   ],
   "source": [
    "#count of missing values per column\n",
    "df.isna().sum() "
   ]
  },
  {
   "cell_type": "markdown",
   "id": "ea0f245d",
   "metadata": {},
   "source": [
    "##### Columns with significant number of missing values"
   ]
  },
  {
   "cell_type": "code",
   "execution_count": 16,
   "id": "0796f967",
   "metadata": {},
   "outputs": [
    {
     "data": {
      "text/html": [
       "<div>\n",
       "<style scoped>\n",
       "    .dataframe tbody tr th:only-of-type {\n",
       "        vertical-align: middle;\n",
       "    }\n",
       "\n",
       "    .dataframe tbody tr th {\n",
       "        vertical-align: top;\n",
       "    }\n",
       "\n",
       "    .dataframe thead th {\n",
       "        text-align: right;\n",
       "    }\n",
       "</style>\n",
       "<table border=\"1\" class=\"dataframe\">\n",
       "  <thead>\n",
       "    <tr style=\"text-align: right;\">\n",
       "      <th></th>\n",
       "      <th>#missing_values</th>\n",
       "      <th>percentage</th>\n",
       "    </tr>\n",
       "  </thead>\n",
       "  <tbody>\n",
       "    <tr>\n",
       "      <th>Comments</th>\n",
       "      <td>525600</td>\n",
       "      <td>100.00%</td>\n",
       "    </tr>\n",
       "  </tbody>\n",
       "</table>\n",
       "</div>"
      ],
      "text/plain": [
       "          #missing_values percentage\n",
       "Comments           525600    100.00%"
      ]
     },
     "execution_count": 16,
     "metadata": {},
     "output_type": "execute_result"
    }
   ],
   "source": [
    "#column with >5% nulls\n",
    "columns_with_significant_missing_values(df, threshold=5)"
   ]
  },
  {
   "cell_type": "markdown",
   "id": "9fc2bddb",
   "metadata": {},
   "source": [
    "### Duplicated Values Analysis"
   ]
  },
  {
   "cell_type": "code",
   "execution_count": null,
   "id": "a29e205c",
   "metadata": {},
   "outputs": [],
   "source": [
    "#check for duplicates\n",
    "print(df.duplicated().sum())"
   ]
  },
  {
   "cell_type": "markdown",
   "id": "e24f1dfe",
   "metadata": {},
   "source": [
    "### Detect Invalid Data"
   ]
  },
  {
   "cell_type": "markdown",
   "id": "748bcb87",
   "metadata": {},
   "source": [
    "#### Check if data lies within the valid range"
   ]
  },
  {
   "cell_type": "code",
   "execution_count": null,
   "id": "2426edcb",
   "metadata": {},
   "outputs": [],
   "source": [
    "# Dictionary of variable name and valid range (min, max)\n",
    "valid_ranges = {\n",
    "    'GHI': (0, 1300),\n",
    "    'DNI': (0, 1300),\n",
    "    'DHI': (0, 1000),\n",
    "    'ModA': (0, 1300),\n",
    "    'ModB': (0, 1300),\n",
    "    'Tamb': (-40, 60),\n",
    "    'TModA': (-40, 80),\n",
    "    'TModB': (-40, 80),\n",
    "    'RH': (0, 100),\n",
    "    'WS': (0, 60),\n",
    "    'WSgust': (0, 80),\n",
    "    'WSstdev': (0, 20),\n",
    "    'WD': (0, 360),\n",
    "    'WDstdev': (0, 180),\n",
    "    'BP': (800, 1100),\n",
    "    'Precipitation': (0, 10),\n",
    "    'Cleaning': (0, 1)\n",
    "}\n"
   ]
  },
  {
   "cell_type": "code",
   "execution_count": null,
   "id": "9d242122",
   "metadata": {},
   "outputs": [],
   "source": [
    "# Find columns that violate the valid ranges\n",
    "find_columns_with_invalid_values(df,valid_ranges)"
   ]
  },
  {
   "cell_type": "markdown",
   "id": "b514277d",
   "metadata": {},
   "source": [
    "##### Looking into Negative Irradiance values"
   ]
  },
  {
   "cell_type": "code",
   "execution_count": null,
   "id": "84beefd4",
   "metadata": {},
   "outputs": [],
   "source": [
    "# Count rows where any of the three values is negative\n",
    "invalid_rows = df[(df['GHI'] < 0) | (df['DHI'] < 0) | (df['DNI'] < 0)]\n",
    "\n",
    "# Print count\n",
    "print(f\"Rows with at least one invalid irradiance value (GHI, DHI, or DNI < 0): {len(invalid_rows)}\")\n"
   ]
  },
  {
   "cell_type": "markdown",
   "id": "8099bca0",
   "metadata": {},
   "source": [
    "##### Check if these negative values for GHI,DNI and DHI occur simultaneously"
   ]
  },
  {
   "cell_type": "code",
   "execution_count": null,
   "id": "1ba9a5ac",
   "metadata": {},
   "outputs": [],
   "source": [
    "# Create a boolean mask for each condition\n",
    "neg_ghi = df['GHI'] < 0\n",
    "neg_dhi = df['DHI'] < 0\n",
    "neg_dni = df['DNI'] < 0\n",
    "\n",
    "# Create a new column to capture the combination as a label\n",
    "df['irradiance_negative_combo'] = (\n",
    "    neg_ghi.astype(int).astype(str) + \n",
    "    neg_dhi.astype(int).astype(str) + \n",
    "    neg_dni.astype(int).astype(str)\n",
    ")\n",
    "\n",
    "# Count frequency of each combination\n",
    "combo_counts = df['irradiance_negative_combo'].value_counts().sort_index()\n",
    "print(combo_counts)\n"
   ]
  },
  {
   "cell_type": "markdown",
   "id": "24ed1366",
   "metadata": {},
   "source": [
    "##### Check if this negative values are recorded during the night -- to see if we can impute 0 as their value"
   ]
  },
  {
   "cell_type": "code",
   "execution_count": null,
   "id": "177cb8b4",
   "metadata": {},
   "outputs": [],
   "source": [
    "#add hour and is_night columns to help with analysis\n",
    "df['hour'] = pd.to_datetime(df['Timestamp']).dt.hour\n",
    "df['is_night'] = (df['hour'] < 6) | (df['hour'] > 18)  # Example: night before 6 AM or after 6 PM\n",
    "df\n"
   ]
  },
  {
   "cell_type": "code",
   "execution_count": null,
   "id": "c19c3993",
   "metadata": {},
   "outputs": [],
   "source": [
    "# Filter rows where GHI, DNI, DHI < 0\n",
    "irradiance_neg = df[(df['GHI'] < 0) | (df['DNI'] < 0) | (df['DHI'] < 0)]\n",
    "\n",
    "# Check how many of those rows occurred at night\n",
    "irradiance_neg['is_night'].value_counts()\n"
   ]
  },
  {
   "cell_type": "markdown",
   "id": "e1005088",
   "metadata": {},
   "source": [
    "##### Negative GHI,DNI,DHI values happening simaltaneously during the night - > candidates to be imputed as zero"
   ]
  },
  {
   "cell_type": "code",
   "execution_count": null,
   "id": "683c18d6",
   "metadata": {},
   "outputs": [],
   "source": [
    "# Group by combo and night/day\n",
    "combo_night_counts = df.groupby(['irradiance_negative_combo', 'is_night']).size().unstack(fill_value=0)\n",
    "\n",
    "# Rename columns for clarity\n",
    "combo_night_counts.columns = ['day_count', 'night_count']  # False → Day, True → Night\n",
    "\n",
    "# Optional: Add total count per combo\n",
    "combo_night_counts['total'] = combo_night_counts['day_count'] + combo_night_counts['night_count']\n",
    "\n",
    "# Display the result\n",
    "print(combo_night_counts)\n"
   ]
  },
  {
   "cell_type": "markdown",
   "id": "acae04b9",
   "metadata": {},
   "source": [
    "<div style=\"border-radius:10px; border:orange solid; padding: 15px; font-size:100%; text-align:left; font-color:#325939;background-color:#2c2c2c\">\n",
    "<h3 align=\"left\"><font color='orange'>💡 Course of Action:</font></h3>\n",
    "\n",
    "Negative GHI,DHI,DNI values happenning simaltaneously during the night will be imputed as zero"
   ]
  },
  {
   "cell_type": "markdown",
   "id": "db26e82e",
   "metadata": {},
   "source": [
    "##### Exploring Irradiance values beyond 1300"
   ]
  },
  {
   "cell_type": "code",
   "execution_count": null,
   "id": "4cb59b82",
   "metadata": {},
   "outputs": [],
   "source": [
    "# Filter rows where GHI or DNI are greater than 1300\n",
    "high_irradiance_df = df[(df['GHI'] > 1300) | (df['ModA'] > 1300)| (df['ModB'] > 1300)]\n",
    "\n",
    "# Display the filtered rows\n",
    "print(high_irradiance_df)\n",
    "\n",
    "# Optionally, see how many such rows exist\n",
    "print(f\"Number of rows with ModA or ModB> 1300: {len(high_irradiance_df)}\")\n"
   ]
  },
  {
   "cell_type": "markdown",
   "id": "914ab852",
   "metadata": {},
   "source": [
    "<div style=\"border-radius:10px; border:orange solid; padding: 15px; font-size:100%; text-align:left; font-color:#325939;background-color:#2c2c2c\">\n",
    "<h3 align=\"left\"><font color='orange'>💡 Observations:</font></h3>\n",
    "🔍 Observations:\n",
    "1. All Entries Happen During Midday (Solar Peak Hours):\n",
    "hour values range from 11 to 14, which is typically solar noon — the time of maximum irradiance.\n",
    "\n",
    "is_night is False in all cases, so these are daytime observations.\n",
    "\n",
    "2. High GHI Values:\n",
    "GHI ranges from 1302 to 1413 W/m², slightly above the common limit of ~1300 W/m².\n",
    "\n",
    "Some of these exceed the WMO typical clear-sky max of ~1360 W/m² at Earth's surface — values like 1390, 1413 W/m² are unusually high.\n",
    "\n",
    "3. High ModA/ModB (Module Plane Irradiance):\n",
    "ModA and ModB go up to 1342.3 W/m², which tracks GHI closely. This is plausible if modules are angled optimally or receiving additional diffuse/reflected radiation.\n",
    "</dv>\n",
    "\n"
   ]
  },
  {
   "cell_type": "code",
   "execution_count": null,
   "id": "2ac58302",
   "metadata": {},
   "outputs": [],
   "source": [
    "# Drop flags and timestamp columns\n",
    "df.drop(columns=['irradiance_negative_combo', 'hour', 'is_night'], inplace=True)\n",
    "df"
   ]
  },
  {
   "cell_type": "markdown",
   "id": "dbd47d28",
   "metadata": {},
   "source": [
    "### Outlier Detection"
   ]
  },
  {
   "cell_type": "markdown",
   "id": "c14de184",
   "metadata": {},
   "source": [
    "#### Detect outliers"
   ]
  },
  {
   "cell_type": "code",
   "execution_count": null,
   "id": "c0817562",
   "metadata": {},
   "outputs": [],
   "source": [
    "#checking for outliers in select columns\n",
    "#using z-score method\n",
    "columns_to_check_for_outliers = ['ModA','ModB','WS','WSgust','GHI','DHI','DNI']\n",
    "outlier_counts = {\n",
    "    \"column\": [],\n",
    "    \"num_outliers\": []\n",
    "}\n",
    "\n",
    "for col in columns_to_check_for_outliers:\n",
    "    outliers = detect_outliers_zscore(df, col)\n",
    "    outlier_counts[\"column\"].append(col)\n",
    "    outlier_counts[\"num_outliers\"].append(len(outliers))\n",
    "\n",
    "outlier_df = pd.DataFrame(outlier_counts)\n",
    "print(outlier_df)\n",
    "    "
   ]
  },
  {
   "cell_type": "markdown",
   "id": "0b0fd3a1",
   "metadata": {},
   "source": [
    "#### Visualize outliers"
   ]
  },
  {
   "cell_type": "code",
   "execution_count": null,
   "id": "d780bfbb",
   "metadata": {},
   "outputs": [],
   "source": [
    "#Z-Score Outlier Strip Plot\n",
    "n_cols = 2# adjust as needed\n",
    "n_rows = (len(columns_to_check_for_outliers) + n_cols - 1) // n_cols\n",
    "\n",
    "fig, axes = plt.subplots(n_rows, n_cols, figsize=(8 * n_cols, 2 * n_rows))\n",
    "axes = axes.flatten()\n",
    "\n",
    "for i, col in enumerate(columns_to_check_for_outliers):\n",
    "    df['z'] = zscore(df[col].dropna())\n",
    "    sns.stripplot(x='z', data=df.dropna(subset=[col]), color='orange', ax=axes[i])\n",
    "    axes[i].axvline(3, color='red', linestyle='--')\n",
    "    axes[i].axvline(-3, color='red', linestyle='--')\n",
    "    axes[i].set_title(f'Z-score Strip Plot: {col}')\n",
    "    axes[i].set_xlabel('Z-score')\n",
    "\n",
    "# Remove unused axes if any\n",
    "for j in range(i + 1, len(axes)):\n",
    "    fig.delaxes(axes[j])\n",
    "\n",
    "plt.tight_layout()\n",
    "plt.show()\n"
   ]
  },
  {
   "cell_type": "code",
   "execution_count": null,
   "id": "313917c3",
   "metadata": {},
   "outputs": [],
   "source": [
    "#Visualizing outliers using boxplots\n",
    "plt.figure(figsize=(max(8, len(columns_to_check_for_outliers)* 1.5), 6))  # Auto-adjust width\n",
    "sns.set_context(\"notebook\", font_scale=1.1)\n",
    "\n",
    "sns.boxplot(data=df[columns_to_check_for_outliers], palette=\"Set2\")\n",
    "plt.title(\"Boxplot of Selected Columns (Outliers Visualized)\", fontsize=14)\n",
    "plt.xticks(rotation=45, fontsize=12)\n",
    "plt.yticks(fontsize=12)\n",
    "plt.tight_layout()\n",
    "plt.show()\n"
   ]
  },
  {
   "cell_type": "code",
   "execution_count": null,
   "id": "72fe79a8",
   "metadata": {},
   "outputs": [],
   "source": [
    "#Singling out WS and WSgust\n",
    "plt.figure(figsize=(max(8, len(columns_to_check_for_outliers) * 1.5), 6))  # Auto-adjust width\n",
    "sns.set_context(\"notebook\", font_scale=1.1)\n",
    "\n",
    "sns.boxplot(data=df[columns_to_check_for_outliers[2:4]], palette=\"Set2\")\n",
    "plt.title(\"Boxplot of Selected Columns (Outliers Visualized)\", fontsize=14)\n",
    "plt.xticks(rotation=45, fontsize=12)\n",
    "plt.yticks(fontsize=12)\n",
    "plt.tight_layout()\n",
    "plt.show()\n"
   ]
  },
  {
   "cell_type": "code",
   "execution_count": null,
   "id": "4f44983c",
   "metadata": {},
   "outputs": [],
   "source": [
    "# drop z column\n",
    "df.drop(columns=['z'], inplace=True)    "
   ]
  },
  {
   "cell_type": "markdown",
   "id": "12bf76d6",
   "metadata": {},
   "source": [
    "## 🧹 5. Data Cleaning  <a id='5-data-cleaning'></a>"
   ]
  },
  {
   "cell_type": "code",
   "execution_count": null,
   "id": "eb24cfff",
   "metadata": {},
   "outputs": [],
   "source": [
    "#saving the original dataset for later use\n",
    "df_original=df.copy()"
   ]
  },
  {
   "cell_type": "markdown",
   "id": "3f2011f5",
   "metadata": {},
   "source": [
    "#### Handle Missing Values"
   ]
  },
  {
   "cell_type": "code",
   "execution_count": null,
   "id": "77c31238",
   "metadata": {},
   "outputs": [],
   "source": [
    "# the comments columns doesn't have any value\n",
    "columns_to_delete = ['Comments']\n",
    "existing_columns = [col for col in columns_to_delete if col in df.columns]\n",
    "df = df.drop(existing_columns, axis=1)"
   ]
  },
  {
   "cell_type": "markdown",
   "id": "97706a22",
   "metadata": {},
   "source": []
  },
  {
   "cell_type": "code",
   "execution_count": null,
   "id": "50c0e276",
   "metadata": {},
   "outputs": [],
   "source": [
    "#inspect the data after dropping the columns\n",
    "df.sample(10)"
   ]
  },
  {
   "cell_type": "markdown",
   "id": "38beb7e9",
   "metadata": {},
   "source": [
    "### Handle Inconsistencies / Inaccuracies"
   ]
  },
  {
   "cell_type": "markdown",
   "id": "637f2e5a",
   "metadata": {},
   "source": [
    "#### Impute zero when all GHI,DHI and DNI are negative during the night"
   ]
  },
  {
   "cell_type": "code",
   "execution_count": null,
   "id": "02a88448",
   "metadata": {},
   "outputs": [],
   "source": [
    "# Impute zero when all GHI,DHI and DNI are negative during the night\n",
    "conditions = {\n",
    "    'GHI': '<= 0',\n",
    "    'DHI': '<= 0',\n",
    "    'DNI': '<= 0',\n",
    "    'is_night': '== True'\n",
    "}\n",
    "\n",
    "updates = {\n",
    "    'GHI': 0,\n",
    "    'DHI': 0,\n",
    "    'DNI': 0\n",
    "}\n",
    "df = conditional_impute(df, 'Timestamp', conditions, updates)"
   ]
  },
  {
   "cell_type": "code",
   "execution_count": null,
   "id": "2716b35f",
   "metadata": {},
   "outputs": [],
   "source": [
    "df.sample(10)"
   ]
  },
  {
   "cell_type": "code",
   "execution_count": null,
   "id": "8330281c",
   "metadata": {},
   "outputs": [],
   "source": [
    "#because of the near linear relationship between GHi and MdoA and ModB, we can use regression to impute the \n",
    "#negative values of GHI\n",
    "\n",
    "#Lets set all negative values of GHI,DHI,DNI to NaN\n",
    "df=replace_negative_irradiance_with_nan(df)\n",
    "# Impute GHI using ModA and ModB\n",
    "df =impute_ghi_with_linear_regression(df)\n",
    "df.sample(10)"
   ]
  },
  {
   "cell_type": "code",
   "execution_count": null,
   "id": "30020051",
   "metadata": {},
   "outputs": [],
   "source": [
    "#impute DNI and DHI using other features\n",
    "df=impute_multiple_targets_with_model(df)\n"
   ]
  },
  {
   "cell_type": "code",
   "execution_count": null,
   "id": "24f4ef2d",
   "metadata": {},
   "outputs": [],
   "source": [
    "df.sample(10)"
   ]
  },
  {
   "cell_type": "code",
   "execution_count": null,
   "id": "7c228357",
   "metadata": {},
   "outputs": [],
   "source": [
    "#count of missing values per column\n",
    "df.isna().sum() "
   ]
  },
  {
   "cell_type": "markdown",
   "id": "56888a21",
   "metadata": {},
   "source": [
    "## 📈 6. Univariate Analysis (Single Variable) <a id='Univariate Analysis (Single Variable)'></a>"
   ]
  },
  {
   "cell_type": "markdown",
   "id": "d6276a64",
   "metadata": {},
   "source": [
    "### Distributions of Variables"
   ]
  },
  {
   "cell_type": "code",
   "execution_count": null,
   "id": "d551c1f5",
   "metadata": {},
   "outputs": [],
   "source": [
    "#plot histograms for continuous variables\n",
    "plot_continuous_histograms(df)"
   ]
  },
  {
   "cell_type": "markdown",
   "id": "bd48393d",
   "metadata": {},
   "source": [
    "## 📉 7. Bivariate/Multivariate Analysis <a id='7-bivariatemultivariate-analysis'>"
   ]
  },
  {
   "cell_type": "markdown",
   "id": "e511f653",
   "metadata": {},
   "source": [
    "### Correlation & Relationship Analysis"
   ]
  },
  {
   "cell_type": "code",
   "execution_count": null,
   "id": "fbc5998e",
   "metadata": {},
   "outputs": [],
   "source": [
    "columns=df.columns.to_list()\n",
    "columns"
   ]
  },
  {
   "cell_type": "code",
   "execution_count": null,
   "id": "4d7fc542",
   "metadata": {},
   "outputs": [],
   "source": [
    "# Pairplot of selected columns\n",
    "columns_for_pairplot = [*columns_to_check_for_outliers, 'Tamb', 'RH', 'BP', 'Precipitation', 'TModA', 'TModB', 'WD']\n",
    "plot_pairplot(df, columns_for_pairplot)"
   ]
  },
  {
   "cell_type": "markdown",
   "id": "b5109aeb",
   "metadata": {},
   "source": [
    "#### Heatmap of correlations (GHI, DNI, DHI, TModA, TModB)."
   ]
  },
  {
   "cell_type": "code",
   "execution_count": null,
   "id": "051d2a1d",
   "metadata": {},
   "outputs": [],
   "source": [
    "columns = ['GHI', 'DNI', 'DHI', 'TModA', 'TModB']\n",
    "plot_correlation_heatmap(df,columns)"
   ]
  },
  {
   "cell_type": "markdown",
   "id": "9ccbf9fa",
   "metadata": {},
   "source": [
    "#### Scatter plots: WS, WSgust, WD vs. GHI; RH vs. Tamb or RH vs. GHI.\n"
   ]
  },
  {
   "cell_type": "code",
   "execution_count": null,
   "id": "92e46459",
   "metadata": {},
   "outputs": [],
   "source": [
    "plot_scatter_relationships(df)"
   ]
  },
  {
   "cell_type": "markdown",
   "id": "ac52881e",
   "metadata": {},
   "source": [
    "#### Wind & Distribution Analysis"
   ]
  },
  {
   "cell_type": "code",
   "execution_count": null,
   "id": "6d36de67",
   "metadata": {},
   "outputs": [],
   "source": [
    "plot_wind_rose(df)"
   ]
  },
  {
   "cell_type": "markdown",
   "id": "b1f98be9",
   "metadata": {},
   "source": [
    "### Temperature Analysis"
   ]
  },
  {
   "cell_type": "code",
   "execution_count": null,
   "id": "52ef812e",
   "metadata": {},
   "outputs": [],
   "source": [
    "#Examine how relative humidity (RH) might influence temperature readings and solar radiation\n",
    "plot_rh_relationships(df)"
   ]
  },
  {
   "cell_type": "markdown",
   "id": "bb12e98d",
   "metadata": {},
   "source": [
    "#### Bubble Chart"
   ]
  },
  {
   "cell_type": "code",
   "execution_count": null,
   "id": "d6bfc16e",
   "metadata": {},
   "outputs": [],
   "source": [
    "#GHI vs. Tamb with bubble size = RH or BP.\n",
    "plot_bubble_ghi_vs_tamb(df)"
   ]
  },
  {
   "cell_type": "markdown",
   "id": "919b8728",
   "metadata": {},
   "source": [
    "### Cleaning Effect"
   ]
  },
  {
   "cell_type": "code",
   "execution_count": null,
   "id": "e7436dc8",
   "metadata": {},
   "outputs": [],
   "source": [
    "# Group by 'Cleaning' and calculate mean for ModA and ModB\n",
    "plot_mod_cleaning_effect(df)"
   ]
  },
  {
   "cell_type": "markdown",
   "id": "9d57c012",
   "metadata": {},
   "source": [
    "## 🧮 Feature Engineering <a id='8-feature-engineering'><a>"
   ]
  },
  {
   "cell_type": "markdown",
   "id": "840c32e9",
   "metadata": {},
   "source": [
    "#### GHI,DNI,DHI,ModA and ModB  have skewed distribution - transforming them to normal distribution will help in case we choose to use parametric tests later"
   ]
  },
  {
   "cell_type": "code",
   "execution_count": null,
   "id": "83da8488",
   "metadata": {},
   "outputs": [],
   "source": [
    "#log transform the columns GHI, DNI, DHI, ModA and ModB\n",
    "df=log_transform_columns(df, ['GHI', 'DNI', 'DHI', 'ModA', 'ModB'])"
   ]
  },
  {
   "cell_type": "code",
   "execution_count": null,
   "id": "8e357239",
   "metadata": {},
   "outputs": [],
   "source": [
    "# recheck the distributions after log transformation\n",
    "plot_continuous_histograms(df)"
   ]
  },
  {
   "cell_type": "markdown",
   "id": "23a428ee",
   "metadata": {},
   "source": [
    "## 📅 9. Time Series Trends  <a id='9-time-series-trends'></a>"
   ]
  },
  {
   "cell_type": "markdown",
   "id": "d64203b2",
   "metadata": {},
   "source": [
    "#### Line or bar charts of GHI, DNI, DHI, Tamb vs. Timestamp."
   ]
  },
  {
   "cell_type": "code",
   "execution_count": null,
   "id": "41c0d266",
   "metadata": {},
   "outputs": [],
   "source": [
    "plot_irradiance_temperature_timeseries(df)"
   ]
  },
  {
   "cell_type": "markdown",
   "id": "f260105d",
   "metadata": {},
   "source": [
    "#### Observe patterns by month, trends throughout day, or anomalies, such as peaks in solar irradiance or temperature fluctuations. "
   ]
  },
  {
   "cell_type": "markdown",
   "id": "0e4a07a0",
   "metadata": {},
   "source": [
    "##### 🔍 1. Monthly Patterns"
   ]
  },
  {
   "cell_type": "code",
   "execution_count": null,
   "id": "c9845dfa",
   "metadata": {},
   "outputs": [],
   "source": [
    "# Extract month from timestamp\n",
    "plot_monthly_irradiance_temperature(df)"
   ]
  },
  {
   "cell_type": "markdown",
   "id": "0164830d",
   "metadata": {},
   "source": [
    "#### 🕒 2. Daily Trends"
   ]
  },
  {
   "cell_type": "code",
   "execution_count": null,
   "id": "572be36d",
   "metadata": {},
   "outputs": [],
   "source": [
    "plot_hourly_irradiance_temperature(df)"
   ]
  },
  {
   "cell_type": "markdown",
   "id": "b98289ce",
   "metadata": {},
   "source": [
    "##### ⚠️ 3. Anomaly Detection (Peaks & Drops)"
   ]
  },
  {
   "cell_type": "code",
   "execution_count": null,
   "id": "7aff2b8c",
   "metadata": {},
   "outputs": [],
   "source": [
    "plot_ghi_anomalies(df)"
   ]
  },
  {
   "cell_type": "markdown",
   "id": "8a419c46",
   "metadata": {},
   "source": [
    "#### Save the preprocessed dataset"
   ]
  },
  {
   "cell_type": "code",
   "execution_count": null,
   "id": "31582a79",
   "metadata": {},
   "outputs": [],
   "source": [
    "#### Save the preprocessed dataset\n",
    "df.to_csv('../data/benin_clean.csv', index=False)\n",
    "df.sample(10)"
   ]
  },
  {
   "cell_type": "markdown",
   "id": "83238c1c",
   "metadata": {},
   "source": [
    "## 🧠 10. Key Insights <a id='10-key-insights'></a>"
   ]
  },
  {
   "cell_type": "markdown",
   "id": "006e170f",
   "metadata": {},
   "source": [
    "<div style=\"border-radius:10px; border:orange solid; padding: 15px; font-size:100%; text-align:left; font-color:#325939;background-color:#2c2c2c\">\n",
    "<h3 align=\"left\"><font color='orange'>💡 Observations:</font></h3>\n",
    "\n",
    "* There is near-linear relationship between WS (Wind Speed) and WSgust (Wind Gust Speed): In the context of the project — analyzing solar energy potential and sensor performance — it might be redundant to include both WS (Wind Speed) and WSgust (Wind Gust)\n",
    "* There is a near linear relationship between GHI and both ModA and ModB\n",
    "* There is a near linear relationship between ModA and ModB\n",
    "* WD has little correlation with any of the other variables\n",
    "* There is a linear relationship between TModA and TModB and their correlation with all other variables is near identical\n",
    "</div>"
   ]
  },
  {
   "cell_type": "markdown",
   "id": "7bb7dfe3",
   "metadata": {},
   "source": [
    "<div style=\"border-radius:10px; border:orange solid; padding: 15px; font-size:100%; text-align:left; font-color:#325939;background-color:#2c2c2c\">\n",
    "<h3 align=\"left\"><font color='orange'>💡 Observations:</font></h3>\n",
    "\n",
    "**☀️ Solar Irradiance Variables (GHI, DNI, DHI, ModA, ModB)**\n",
    "Distributions are right-skewed: Most values are close to zero, with a long tail of high values.\n",
    "\n",
    "**Implication:** These are only non-zero during daytime → confirms irradiance-based splitting logic (e.g., GHI > 0 → daytime).\n",
    "\n",
    "**Action:** There might be a need to  apply log transformation or clipping when using them for modeling or visualization.\n",
    "</div>"
   ]
  },
  {
   "cell_type": "markdown",
   "id": "dc67a9e8",
   "metadata": {},
   "source": [
    "<div style=\"border-radius:10px; border:orange solid; padding: 15px; font-size:100%; text-align:left; font-color:#325939;background-color:#2c2c2c\">\n",
    "<h3 align=\"left\"><font color='orange'>💡 Observations:</font></h3>\n",
    "\n",
    "**💧 Humidity (RH)**\n",
    "Fairly uniform or slightly U-shaped: High frequency at both low and high RH levels.\n",
    "\n",
    "**Implication:** Reflects variability in atmospheric moisture (from dry to humid).\n",
    "\n",
    "**Action:** RH can be a good input to model heat dissipation or fog effects on panels.\n",
    "</div>"
   ]
  },
  {
   "cell_type": "markdown",
   "id": "4c2bcd8d",
   "metadata": {},
   "source": [
    "<div style=\"border-radius:10px; border:orange solid; padding: 15px; font-size:100%; text-align:left; font-color:#325939;background-color:#2c2c2c\">\n",
    "<h3 align=\"left\"><font color='orange'>💡 Observations:</font></h3>\n",
    "\n",
    "**🧪 BP (Barometric Pressure)**\n",
    "Shows cyclical fluctuations (possibly measurement artifact or elevation-influenced).\n",
    "\n",
    "**Implication:** Limited predictive power unless used in atmospheric modeling.\n",
    "\n",
    "**Optional:** Could be dropped if irrelevant for power forecasting.\n",
    "</div>"
   ]
  },
  {
   "cell_type": "markdown",
   "id": "b3aa038b",
   "metadata": {},
   "source": [
    "## 🔚 11. Conclusion & Next Steps <a id='11-conclusion--next-steps'></a>"
   ]
  },
  {
   "cell_type": "markdown",
   "id": "cbc7613b",
   "metadata": {},
   "source": [
    "<div style=\"border-radius:10px; border:orange solid; padding: 15px; font-size:100%; text-align:left; font-color:#325939;background-color:#2c2c2c\">\n",
    "<h3 align=\"left\"><font color='orange'>💡 Recommendations:</font></h3>\n",
    "\n",
    "* Given the strong correlations among solar variables (GHI, DNI, DHI, ModA, ModB), consider dimensionality reduction (e.g., PCA) or selecting a subset to avoid multicollinearity in modeling.\n",
    "* Temperature and humidity variables are moderately correlated with solar irradiance, so including both can help models capture environmental conditions affecting your system.\n",
    "* Log-transforming skewed variables like solar irradiance and wind speeds could improve model performance by normalizing their distributions.\n",
    "* Variables like Cleaning and Precipitation are mostly zeros. Ensure models handle this class imbalance properly or use specialized techniques for rare events.\n",
    "* Consider interaction terms between solar radiation and humidity or temperature, as their interplay may affect your system’s behavior.\n",
    "</div>"
   ]
  }
 ],
 "metadata": {
  "kernelspec": {
   "display_name": "venv",
   "language": "python",
   "name": "python3"
  },
  "language_info": {
   "codemirror_mode": {
    "name": "ipython",
    "version": 3
   },
   "file_extension": ".py",
   "mimetype": "text/x-python",
   "name": "python",
   "nbconvert_exporter": "python",
   "pygments_lexer": "ipython3",
   "version": "3.10.12"
  }
 },
 "nbformat": 4,
 "nbformat_minor": 5
}
