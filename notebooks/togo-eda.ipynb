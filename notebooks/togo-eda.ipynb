{
 "cells": [
  {
   "cell_type": "markdown",
   "id": "d97795a3",
   "metadata": {},
   "source": [
    "# 🌞 MoonLight Energy Solutions: Solar Investment Analysis — Togo 🇹🇬"
   ]
  },
  {
   "cell_type": "code",
   "execution_count": 1,
   "id": "c64a2780",
   "metadata": {},
   "outputs": [],
   "source": [
    "#all imports\n",
    "import pandas as pd\n",
    "import numpy as np\n",
    "import matplotlib.pyplot as plt\n",
    "import seaborn as sns\n",
    "import os\n",
    "import sys\n",
    "sys.path.append('../scripts')\n",
    "import warnings\n",
    "from scipy.stats import zscore\n",
    "from data_quality_utils import columns_with_significant_missing_values,detect_outliers_zscore,find_columns_with_invalid_values, conditional_impute,impute_multiple_targets_with_model,impute_ghi_with_linear_regression,replace_negative_irradiance_with_nan,get_outlier_counts\n",
    "from visualization_utils import plot_continuous_histograms, plot_scatter_relationships,plot_rh_relationships,plot_bubble_ghi_vs_tamb,plot_mod_cleaning_effect,plot_irradiance_temperature_timeseries,plot_hourly_irradiance_temperature, plot_monthly_irradiance_temperature,plot_ghi_anomalies,plot_wind_rose,plot_correlation_heatmap,plot_pairplot,plot_outlier_stripplots,plot_outlier_boxplots,filter_daytime\n",
    "from feature_engineering_utils import log_transform_columns\n",
    "from windrose import WindroseAxes"
   ]
  },
  {
   "cell_type": "code",
   "execution_count": 2,
   "id": "f28232d7",
   "metadata": {},
   "outputs": [],
   "source": [
    "#suppress all warnings\n",
    "warnings.filterwarnings(\"ignore\")"
   ]
  },
  {
   "cell_type": "markdown",
   "id": "d5736fe7",
   "metadata": {},
   "source": [
    "## 📚 Table of Contents\n",
    "\n",
    "1. [📊 Introduction & Objective](#1-introduction--objective)\n",
    "2. [📦 Data Loading & Overview](#2-data-loading--overview)\n",
    "3. [📐 Data Types & Basic Stats](#3-data-types--basic-stats)\n",
    "4. [🔍 Data Quality Analysis](#4-data-quality-analysis)\n",
    "5. [🧹 Data Cleaning](#5-data-cleaning)\n",
    "6. [📈 Univariate Analysis (Single Variable)](#6-univariate-analysis-single-variable)\n",
    "7. [📉 Bivariate/Multivariate Analysis](#7-bivariatemultivariate-analysis)\n",
    "8. [🧮 Feature Engineering](#8-feature-engineering)\n",
    "9. [📅 Time Series Trends](#9-time-series-trends)\n",
    "10. [🧠 Key Insights](#10-key-insights)\n",
    "11. [🔚 Conclusion & Next Steps](#11-conclusion--next-steps)"
   ]
  },
  {
   "cell_type": "markdown",
   "id": "cd5bc349",
   "metadata": {},
   "source": [
    "## 📊 1. Introduction & Objective <a id='#1-introduction--objective'></a>"
   ]
  },
  {
   "cell_type": "markdown",
   "id": "fab041df",
   "metadata": {},
   "source": [
    "### Background in the Subject Matter\n",
    "\n",
    "Understanding lead and lag measures is crucial in solar energy analytics to identify what drives performance (lead) and what reflects performance outcomes (lag).\n",
    "\n",
    "---\n",
    "\n",
    "#### 🔹 Lead Measures\n",
    "\n",
    "| Parameter         | Description |\n",
    "|------------------|-------------|\n",
    "| **Cleaning (1/0)** | Indicates whether a cleaning event occurred. A direct action that can influence panel efficiency. |\n",
    "| **Precipitation (mm/min)** | Natural cleaning mechanism. Affects panel cleanliness and performance. |\n",
    "| **RH (Relative Humidity)** | Can contribute to soiling or panel fogging. A predictive factor for efficiency. |\n",
    "| **WS (Wind Speed)** | Can help remove dust/debris. High wind may act as a natural cleaning factor. |\n",
    "| **TModA / TModB (°C)** | Module temperatures. Impact the conversion efficiency — monitored to optimize performance. |\n",
    "\n",
    "\n",
    "\n",
    "#### 🔹 Lag Measures\n",
    "\n",
    "| Parameter         | Description |\n",
    "|------------------|-------------|\n",
    "| **GHI (Global Horizontal Irradiance)** | Total solar radiation on a horizontal surface — reflects solar availability. |\n",
    "| **DNI (Direct Normal Irradiance)** | Direct solar radiation received perpendicularly — outcome of atmospheric conditions. |\n",
    "| **DHI (Diffuse Horizontal Irradiance)** | Scattered sunlight received — indicates sky clarity. |\n",
    "| **ModA / ModB (W/m²)** | Actual power received by panels — outcome of environmental and maintenance factors. |\n",
    "| **Tamb (Ambient Temperature)** | Environmental factor — affects efficiency but cannot be controlled. |\n",
    "| **BP (Barometric Pressure)** | Reflects atmospheric conditions — no direct control. |\n",
    "| **WD / WDstdev** | Wind direction and its variability — background environmental effects. |\n",
    "| **WSstdev / WSgust** | Wind variability and gusts — lag indicators of natural impacts. |\n",
    "\n"
   ]
  },
  {
   "cell_type": "markdown",
   "id": "6526f6c2",
   "metadata": {},
   "source": [
    "###  🇹🇬 Background on Togo"
   ]
  },
  {
   "cell_type": "markdown",
   "id": "d675c529",
   "metadata": {},
   "source": [
    "#### ☀️ Solar Power Potential of Togo\n",
    "Togo, located in West Africa between latitudes 6° and 11° North of the Equator, possesses considerable untapped solar energy potential. With average Global Horizontal Irradiance (GHI) levels ranging from 4.5 to 5.8 kWh/m²/day, the country enjoys consistent and abundant sunlight year-round. This makes Togo particularly well-suited for solar photovoltaic (PV) energy generation, especially in rural and off-grid areas where access to electricity remains limited. Its geographical position, combined with varied terrain and rising energy needs, positions Togo as a strategic location for scalable solar energy investments. "
   ]
  },
  {
   "cell_type": "markdown",
   "id": "2b5b059c",
   "metadata": {},
   "source": [
    "### 🎯 Business Objective\n",
    "\n",
    "- Perform a quick yet insightful analysis of solar radiation and environmental data to:\n",
    "- Identify **key trends and performance drivers**.\n",
    "- Understand the **impact of environmental conditions** on solar energy potential.\n",
    "- Evaluate the **effect of soiling and cleaning** on solar module performance.\n",
    "- Recommend **ideal conditions or locations** for sustainable solar installations."
   ]
  },
  {
   "cell_type": "markdown",
   "id": "c718d221",
   "metadata": {},
   "source": [
    "\n",
    "### 🧠 Key Questions to Explore\n",
    "\n",
    "1. **Solar Potential**  \n",
    "   - Where and when is solar radiation (`GHI`, `DNI`, `DHI`) strongest and most consistent?\n",
    "\n",
    "2. **Environmental Impact on Performance**  \n",
    "   - How do temperature, humidity, wind, and pressure affect solar metrics?\n",
    "\n",
    "3. **Sensor/Module Performance**  \n",
    "   - How do `ModA` and `ModB` correlate with irradiance data?\n",
    "   - Are performance improvements observed after cleaning?\n",
    "\n",
    "4. **Cleaning Effectiveness**  \n",
    "   - What is the impact of cleaning events on solar performance?\n",
    "   - Can a cleaning schedule be recommended?"
   ]
  },
  {
   "cell_type": "markdown",
   "id": "34a4be9a",
   "metadata": {},
   "source": [
    "## 📦 2. Data Loading & Overview  <a id= '2-data-loading--overview'></a>"
   ]
  },
  {
   "cell_type": "markdown",
   "id": "763c41be",
   "metadata": {},
   "source": [
    "#### Loading Data"
   ]
  },
  {
   "cell_type": "code",
   "execution_count": 3,
   "id": "3b1ac4d4",
   "metadata": {},
   "outputs": [
    {
     "data": {
      "text/html": [
       "<div>\n",
       "<style scoped>\n",
       "    .dataframe tbody tr th:only-of-type {\n",
       "        vertical-align: middle;\n",
       "    }\n",
       "\n",
       "    .dataframe tbody tr th {\n",
       "        vertical-align: top;\n",
       "    }\n",
       "\n",
       "    .dataframe thead th {\n",
       "        text-align: right;\n",
       "    }\n",
       "</style>\n",
       "<table border=\"1\" class=\"dataframe\">\n",
       "  <thead>\n",
       "    <tr style=\"text-align: right;\">\n",
       "      <th></th>\n",
       "      <th>Timestamp</th>\n",
       "      <th>GHI</th>\n",
       "      <th>DNI</th>\n",
       "      <th>DHI</th>\n",
       "      <th>ModA</th>\n",
       "      <th>ModB</th>\n",
       "      <th>Tamb</th>\n",
       "      <th>RH</th>\n",
       "      <th>WS</th>\n",
       "      <th>WSgust</th>\n",
       "      <th>WSstdev</th>\n",
       "      <th>WD</th>\n",
       "      <th>WDstdev</th>\n",
       "      <th>BP</th>\n",
       "      <th>Cleaning</th>\n",
       "      <th>Precipitation</th>\n",
       "      <th>TModA</th>\n",
       "      <th>TModB</th>\n",
       "      <th>Comments</th>\n",
       "    </tr>\n",
       "  </thead>\n",
       "  <tbody>\n",
       "    <tr>\n",
       "      <th>0</th>\n",
       "      <td>2021-10-25 00:01</td>\n",
       "      <td>-1.3</td>\n",
       "      <td>0.0</td>\n",
       "      <td>0.0</td>\n",
       "      <td>0.0</td>\n",
       "      <td>0.0</td>\n",
       "      <td>24.8</td>\n",
       "      <td>94.5</td>\n",
       "      <td>0.9</td>\n",
       "      <td>1.1</td>\n",
       "      <td>0.4</td>\n",
       "      <td>227.6</td>\n",
       "      <td>1.1</td>\n",
       "      <td>977</td>\n",
       "      <td>0</td>\n",
       "      <td>0.0</td>\n",
       "      <td>24.7</td>\n",
       "      <td>24.4</td>\n",
       "      <td>NaN</td>\n",
       "    </tr>\n",
       "    <tr>\n",
       "      <th>1</th>\n",
       "      <td>2021-10-25 00:02</td>\n",
       "      <td>-1.3</td>\n",
       "      <td>0.0</td>\n",
       "      <td>0.0</td>\n",
       "      <td>0.0</td>\n",
       "      <td>0.0</td>\n",
       "      <td>24.8</td>\n",
       "      <td>94.4</td>\n",
       "      <td>1.1</td>\n",
       "      <td>1.6</td>\n",
       "      <td>0.4</td>\n",
       "      <td>229.3</td>\n",
       "      <td>0.7</td>\n",
       "      <td>977</td>\n",
       "      <td>0</td>\n",
       "      <td>0.0</td>\n",
       "      <td>24.7</td>\n",
       "      <td>24.4</td>\n",
       "      <td>NaN</td>\n",
       "    </tr>\n",
       "    <tr>\n",
       "      <th>2</th>\n",
       "      <td>2021-10-25 00:03</td>\n",
       "      <td>-1.3</td>\n",
       "      <td>0.0</td>\n",
       "      <td>0.0</td>\n",
       "      <td>0.0</td>\n",
       "      <td>0.0</td>\n",
       "      <td>24.8</td>\n",
       "      <td>94.4</td>\n",
       "      <td>1.2</td>\n",
       "      <td>1.4</td>\n",
       "      <td>0.3</td>\n",
       "      <td>228.5</td>\n",
       "      <td>2.9</td>\n",
       "      <td>977</td>\n",
       "      <td>0</td>\n",
       "      <td>0.0</td>\n",
       "      <td>24.7</td>\n",
       "      <td>24.4</td>\n",
       "      <td>NaN</td>\n",
       "    </tr>\n",
       "    <tr>\n",
       "      <th>3</th>\n",
       "      <td>2021-10-25 00:04</td>\n",
       "      <td>-1.2</td>\n",
       "      <td>0.0</td>\n",
       "      <td>0.0</td>\n",
       "      <td>0.0</td>\n",
       "      <td>0.0</td>\n",
       "      <td>24.8</td>\n",
       "      <td>94.3</td>\n",
       "      <td>1.2</td>\n",
       "      <td>1.6</td>\n",
       "      <td>0.3</td>\n",
       "      <td>229.1</td>\n",
       "      <td>4.6</td>\n",
       "      <td>977</td>\n",
       "      <td>0</td>\n",
       "      <td>0.0</td>\n",
       "      <td>24.7</td>\n",
       "      <td>24.4</td>\n",
       "      <td>NaN</td>\n",
       "    </tr>\n",
       "    <tr>\n",
       "      <th>4</th>\n",
       "      <td>2021-10-25 00:05</td>\n",
       "      <td>-1.2</td>\n",
       "      <td>0.0</td>\n",
       "      <td>0.0</td>\n",
       "      <td>0.0</td>\n",
       "      <td>0.0</td>\n",
       "      <td>24.8</td>\n",
       "      <td>94.0</td>\n",
       "      <td>1.3</td>\n",
       "      <td>1.6</td>\n",
       "      <td>0.4</td>\n",
       "      <td>227.5</td>\n",
       "      <td>1.6</td>\n",
       "      <td>977</td>\n",
       "      <td>0</td>\n",
       "      <td>0.0</td>\n",
       "      <td>24.7</td>\n",
       "      <td>24.4</td>\n",
       "      <td>NaN</td>\n",
       "    </tr>\n",
       "    <tr>\n",
       "      <th>...</th>\n",
       "      <td>...</td>\n",
       "      <td>...</td>\n",
       "      <td>...</td>\n",
       "      <td>...</td>\n",
       "      <td>...</td>\n",
       "      <td>...</td>\n",
       "      <td>...</td>\n",
       "      <td>...</td>\n",
       "      <td>...</td>\n",
       "      <td>...</td>\n",
       "      <td>...</td>\n",
       "      <td>...</td>\n",
       "      <td>...</td>\n",
       "      <td>...</td>\n",
       "      <td>...</td>\n",
       "      <td>...</td>\n",
       "      <td>...</td>\n",
       "      <td>...</td>\n",
       "      <td>...</td>\n",
       "    </tr>\n",
       "    <tr>\n",
       "      <th>525595</th>\n",
       "      <td>2022-10-24 23:56</td>\n",
       "      <td>-0.8</td>\n",
       "      <td>0.0</td>\n",
       "      <td>0.0</td>\n",
       "      <td>0.0</td>\n",
       "      <td>0.0</td>\n",
       "      <td>25.2</td>\n",
       "      <td>53.8</td>\n",
       "      <td>0.0</td>\n",
       "      <td>0.0</td>\n",
       "      <td>0.0</td>\n",
       "      <td>0.0</td>\n",
       "      <td>0.0</td>\n",
       "      <td>977</td>\n",
       "      <td>0</td>\n",
       "      <td>0.0</td>\n",
       "      <td>24.3</td>\n",
       "      <td>24.0</td>\n",
       "      <td>NaN</td>\n",
       "    </tr>\n",
       "    <tr>\n",
       "      <th>525596</th>\n",
       "      <td>2022-10-24 23:57</td>\n",
       "      <td>-0.9</td>\n",
       "      <td>0.0</td>\n",
       "      <td>0.0</td>\n",
       "      <td>0.0</td>\n",
       "      <td>0.0</td>\n",
       "      <td>25.3</td>\n",
       "      <td>53.5</td>\n",
       "      <td>0.0</td>\n",
       "      <td>0.0</td>\n",
       "      <td>0.0</td>\n",
       "      <td>0.0</td>\n",
       "      <td>0.0</td>\n",
       "      <td>977</td>\n",
       "      <td>0</td>\n",
       "      <td>0.0</td>\n",
       "      <td>24.3</td>\n",
       "      <td>24.0</td>\n",
       "      <td>NaN</td>\n",
       "    </tr>\n",
       "    <tr>\n",
       "      <th>525597</th>\n",
       "      <td>2022-10-24 23:58</td>\n",
       "      <td>-1.0</td>\n",
       "      <td>0.0</td>\n",
       "      <td>0.0</td>\n",
       "      <td>0.0</td>\n",
       "      <td>0.0</td>\n",
       "      <td>25.3</td>\n",
       "      <td>53.4</td>\n",
       "      <td>0.0</td>\n",
       "      <td>0.0</td>\n",
       "      <td>0.0</td>\n",
       "      <td>0.0</td>\n",
       "      <td>0.0</td>\n",
       "      <td>977</td>\n",
       "      <td>0</td>\n",
       "      <td>0.0</td>\n",
       "      <td>24.2</td>\n",
       "      <td>23.9</td>\n",
       "      <td>NaN</td>\n",
       "    </tr>\n",
       "    <tr>\n",
       "      <th>525598</th>\n",
       "      <td>2022-10-24 23:59</td>\n",
       "      <td>-1.1</td>\n",
       "      <td>0.0</td>\n",
       "      <td>0.0</td>\n",
       "      <td>0.0</td>\n",
       "      <td>0.0</td>\n",
       "      <td>25.4</td>\n",
       "      <td>53.5</td>\n",
       "      <td>0.0</td>\n",
       "      <td>0.0</td>\n",
       "      <td>0.0</td>\n",
       "      <td>0.0</td>\n",
       "      <td>0.0</td>\n",
       "      <td>977</td>\n",
       "      <td>0</td>\n",
       "      <td>0.0</td>\n",
       "      <td>24.1</td>\n",
       "      <td>23.8</td>\n",
       "      <td>NaN</td>\n",
       "    </tr>\n",
       "    <tr>\n",
       "      <th>525599</th>\n",
       "      <td>2022-10-25 00:00</td>\n",
       "      <td>-1.2</td>\n",
       "      <td>0.0</td>\n",
       "      <td>0.0</td>\n",
       "      <td>0.0</td>\n",
       "      <td>0.0</td>\n",
       "      <td>25.4</td>\n",
       "      <td>52.3</td>\n",
       "      <td>0.0</td>\n",
       "      <td>0.0</td>\n",
       "      <td>0.0</td>\n",
       "      <td>0.0</td>\n",
       "      <td>0.0</td>\n",
       "      <td>977</td>\n",
       "      <td>0</td>\n",
       "      <td>0.0</td>\n",
       "      <td>24.1</td>\n",
       "      <td>23.8</td>\n",
       "      <td>NaN</td>\n",
       "    </tr>\n",
       "  </tbody>\n",
       "</table>\n",
       "<p>525600 rows × 19 columns</p>\n",
       "</div>"
      ],
      "text/plain": [
       "               Timestamp  GHI  DNI  DHI  ModA  ModB  Tamb    RH   WS  WSgust  \\\n",
       "0       2021-10-25 00:01 -1.3  0.0  0.0   0.0   0.0  24.8  94.5  0.9     1.1   \n",
       "1       2021-10-25 00:02 -1.3  0.0  0.0   0.0   0.0  24.8  94.4  1.1     1.6   \n",
       "2       2021-10-25 00:03 -1.3  0.0  0.0   0.0   0.0  24.8  94.4  1.2     1.4   \n",
       "3       2021-10-25 00:04 -1.2  0.0  0.0   0.0   0.0  24.8  94.3  1.2     1.6   \n",
       "4       2021-10-25 00:05 -1.2  0.0  0.0   0.0   0.0  24.8  94.0  1.3     1.6   \n",
       "...                  ...  ...  ...  ...   ...   ...   ...   ...  ...     ...   \n",
       "525595  2022-10-24 23:56 -0.8  0.0  0.0   0.0   0.0  25.2  53.8  0.0     0.0   \n",
       "525596  2022-10-24 23:57 -0.9  0.0  0.0   0.0   0.0  25.3  53.5  0.0     0.0   \n",
       "525597  2022-10-24 23:58 -1.0  0.0  0.0   0.0   0.0  25.3  53.4  0.0     0.0   \n",
       "525598  2022-10-24 23:59 -1.1  0.0  0.0   0.0   0.0  25.4  53.5  0.0     0.0   \n",
       "525599  2022-10-25 00:00 -1.2  0.0  0.0   0.0   0.0  25.4  52.3  0.0     0.0   \n",
       "\n",
       "        WSstdev     WD  WDstdev   BP  Cleaning  Precipitation  TModA  TModB  \\\n",
       "0           0.4  227.6      1.1  977         0            0.0   24.7   24.4   \n",
       "1           0.4  229.3      0.7  977         0            0.0   24.7   24.4   \n",
       "2           0.3  228.5      2.9  977         0            0.0   24.7   24.4   \n",
       "3           0.3  229.1      4.6  977         0            0.0   24.7   24.4   \n",
       "4           0.4  227.5      1.6  977         0            0.0   24.7   24.4   \n",
       "...         ...    ...      ...  ...       ...            ...    ...    ...   \n",
       "525595      0.0    0.0      0.0  977         0            0.0   24.3   24.0   \n",
       "525596      0.0    0.0      0.0  977         0            0.0   24.3   24.0   \n",
       "525597      0.0    0.0      0.0  977         0            0.0   24.2   23.9   \n",
       "525598      0.0    0.0      0.0  977         0            0.0   24.1   23.8   \n",
       "525599      0.0    0.0      0.0  977         0            0.0   24.1   23.8   \n",
       "\n",
       "        Comments  \n",
       "0            NaN  \n",
       "1            NaN  \n",
       "2            NaN  \n",
       "3            NaN  \n",
       "4            NaN  \n",
       "...          ...  \n",
       "525595       NaN  \n",
       "525596       NaN  \n",
       "525597       NaN  \n",
       "525598       NaN  \n",
       "525599       NaN  \n",
       "\n",
       "[525600 rows x 19 columns]"
      ]
     },
     "execution_count": 3,
     "metadata": {},
     "output_type": "execute_result"
    }
   ],
   "source": [
    "#load the data from the github repo or #using locally stored dataset\n",
    "df=pd.read_csv('../data/togo-dapaong_qc.csv')\n",
    "df"
   ]
  },
  {
   "cell_type": "markdown",
   "id": "65497291",
   "metadata": {},
   "source": [
    "#### Data Overview"
   ]
  },
  {
   "cell_type": "code",
   "execution_count": 4,
   "id": "170d7996",
   "metadata": {},
   "outputs": [
    {
     "data": {
      "text/html": [
       "<div>\n",
       "<style scoped>\n",
       "    .dataframe tbody tr th:only-of-type {\n",
       "        vertical-align: middle;\n",
       "    }\n",
       "\n",
       "    .dataframe tbody tr th {\n",
       "        vertical-align: top;\n",
       "    }\n",
       "\n",
       "    .dataframe thead th {\n",
       "        text-align: right;\n",
       "    }\n",
       "</style>\n",
       "<table border=\"1\" class=\"dataframe\">\n",
       "  <thead>\n",
       "    <tr style=\"text-align: right;\">\n",
       "      <th></th>\n",
       "      <th>Timestamp</th>\n",
       "      <th>GHI</th>\n",
       "      <th>DNI</th>\n",
       "      <th>DHI</th>\n",
       "      <th>ModA</th>\n",
       "      <th>ModB</th>\n",
       "      <th>Tamb</th>\n",
       "      <th>RH</th>\n",
       "      <th>WS</th>\n",
       "      <th>WSgust</th>\n",
       "      <th>WSstdev</th>\n",
       "      <th>WD</th>\n",
       "      <th>WDstdev</th>\n",
       "      <th>BP</th>\n",
       "      <th>Cleaning</th>\n",
       "      <th>Precipitation</th>\n",
       "      <th>TModA</th>\n",
       "      <th>TModB</th>\n",
       "      <th>Comments</th>\n",
       "    </tr>\n",
       "  </thead>\n",
       "  <tbody>\n",
       "    <tr>\n",
       "      <th>0</th>\n",
       "      <td>2021-10-25 00:01</td>\n",
       "      <td>-1.3</td>\n",
       "      <td>0.0</td>\n",
       "      <td>0.0</td>\n",
       "      <td>0.0</td>\n",
       "      <td>0.0</td>\n",
       "      <td>24.8</td>\n",
       "      <td>94.5</td>\n",
       "      <td>0.9</td>\n",
       "      <td>1.1</td>\n",
       "      <td>0.4</td>\n",
       "      <td>227.6</td>\n",
       "      <td>1.1</td>\n",
       "      <td>977</td>\n",
       "      <td>0</td>\n",
       "      <td>0.0</td>\n",
       "      <td>24.7</td>\n",
       "      <td>24.4</td>\n",
       "      <td>NaN</td>\n",
       "    </tr>\n",
       "    <tr>\n",
       "      <th>1</th>\n",
       "      <td>2021-10-25 00:02</td>\n",
       "      <td>-1.3</td>\n",
       "      <td>0.0</td>\n",
       "      <td>0.0</td>\n",
       "      <td>0.0</td>\n",
       "      <td>0.0</td>\n",
       "      <td>24.8</td>\n",
       "      <td>94.4</td>\n",
       "      <td>1.1</td>\n",
       "      <td>1.6</td>\n",
       "      <td>0.4</td>\n",
       "      <td>229.3</td>\n",
       "      <td>0.7</td>\n",
       "      <td>977</td>\n",
       "      <td>0</td>\n",
       "      <td>0.0</td>\n",
       "      <td>24.7</td>\n",
       "      <td>24.4</td>\n",
       "      <td>NaN</td>\n",
       "    </tr>\n",
       "    <tr>\n",
       "      <th>2</th>\n",
       "      <td>2021-10-25 00:03</td>\n",
       "      <td>-1.3</td>\n",
       "      <td>0.0</td>\n",
       "      <td>0.0</td>\n",
       "      <td>0.0</td>\n",
       "      <td>0.0</td>\n",
       "      <td>24.8</td>\n",
       "      <td>94.4</td>\n",
       "      <td>1.2</td>\n",
       "      <td>1.4</td>\n",
       "      <td>0.3</td>\n",
       "      <td>228.5</td>\n",
       "      <td>2.9</td>\n",
       "      <td>977</td>\n",
       "      <td>0</td>\n",
       "      <td>0.0</td>\n",
       "      <td>24.7</td>\n",
       "      <td>24.4</td>\n",
       "      <td>NaN</td>\n",
       "    </tr>\n",
       "    <tr>\n",
       "      <th>3</th>\n",
       "      <td>2021-10-25 00:04</td>\n",
       "      <td>-1.2</td>\n",
       "      <td>0.0</td>\n",
       "      <td>0.0</td>\n",
       "      <td>0.0</td>\n",
       "      <td>0.0</td>\n",
       "      <td>24.8</td>\n",
       "      <td>94.3</td>\n",
       "      <td>1.2</td>\n",
       "      <td>1.6</td>\n",
       "      <td>0.3</td>\n",
       "      <td>229.1</td>\n",
       "      <td>4.6</td>\n",
       "      <td>977</td>\n",
       "      <td>0</td>\n",
       "      <td>0.0</td>\n",
       "      <td>24.7</td>\n",
       "      <td>24.4</td>\n",
       "      <td>NaN</td>\n",
       "    </tr>\n",
       "    <tr>\n",
       "      <th>4</th>\n",
       "      <td>2021-10-25 00:05</td>\n",
       "      <td>-1.2</td>\n",
       "      <td>0.0</td>\n",
       "      <td>0.0</td>\n",
       "      <td>0.0</td>\n",
       "      <td>0.0</td>\n",
       "      <td>24.8</td>\n",
       "      <td>94.0</td>\n",
       "      <td>1.3</td>\n",
       "      <td>1.6</td>\n",
       "      <td>0.4</td>\n",
       "      <td>227.5</td>\n",
       "      <td>1.6</td>\n",
       "      <td>977</td>\n",
       "      <td>0</td>\n",
       "      <td>0.0</td>\n",
       "      <td>24.7</td>\n",
       "      <td>24.4</td>\n",
       "      <td>NaN</td>\n",
       "    </tr>\n",
       "  </tbody>\n",
       "</table>\n",
       "</div>"
      ],
      "text/plain": [
       "          Timestamp  GHI  DNI  DHI  ModA  ModB  Tamb    RH   WS  WSgust  \\\n",
       "0  2021-10-25 00:01 -1.3  0.0  0.0   0.0   0.0  24.8  94.5  0.9     1.1   \n",
       "1  2021-10-25 00:02 -1.3  0.0  0.0   0.0   0.0  24.8  94.4  1.1     1.6   \n",
       "2  2021-10-25 00:03 -1.3  0.0  0.0   0.0   0.0  24.8  94.4  1.2     1.4   \n",
       "3  2021-10-25 00:04 -1.2  0.0  0.0   0.0   0.0  24.8  94.3  1.2     1.6   \n",
       "4  2021-10-25 00:05 -1.2  0.0  0.0   0.0   0.0  24.8  94.0  1.3     1.6   \n",
       "\n",
       "   WSstdev     WD  WDstdev   BP  Cleaning  Precipitation  TModA  TModB  \\\n",
       "0      0.4  227.6      1.1  977         0            0.0   24.7   24.4   \n",
       "1      0.4  229.3      0.7  977         0            0.0   24.7   24.4   \n",
       "2      0.3  228.5      2.9  977         0            0.0   24.7   24.4   \n",
       "3      0.3  229.1      4.6  977         0            0.0   24.7   24.4   \n",
       "4      0.4  227.5      1.6  977         0            0.0   24.7   24.4   \n",
       "\n",
       "   Comments  \n",
       "0       NaN  \n",
       "1       NaN  \n",
       "2       NaN  \n",
       "3       NaN  \n",
       "4       NaN  "
      ]
     },
     "execution_count": 4,
     "metadata": {},
     "output_type": "execute_result"
    }
   ],
   "source": [
    "df.head()"
   ]
  },
  {
   "cell_type": "code",
   "execution_count": 5,
   "id": "0facf217",
   "metadata": {},
   "outputs": [
    {
     "data": {
      "text/html": [
       "<div>\n",
       "<style scoped>\n",
       "    .dataframe tbody tr th:only-of-type {\n",
       "        vertical-align: middle;\n",
       "    }\n",
       "\n",
       "    .dataframe tbody tr th {\n",
       "        vertical-align: top;\n",
       "    }\n",
       "\n",
       "    .dataframe thead th {\n",
       "        text-align: right;\n",
       "    }\n",
       "</style>\n",
       "<table border=\"1\" class=\"dataframe\">\n",
       "  <thead>\n",
       "    <tr style=\"text-align: right;\">\n",
       "      <th></th>\n",
       "      <th>Timestamp</th>\n",
       "      <th>GHI</th>\n",
       "      <th>DNI</th>\n",
       "      <th>DHI</th>\n",
       "      <th>ModA</th>\n",
       "      <th>ModB</th>\n",
       "      <th>Tamb</th>\n",
       "      <th>RH</th>\n",
       "      <th>WS</th>\n",
       "      <th>WSgust</th>\n",
       "      <th>WSstdev</th>\n",
       "      <th>WD</th>\n",
       "      <th>WDstdev</th>\n",
       "      <th>BP</th>\n",
       "      <th>Cleaning</th>\n",
       "      <th>Precipitation</th>\n",
       "      <th>TModA</th>\n",
       "      <th>TModB</th>\n",
       "      <th>Comments</th>\n",
       "    </tr>\n",
       "  </thead>\n",
       "  <tbody>\n",
       "    <tr>\n",
       "      <th>525595</th>\n",
       "      <td>2022-10-24 23:56</td>\n",
       "      <td>-0.8</td>\n",
       "      <td>0.0</td>\n",
       "      <td>0.0</td>\n",
       "      <td>0.0</td>\n",
       "      <td>0.0</td>\n",
       "      <td>25.2</td>\n",
       "      <td>53.8</td>\n",
       "      <td>0.0</td>\n",
       "      <td>0.0</td>\n",
       "      <td>0.0</td>\n",
       "      <td>0.0</td>\n",
       "      <td>0.0</td>\n",
       "      <td>977</td>\n",
       "      <td>0</td>\n",
       "      <td>0.0</td>\n",
       "      <td>24.3</td>\n",
       "      <td>24.0</td>\n",
       "      <td>NaN</td>\n",
       "    </tr>\n",
       "    <tr>\n",
       "      <th>525596</th>\n",
       "      <td>2022-10-24 23:57</td>\n",
       "      <td>-0.9</td>\n",
       "      <td>0.0</td>\n",
       "      <td>0.0</td>\n",
       "      <td>0.0</td>\n",
       "      <td>0.0</td>\n",
       "      <td>25.3</td>\n",
       "      <td>53.5</td>\n",
       "      <td>0.0</td>\n",
       "      <td>0.0</td>\n",
       "      <td>0.0</td>\n",
       "      <td>0.0</td>\n",
       "      <td>0.0</td>\n",
       "      <td>977</td>\n",
       "      <td>0</td>\n",
       "      <td>0.0</td>\n",
       "      <td>24.3</td>\n",
       "      <td>24.0</td>\n",
       "      <td>NaN</td>\n",
       "    </tr>\n",
       "    <tr>\n",
       "      <th>525597</th>\n",
       "      <td>2022-10-24 23:58</td>\n",
       "      <td>-1.0</td>\n",
       "      <td>0.0</td>\n",
       "      <td>0.0</td>\n",
       "      <td>0.0</td>\n",
       "      <td>0.0</td>\n",
       "      <td>25.3</td>\n",
       "      <td>53.4</td>\n",
       "      <td>0.0</td>\n",
       "      <td>0.0</td>\n",
       "      <td>0.0</td>\n",
       "      <td>0.0</td>\n",
       "      <td>0.0</td>\n",
       "      <td>977</td>\n",
       "      <td>0</td>\n",
       "      <td>0.0</td>\n",
       "      <td>24.2</td>\n",
       "      <td>23.9</td>\n",
       "      <td>NaN</td>\n",
       "    </tr>\n",
       "    <tr>\n",
       "      <th>525598</th>\n",
       "      <td>2022-10-24 23:59</td>\n",
       "      <td>-1.1</td>\n",
       "      <td>0.0</td>\n",
       "      <td>0.0</td>\n",
       "      <td>0.0</td>\n",
       "      <td>0.0</td>\n",
       "      <td>25.4</td>\n",
       "      <td>53.5</td>\n",
       "      <td>0.0</td>\n",
       "      <td>0.0</td>\n",
       "      <td>0.0</td>\n",
       "      <td>0.0</td>\n",
       "      <td>0.0</td>\n",
       "      <td>977</td>\n",
       "      <td>0</td>\n",
       "      <td>0.0</td>\n",
       "      <td>24.1</td>\n",
       "      <td>23.8</td>\n",
       "      <td>NaN</td>\n",
       "    </tr>\n",
       "    <tr>\n",
       "      <th>525599</th>\n",
       "      <td>2022-10-25 00:00</td>\n",
       "      <td>-1.2</td>\n",
       "      <td>0.0</td>\n",
       "      <td>0.0</td>\n",
       "      <td>0.0</td>\n",
       "      <td>0.0</td>\n",
       "      <td>25.4</td>\n",
       "      <td>52.3</td>\n",
       "      <td>0.0</td>\n",
       "      <td>0.0</td>\n",
       "      <td>0.0</td>\n",
       "      <td>0.0</td>\n",
       "      <td>0.0</td>\n",
       "      <td>977</td>\n",
       "      <td>0</td>\n",
       "      <td>0.0</td>\n",
       "      <td>24.1</td>\n",
       "      <td>23.8</td>\n",
       "      <td>NaN</td>\n",
       "    </tr>\n",
       "  </tbody>\n",
       "</table>\n",
       "</div>"
      ],
      "text/plain": [
       "               Timestamp  GHI  DNI  DHI  ModA  ModB  Tamb    RH   WS  WSgust  \\\n",
       "525595  2022-10-24 23:56 -0.8  0.0  0.0   0.0   0.0  25.2  53.8  0.0     0.0   \n",
       "525596  2022-10-24 23:57 -0.9  0.0  0.0   0.0   0.0  25.3  53.5  0.0     0.0   \n",
       "525597  2022-10-24 23:58 -1.0  0.0  0.0   0.0   0.0  25.3  53.4  0.0     0.0   \n",
       "525598  2022-10-24 23:59 -1.1  0.0  0.0   0.0   0.0  25.4  53.5  0.0     0.0   \n",
       "525599  2022-10-25 00:00 -1.2  0.0  0.0   0.0   0.0  25.4  52.3  0.0     0.0   \n",
       "\n",
       "        WSstdev   WD  WDstdev   BP  Cleaning  Precipitation  TModA  TModB  \\\n",
       "525595      0.0  0.0      0.0  977         0            0.0   24.3   24.0   \n",
       "525596      0.0  0.0      0.0  977         0            0.0   24.3   24.0   \n",
       "525597      0.0  0.0      0.0  977         0            0.0   24.2   23.9   \n",
       "525598      0.0  0.0      0.0  977         0            0.0   24.1   23.8   \n",
       "525599      0.0  0.0      0.0  977         0            0.0   24.1   23.8   \n",
       "\n",
       "        Comments  \n",
       "525595       NaN  \n",
       "525596       NaN  \n",
       "525597       NaN  \n",
       "525598       NaN  \n",
       "525599       NaN  "
      ]
     },
     "execution_count": 5,
     "metadata": {},
     "output_type": "execute_result"
    }
   ],
   "source": [
    "df.tail()"
   ]
  },
  {
   "cell_type": "code",
   "execution_count": 6,
   "id": "c971dec9",
   "metadata": {},
   "outputs": [
    {
     "data": {
      "text/html": [
       "<div>\n",
       "<style scoped>\n",
       "    .dataframe tbody tr th:only-of-type {\n",
       "        vertical-align: middle;\n",
       "    }\n",
       "\n",
       "    .dataframe tbody tr th {\n",
       "        vertical-align: top;\n",
       "    }\n",
       "\n",
       "    .dataframe thead th {\n",
       "        text-align: right;\n",
       "    }\n",
       "</style>\n",
       "<table border=\"1\" class=\"dataframe\">\n",
       "  <thead>\n",
       "    <tr style=\"text-align: right;\">\n",
       "      <th></th>\n",
       "      <th>Timestamp</th>\n",
       "      <th>GHI</th>\n",
       "      <th>DNI</th>\n",
       "      <th>DHI</th>\n",
       "      <th>ModA</th>\n",
       "      <th>ModB</th>\n",
       "      <th>Tamb</th>\n",
       "      <th>RH</th>\n",
       "      <th>WS</th>\n",
       "      <th>WSgust</th>\n",
       "      <th>WSstdev</th>\n",
       "      <th>WD</th>\n",
       "      <th>WDstdev</th>\n",
       "      <th>BP</th>\n",
       "      <th>Cleaning</th>\n",
       "      <th>Precipitation</th>\n",
       "      <th>TModA</th>\n",
       "      <th>TModB</th>\n",
       "      <th>Comments</th>\n",
       "    </tr>\n",
       "  </thead>\n",
       "  <tbody>\n",
       "    <tr>\n",
       "      <th>445583</th>\n",
       "      <td>2022-08-30 10:24</td>\n",
       "      <td>451.9</td>\n",
       "      <td>7.0</td>\n",
       "      <td>443.7</td>\n",
       "      <td>429.0</td>\n",
       "      <td>424.2</td>\n",
       "      <td>27.2</td>\n",
       "      <td>73.7</td>\n",
       "      <td>1.6</td>\n",
       "      <td>2.1</td>\n",
       "      <td>0.4</td>\n",
       "      <td>10.9</td>\n",
       "      <td>12.9</td>\n",
       "      <td>978</td>\n",
       "      <td>0</td>\n",
       "      <td>0.0</td>\n",
       "      <td>37.8</td>\n",
       "      <td>43.2</td>\n",
       "      <td>NaN</td>\n",
       "    </tr>\n",
       "    <tr>\n",
       "      <th>466746</th>\n",
       "      <td>2022-09-14 03:07</td>\n",
       "      <td>-1.2</td>\n",
       "      <td>0.0</td>\n",
       "      <td>0.0</td>\n",
       "      <td>0.0</td>\n",
       "      <td>0.0</td>\n",
       "      <td>23.0</td>\n",
       "      <td>98.3</td>\n",
       "      <td>1.6</td>\n",
       "      <td>1.9</td>\n",
       "      <td>0.4</td>\n",
       "      <td>244.2</td>\n",
       "      <td>1.7</td>\n",
       "      <td>976</td>\n",
       "      <td>0</td>\n",
       "      <td>0.0</td>\n",
       "      <td>22.7</td>\n",
       "      <td>22.4</td>\n",
       "      <td>NaN</td>\n",
       "    </tr>\n",
       "    <tr>\n",
       "      <th>95216</th>\n",
       "      <td>2021-12-30 02:57</td>\n",
       "      <td>-3.3</td>\n",
       "      <td>0.0</td>\n",
       "      <td>0.0</td>\n",
       "      <td>0.0</td>\n",
       "      <td>0.0</td>\n",
       "      <td>19.0</td>\n",
       "      <td>29.2</td>\n",
       "      <td>1.9</td>\n",
       "      <td>2.4</td>\n",
       "      <td>0.3</td>\n",
       "      <td>79.7</td>\n",
       "      <td>6.7</td>\n",
       "      <td>977</td>\n",
       "      <td>0</td>\n",
       "      <td>0.0</td>\n",
       "      <td>16.9</td>\n",
       "      <td>16.6</td>\n",
       "      <td>NaN</td>\n",
       "    </tr>\n",
       "    <tr>\n",
       "      <th>314975</th>\n",
       "      <td>2022-05-31 17:36</td>\n",
       "      <td>69.6</td>\n",
       "      <td>0.0</td>\n",
       "      <td>66.2</td>\n",
       "      <td>63.7</td>\n",
       "      <td>63.0</td>\n",
       "      <td>32.5</td>\n",
       "      <td>58.0</td>\n",
       "      <td>0.7</td>\n",
       "      <td>1.9</td>\n",
       "      <td>0.7</td>\n",
       "      <td>195.0</td>\n",
       "      <td>11.0</td>\n",
       "      <td>973</td>\n",
       "      <td>0</td>\n",
       "      <td>0.0</td>\n",
       "      <td>34.6</td>\n",
       "      <td>34.8</td>\n",
       "      <td>NaN</td>\n",
       "    </tr>\n",
       "    <tr>\n",
       "      <th>480658</th>\n",
       "      <td>2022-09-23 18:59</td>\n",
       "      <td>-0.2</td>\n",
       "      <td>0.0</td>\n",
       "      <td>0.0</td>\n",
       "      <td>0.0</td>\n",
       "      <td>0.0</td>\n",
       "      <td>23.2</td>\n",
       "      <td>91.1</td>\n",
       "      <td>0.1</td>\n",
       "      <td>0.7</td>\n",
       "      <td>0.3</td>\n",
       "      <td>25.2</td>\n",
       "      <td>0.1</td>\n",
       "      <td>975</td>\n",
       "      <td>0</td>\n",
       "      <td>0.0</td>\n",
       "      <td>23.3</td>\n",
       "      <td>23.2</td>\n",
       "      <td>NaN</td>\n",
       "    </tr>\n",
       "    <tr>\n",
       "      <th>383968</th>\n",
       "      <td>2022-07-18 15:29</td>\n",
       "      <td>686.0</td>\n",
       "      <td>397.5</td>\n",
       "      <td>405.1</td>\n",
       "      <td>596.2</td>\n",
       "      <td>592.5</td>\n",
       "      <td>28.2</td>\n",
       "      <td>75.6</td>\n",
       "      <td>4.3</td>\n",
       "      <td>5.2</td>\n",
       "      <td>0.6</td>\n",
       "      <td>222.4</td>\n",
       "      <td>11.5</td>\n",
       "      <td>976</td>\n",
       "      <td>0</td>\n",
       "      <td>0.0</td>\n",
       "      <td>37.5</td>\n",
       "      <td>37.5</td>\n",
       "      <td>NaN</td>\n",
       "    </tr>\n",
       "    <tr>\n",
       "      <th>40312</th>\n",
       "      <td>2021-11-21 23:53</td>\n",
       "      <td>-2.7</td>\n",
       "      <td>0.0</td>\n",
       "      <td>0.0</td>\n",
       "      <td>0.0</td>\n",
       "      <td>0.0</td>\n",
       "      <td>24.7</td>\n",
       "      <td>35.4</td>\n",
       "      <td>0.1</td>\n",
       "      <td>0.7</td>\n",
       "      <td>0.2</td>\n",
       "      <td>66.2</td>\n",
       "      <td>0.3</td>\n",
       "      <td>975</td>\n",
       "      <td>0</td>\n",
       "      <td>0.0</td>\n",
       "      <td>22.0</td>\n",
       "      <td>21.4</td>\n",
       "      <td>NaN</td>\n",
       "    </tr>\n",
       "    <tr>\n",
       "      <th>375747</th>\n",
       "      <td>2022-07-12 22:28</td>\n",
       "      <td>-2.2</td>\n",
       "      <td>0.0</td>\n",
       "      <td>0.0</td>\n",
       "      <td>0.0</td>\n",
       "      <td>0.0</td>\n",
       "      <td>27.9</td>\n",
       "      <td>71.0</td>\n",
       "      <td>1.6</td>\n",
       "      <td>2.4</td>\n",
       "      <td>0.5</td>\n",
       "      <td>217.7</td>\n",
       "      <td>9.7</td>\n",
       "      <td>979</td>\n",
       "      <td>0</td>\n",
       "      <td>0.0</td>\n",
       "      <td>27.2</td>\n",
       "      <td>26.8</td>\n",
       "      <td>NaN</td>\n",
       "    </tr>\n",
       "    <tr>\n",
       "      <th>139796</th>\n",
       "      <td>2022-01-30 01:57</td>\n",
       "      <td>-3.5</td>\n",
       "      <td>0.0</td>\n",
       "      <td>0.0</td>\n",
       "      <td>0.0</td>\n",
       "      <td>0.0</td>\n",
       "      <td>22.2</td>\n",
       "      <td>18.2</td>\n",
       "      <td>3.3</td>\n",
       "      <td>4.4</td>\n",
       "      <td>0.6</td>\n",
       "      <td>58.5</td>\n",
       "      <td>9.5</td>\n",
       "      <td>978</td>\n",
       "      <td>0</td>\n",
       "      <td>0.0</td>\n",
       "      <td>21.4</td>\n",
       "      <td>20.9</td>\n",
       "      <td>NaN</td>\n",
       "    </tr>\n",
       "    <tr>\n",
       "      <th>484928</th>\n",
       "      <td>2022-09-26 18:09</td>\n",
       "      <td>-2.2</td>\n",
       "      <td>0.0</td>\n",
       "      <td>0.0</td>\n",
       "      <td>0.1</td>\n",
       "      <td>0.1</td>\n",
       "      <td>23.4</td>\n",
       "      <td>93.1</td>\n",
       "      <td>0.0</td>\n",
       "      <td>0.0</td>\n",
       "      <td>0.0</td>\n",
       "      <td>0.0</td>\n",
       "      <td>0.0</td>\n",
       "      <td>976</td>\n",
       "      <td>0</td>\n",
       "      <td>0.0</td>\n",
       "      <td>22.7</td>\n",
       "      <td>22.6</td>\n",
       "      <td>NaN</td>\n",
       "    </tr>\n",
       "  </tbody>\n",
       "</table>\n",
       "</div>"
      ],
      "text/plain": [
       "               Timestamp    GHI    DNI    DHI   ModA   ModB  Tamb    RH   WS  \\\n",
       "445583  2022-08-30 10:24  451.9    7.0  443.7  429.0  424.2  27.2  73.7  1.6   \n",
       "466746  2022-09-14 03:07   -1.2    0.0    0.0    0.0    0.0  23.0  98.3  1.6   \n",
       "95216   2021-12-30 02:57   -3.3    0.0    0.0    0.0    0.0  19.0  29.2  1.9   \n",
       "314975  2022-05-31 17:36   69.6    0.0   66.2   63.7   63.0  32.5  58.0  0.7   \n",
       "480658  2022-09-23 18:59   -0.2    0.0    0.0    0.0    0.0  23.2  91.1  0.1   \n",
       "383968  2022-07-18 15:29  686.0  397.5  405.1  596.2  592.5  28.2  75.6  4.3   \n",
       "40312   2021-11-21 23:53   -2.7    0.0    0.0    0.0    0.0  24.7  35.4  0.1   \n",
       "375747  2022-07-12 22:28   -2.2    0.0    0.0    0.0    0.0  27.9  71.0  1.6   \n",
       "139796  2022-01-30 01:57   -3.5    0.0    0.0    0.0    0.0  22.2  18.2  3.3   \n",
       "484928  2022-09-26 18:09   -2.2    0.0    0.0    0.1    0.1  23.4  93.1  0.0   \n",
       "\n",
       "        WSgust  WSstdev     WD  WDstdev   BP  Cleaning  Precipitation  TModA  \\\n",
       "445583     2.1      0.4   10.9     12.9  978         0            0.0   37.8   \n",
       "466746     1.9      0.4  244.2      1.7  976         0            0.0   22.7   \n",
       "95216      2.4      0.3   79.7      6.7  977         0            0.0   16.9   \n",
       "314975     1.9      0.7  195.0     11.0  973         0            0.0   34.6   \n",
       "480658     0.7      0.3   25.2      0.1  975         0            0.0   23.3   \n",
       "383968     5.2      0.6  222.4     11.5  976         0            0.0   37.5   \n",
       "40312      0.7      0.2   66.2      0.3  975         0            0.0   22.0   \n",
       "375747     2.4      0.5  217.7      9.7  979         0            0.0   27.2   \n",
       "139796     4.4      0.6   58.5      9.5  978         0            0.0   21.4   \n",
       "484928     0.0      0.0    0.0      0.0  976         0            0.0   22.7   \n",
       "\n",
       "        TModB  Comments  \n",
       "445583   43.2       NaN  \n",
       "466746   22.4       NaN  \n",
       "95216    16.6       NaN  \n",
       "314975   34.8       NaN  \n",
       "480658   23.2       NaN  \n",
       "383968   37.5       NaN  \n",
       "40312    21.4       NaN  \n",
       "375747   26.8       NaN  \n",
       "139796   20.9       NaN  \n",
       "484928   22.6       NaN  "
      ]
     },
     "execution_count": 6,
     "metadata": {},
     "output_type": "execute_result"
    }
   ],
   "source": [
    "df.sample(10)"
   ]
  },
  {
   "cell_type": "code",
   "execution_count": 7,
   "id": "53a653f1",
   "metadata": {},
   "outputs": [
    {
     "data": {
      "text/plain": [
       "(525600, 19)"
      ]
     },
     "execution_count": 7,
     "metadata": {},
     "output_type": "execute_result"
    }
   ],
   "source": [
    "#shape of the dataset\n",
    "df.shape"
   ]
  },
  {
   "cell_type": "code",
   "execution_count": 8,
   "id": "c7b45767",
   "metadata": {},
   "outputs": [
    {
     "data": {
      "text/plain": [
       "Index(['Timestamp', 'GHI', 'DNI', 'DHI', 'ModA', 'ModB', 'Tamb', 'RH', 'WS',\n",
       "       'WSgust', 'WSstdev', 'WD', 'WDstdev', 'BP', 'Cleaning', 'Precipitation',\n",
       "       'TModA', 'TModB', 'Comments'],\n",
       "      dtype='object')"
      ]
     },
     "execution_count": 8,
     "metadata": {},
     "output_type": "execute_result"
    }
   ],
   "source": [
    "#list of columns of the dataset\n",
    "df.columns"
   ]
  },
  {
   "cell_type": "markdown",
   "id": "8e7976fe",
   "metadata": {},
   "source": [
    "## 📐 3. Data Types & Basic Stats <a id='3-data-types--basic-stats'></a>"
   ]
  },
  {
   "cell_type": "markdown",
   "id": "a85c63d7",
   "metadata": {},
   "source": [
    "#### Data Summaries - basics stats"
   ]
  },
  {
   "cell_type": "code",
   "execution_count": 9,
   "id": "3be4cc20",
   "metadata": {},
   "outputs": [
    {
     "data": {
      "text/html": [
       "<div>\n",
       "<style scoped>\n",
       "    .dataframe tbody tr th:only-of-type {\n",
       "        vertical-align: middle;\n",
       "    }\n",
       "\n",
       "    .dataframe tbody tr th {\n",
       "        vertical-align: top;\n",
       "    }\n",
       "\n",
       "    .dataframe thead th {\n",
       "        text-align: right;\n",
       "    }\n",
       "</style>\n",
       "<table border=\"1\" class=\"dataframe\">\n",
       "  <thead>\n",
       "    <tr style=\"text-align: right;\">\n",
       "      <th></th>\n",
       "      <th>count</th>\n",
       "      <th>mean</th>\n",
       "      <th>std</th>\n",
       "      <th>min</th>\n",
       "      <th>25%</th>\n",
       "      <th>50%</th>\n",
       "      <th>75%</th>\n",
       "      <th>max</th>\n",
       "    </tr>\n",
       "  </thead>\n",
       "  <tbody>\n",
       "    <tr>\n",
       "      <th>GHI</th>\n",
       "      <td>525600.0</td>\n",
       "      <td>230.555040</td>\n",
       "      <td>322.532347</td>\n",
       "      <td>-12.7</td>\n",
       "      <td>-2.2</td>\n",
       "      <td>2.1</td>\n",
       "      <td>442.400</td>\n",
       "      <td>1424.0</td>\n",
       "    </tr>\n",
       "    <tr>\n",
       "      <th>DNI</th>\n",
       "      <td>525600.0</td>\n",
       "      <td>151.258469</td>\n",
       "      <td>250.956962</td>\n",
       "      <td>0.0</td>\n",
       "      <td>0.0</td>\n",
       "      <td>0.0</td>\n",
       "      <td>246.400</td>\n",
       "      <td>1004.5</td>\n",
       "    </tr>\n",
       "    <tr>\n",
       "      <th>DHI</th>\n",
       "      <td>525600.0</td>\n",
       "      <td>116.444352</td>\n",
       "      <td>156.520714</td>\n",
       "      <td>0.0</td>\n",
       "      <td>0.0</td>\n",
       "      <td>2.5</td>\n",
       "      <td>215.700</td>\n",
       "      <td>805.7</td>\n",
       "    </tr>\n",
       "    <tr>\n",
       "      <th>ModA</th>\n",
       "      <td>525600.0</td>\n",
       "      <td>226.144375</td>\n",
       "      <td>317.346938</td>\n",
       "      <td>0.0</td>\n",
       "      <td>0.0</td>\n",
       "      <td>4.4</td>\n",
       "      <td>422.525</td>\n",
       "      <td>1380.0</td>\n",
       "    </tr>\n",
       "    <tr>\n",
       "      <th>ModB</th>\n",
       "      <td>525600.0</td>\n",
       "      <td>219.568588</td>\n",
       "      <td>307.932510</td>\n",
       "      <td>0.0</td>\n",
       "      <td>0.0</td>\n",
       "      <td>4.3</td>\n",
       "      <td>411.000</td>\n",
       "      <td>1367.0</td>\n",
       "    </tr>\n",
       "    <tr>\n",
       "      <th>Tamb</th>\n",
       "      <td>525600.0</td>\n",
       "      <td>27.751788</td>\n",
       "      <td>4.758023</td>\n",
       "      <td>14.9</td>\n",
       "      <td>24.2</td>\n",
       "      <td>27.2</td>\n",
       "      <td>31.100</td>\n",
       "      <td>41.4</td>\n",
       "    </tr>\n",
       "    <tr>\n",
       "      <th>RH</th>\n",
       "      <td>525600.0</td>\n",
       "      <td>55.013160</td>\n",
       "      <td>28.778732</td>\n",
       "      <td>3.3</td>\n",
       "      <td>26.5</td>\n",
       "      <td>59.3</td>\n",
       "      <td>80.800</td>\n",
       "      <td>99.8</td>\n",
       "    </tr>\n",
       "    <tr>\n",
       "      <th>WS</th>\n",
       "      <td>525600.0</td>\n",
       "      <td>2.368093</td>\n",
       "      <td>1.462668</td>\n",
       "      <td>0.0</td>\n",
       "      <td>1.4</td>\n",
       "      <td>2.2</td>\n",
       "      <td>3.200</td>\n",
       "      <td>16.1</td>\n",
       "    </tr>\n",
       "    <tr>\n",
       "      <th>WSgust</th>\n",
       "      <td>525600.0</td>\n",
       "      <td>3.229490</td>\n",
       "      <td>1.882565</td>\n",
       "      <td>0.0</td>\n",
       "      <td>1.9</td>\n",
       "      <td>2.9</td>\n",
       "      <td>4.400</td>\n",
       "      <td>23.1</td>\n",
       "    </tr>\n",
       "    <tr>\n",
       "      <th>WSstdev</th>\n",
       "      <td>525600.0</td>\n",
       "      <td>0.557740</td>\n",
       "      <td>0.268923</td>\n",
       "      <td>0.0</td>\n",
       "      <td>0.4</td>\n",
       "      <td>0.5</td>\n",
       "      <td>0.700</td>\n",
       "      <td>4.7</td>\n",
       "    </tr>\n",
       "    <tr>\n",
       "      <th>WD</th>\n",
       "      <td>525600.0</td>\n",
       "      <td>161.741845</td>\n",
       "      <td>91.877217</td>\n",
       "      <td>0.0</td>\n",
       "      <td>74.8</td>\n",
       "      <td>199.1</td>\n",
       "      <td>233.500</td>\n",
       "      <td>360.0</td>\n",
       "    </tr>\n",
       "    <tr>\n",
       "      <th>WDstdev</th>\n",
       "      <td>525600.0</td>\n",
       "      <td>10.559568</td>\n",
       "      <td>5.915490</td>\n",
       "      <td>0.0</td>\n",
       "      <td>6.9</td>\n",
       "      <td>10.8</td>\n",
       "      <td>14.100</td>\n",
       "      <td>86.9</td>\n",
       "    </tr>\n",
       "    <tr>\n",
       "      <th>BP</th>\n",
       "      <td>525600.0</td>\n",
       "      <td>975.915242</td>\n",
       "      <td>2.153977</td>\n",
       "      <td>968.0</td>\n",
       "      <td>975.0</td>\n",
       "      <td>976.0</td>\n",
       "      <td>977.000</td>\n",
       "      <td>983.0</td>\n",
       "    </tr>\n",
       "    <tr>\n",
       "      <th>Cleaning</th>\n",
       "      <td>525600.0</td>\n",
       "      <td>0.000535</td>\n",
       "      <td>0.023116</td>\n",
       "      <td>0.0</td>\n",
       "      <td>0.0</td>\n",
       "      <td>0.0</td>\n",
       "      <td>0.000</td>\n",
       "      <td>1.0</td>\n",
       "    </tr>\n",
       "    <tr>\n",
       "      <th>Precipitation</th>\n",
       "      <td>525600.0</td>\n",
       "      <td>0.001382</td>\n",
       "      <td>0.026350</td>\n",
       "      <td>0.0</td>\n",
       "      <td>0.0</td>\n",
       "      <td>0.0</td>\n",
       "      <td>0.000</td>\n",
       "      <td>2.3</td>\n",
       "    </tr>\n",
       "    <tr>\n",
       "      <th>TModA</th>\n",
       "      <td>525600.0</td>\n",
       "      <td>32.444403</td>\n",
       "      <td>10.998334</td>\n",
       "      <td>13.1</td>\n",
       "      <td>23.9</td>\n",
       "      <td>28.4</td>\n",
       "      <td>40.600</td>\n",
       "      <td>70.4</td>\n",
       "    </tr>\n",
       "    <tr>\n",
       "      <th>TModB</th>\n",
       "      <td>525600.0</td>\n",
       "      <td>33.543330</td>\n",
       "      <td>12.769277</td>\n",
       "      <td>13.1</td>\n",
       "      <td>23.6</td>\n",
       "      <td>28.4</td>\n",
       "      <td>43.000</td>\n",
       "      <td>94.6</td>\n",
       "    </tr>\n",
       "    <tr>\n",
       "      <th>Comments</th>\n",
       "      <td>0.0</td>\n",
       "      <td>NaN</td>\n",
       "      <td>NaN</td>\n",
       "      <td>NaN</td>\n",
       "      <td>NaN</td>\n",
       "      <td>NaN</td>\n",
       "      <td>NaN</td>\n",
       "      <td>NaN</td>\n",
       "    </tr>\n",
       "  </tbody>\n",
       "</table>\n",
       "</div>"
      ],
      "text/plain": [
       "                  count        mean         std    min    25%    50%      75%  \\\n",
       "GHI            525600.0  230.555040  322.532347  -12.7   -2.2    2.1  442.400   \n",
       "DNI            525600.0  151.258469  250.956962    0.0    0.0    0.0  246.400   \n",
       "DHI            525600.0  116.444352  156.520714    0.0    0.0    2.5  215.700   \n",
       "ModA           525600.0  226.144375  317.346938    0.0    0.0    4.4  422.525   \n",
       "ModB           525600.0  219.568588  307.932510    0.0    0.0    4.3  411.000   \n",
       "Tamb           525600.0   27.751788    4.758023   14.9   24.2   27.2   31.100   \n",
       "RH             525600.0   55.013160   28.778732    3.3   26.5   59.3   80.800   \n",
       "WS             525600.0    2.368093    1.462668    0.0    1.4    2.2    3.200   \n",
       "WSgust         525600.0    3.229490    1.882565    0.0    1.9    2.9    4.400   \n",
       "WSstdev        525600.0    0.557740    0.268923    0.0    0.4    0.5    0.700   \n",
       "WD             525600.0  161.741845   91.877217    0.0   74.8  199.1  233.500   \n",
       "WDstdev        525600.0   10.559568    5.915490    0.0    6.9   10.8   14.100   \n",
       "BP             525600.0  975.915242    2.153977  968.0  975.0  976.0  977.000   \n",
       "Cleaning       525600.0    0.000535    0.023116    0.0    0.0    0.0    0.000   \n",
       "Precipitation  525600.0    0.001382    0.026350    0.0    0.0    0.0    0.000   \n",
       "TModA          525600.0   32.444403   10.998334   13.1   23.9   28.4   40.600   \n",
       "TModB          525600.0   33.543330   12.769277   13.1   23.6   28.4   43.000   \n",
       "Comments            0.0         NaN         NaN    NaN    NaN    NaN      NaN   \n",
       "\n",
       "                  max  \n",
       "GHI            1424.0  \n",
       "DNI            1004.5  \n",
       "DHI             805.7  \n",
       "ModA           1380.0  \n",
       "ModB           1367.0  \n",
       "Tamb             41.4  \n",
       "RH               99.8  \n",
       "WS               16.1  \n",
       "WSgust           23.1  \n",
       "WSstdev           4.7  \n",
       "WD              360.0  \n",
       "WDstdev          86.9  \n",
       "BP              983.0  \n",
       "Cleaning          1.0  \n",
       "Precipitation     2.3  \n",
       "TModA            70.4  \n",
       "TModB            94.6  \n",
       "Comments          NaN  "
      ]
     },
     "execution_count": 9,
     "metadata": {},
     "output_type": "execute_result"
    }
   ],
   "source": [
    "#Numerical Columns\n",
    "df.describe().T"
   ]
  },
  {
   "cell_type": "code",
   "execution_count": 10,
   "id": "1e452a50",
   "metadata": {},
   "outputs": [
    {
     "data": {
      "text/html": [
       "<div>\n",
       "<style scoped>\n",
       "    .dataframe tbody tr th:only-of-type {\n",
       "        vertical-align: middle;\n",
       "    }\n",
       "\n",
       "    .dataframe tbody tr th {\n",
       "        vertical-align: top;\n",
       "    }\n",
       "\n",
       "    .dataframe thead th {\n",
       "        text-align: right;\n",
       "    }\n",
       "</style>\n",
       "<table border=\"1\" class=\"dataframe\">\n",
       "  <thead>\n",
       "    <tr style=\"text-align: right;\">\n",
       "      <th></th>\n",
       "      <th>count</th>\n",
       "      <th>unique</th>\n",
       "      <th>top</th>\n",
       "      <th>freq</th>\n",
       "    </tr>\n",
       "  </thead>\n",
       "  <tbody>\n",
       "    <tr>\n",
       "      <th>Timestamp</th>\n",
       "      <td>525600</td>\n",
       "      <td>525600</td>\n",
       "      <td>2022-10-24 23:44</td>\n",
       "      <td>1</td>\n",
       "    </tr>\n",
       "  </tbody>\n",
       "</table>\n",
       "</div>"
      ],
      "text/plain": [
       "            count  unique               top freq\n",
       "Timestamp  525600  525600  2022-10-24 23:44    1"
      ]
     },
     "execution_count": 10,
     "metadata": {},
     "output_type": "execute_result"
    }
   ],
   "source": [
    "#for columns of object type\n",
    "df.describe(include=['O']).T"
   ]
  },
  {
   "cell_type": "markdown",
   "id": "989cc333",
   "metadata": {},
   "source": [
    "#### Data Types"
   ]
  },
  {
   "cell_type": "code",
   "execution_count": 11,
   "id": "d9eb0006",
   "metadata": {},
   "outputs": [
    {
     "name": "stdout",
     "output_type": "stream",
     "text": [
      "<class 'pandas.core.frame.DataFrame'>\n",
      "RangeIndex: 525600 entries, 0 to 525599\n",
      "Data columns (total 19 columns):\n",
      " #   Column         Non-Null Count   Dtype  \n",
      "---  ------         --------------   -----  \n",
      " 0   Timestamp      525600 non-null  object \n",
      " 1   GHI            525600 non-null  float64\n",
      " 2   DNI            525600 non-null  float64\n",
      " 3   DHI            525600 non-null  float64\n",
      " 4   ModA           525600 non-null  float64\n",
      " 5   ModB           525600 non-null  float64\n",
      " 6   Tamb           525600 non-null  float64\n",
      " 7   RH             525600 non-null  float64\n",
      " 8   WS             525600 non-null  float64\n",
      " 9   WSgust         525600 non-null  float64\n",
      " 10  WSstdev        525600 non-null  float64\n",
      " 11  WD             525600 non-null  float64\n",
      " 12  WDstdev        525600 non-null  float64\n",
      " 13  BP             525600 non-null  int64  \n",
      " 14  Cleaning       525600 non-null  int64  \n",
      " 15  Precipitation  525600 non-null  float64\n",
      " 16  TModA          525600 non-null  float64\n",
      " 17  TModB          525600 non-null  float64\n",
      " 18  Comments       0 non-null       float64\n",
      "dtypes: float64(16), int64(2), object(1)\n",
      "memory usage: 76.2+ MB\n"
     ]
    }
   ],
   "source": [
    "df.info()"
   ]
  },
  {
   "cell_type": "markdown",
   "id": "023ac676",
   "metadata": {},
   "source": [
    "### Distinct Values"
   ]
  },
  {
   "cell_type": "code",
   "execution_count": 13,
   "id": "24b72120",
   "metadata": {},
   "outputs": [
    {
     "data": {
      "text/plain": [
       "Timestamp        525600\n",
       "ModA              10672\n",
       "DNI                9612\n",
       "GHI                8633\n",
       "ModB               8439\n",
       "DHI                6841\n",
       "WD                 3601\n",
       "RH                  966\n",
       "TModB               769\n",
       "WDstdev             614\n",
       "TModA               564\n",
       "Tamb                266\n",
       "WSgust              156\n",
       "WS                  143\n",
       "WSstdev              44\n",
       "Precipitation        22\n",
       "BP                   16\n",
       "Cleaning              2\n",
       "Comments              0\n",
       "dtype: int64"
      ]
     },
     "execution_count": 13,
     "metadata": {},
     "output_type": "execute_result"
    }
   ],
   "source": [
    "df.nunique().sort_values(ascending=False)"
   ]
  },
  {
   "cell_type": "markdown",
   "id": "d6dca418",
   "metadata": {},
   "source": [
    "## 🔍 4. Data Quality Analysis <a id='4-data-quality-analysis'></a>"
   ]
  },
  {
   "cell_type": "markdown",
   "id": "6214435d",
   "metadata": {},
   "source": [
    "### Missing-Values Analysis"
   ]
  },
  {
   "cell_type": "code",
   "execution_count": 14,
   "id": "330de782",
   "metadata": {},
   "outputs": [
    {
     "data": {
      "text/plain": [
       "Timestamp             0\n",
       "GHI                   0\n",
       "DNI                   0\n",
       "DHI                   0\n",
       "ModA                  0\n",
       "ModB                  0\n",
       "Tamb                  0\n",
       "RH                    0\n",
       "WS                    0\n",
       "WSgust                0\n",
       "WSstdev               0\n",
       "WD                    0\n",
       "WDstdev               0\n",
       "BP                    0\n",
       "Cleaning              0\n",
       "Precipitation         0\n",
       "TModA                 0\n",
       "TModB                 0\n",
       "Comments         525600\n",
       "dtype: int64"
      ]
     },
     "execution_count": 14,
     "metadata": {},
     "output_type": "execute_result"
    }
   ],
   "source": [
    "#count of missing values per column\n",
    "df.isna().sum() "
   ]
  },
  {
   "cell_type": "markdown",
   "id": "ea0f245d",
   "metadata": {},
   "source": [
    "##### Columns with significant number of missing values"
   ]
  },
  {
   "cell_type": "code",
   "execution_count": 17,
   "id": "0796f967",
   "metadata": {},
   "outputs": [
    {
     "data": {
      "text/html": [
       "<div>\n",
       "<style scoped>\n",
       "    .dataframe tbody tr th:only-of-type {\n",
       "        vertical-align: middle;\n",
       "    }\n",
       "\n",
       "    .dataframe tbody tr th {\n",
       "        vertical-align: top;\n",
       "    }\n",
       "\n",
       "    .dataframe thead th {\n",
       "        text-align: right;\n",
       "    }\n",
       "</style>\n",
       "<table border=\"1\" class=\"dataframe\">\n",
       "  <thead>\n",
       "    <tr style=\"text-align: right;\">\n",
       "      <th></th>\n",
       "      <th>#missing_values</th>\n",
       "      <th>percentage</th>\n",
       "    </tr>\n",
       "  </thead>\n",
       "  <tbody>\n",
       "    <tr>\n",
       "      <th>Comments</th>\n",
       "      <td>525600</td>\n",
       "      <td>100.00%</td>\n",
       "    </tr>\n",
       "  </tbody>\n",
       "</table>\n",
       "</div>"
      ],
      "text/plain": [
       "          #missing_values percentage\n",
       "Comments           525600    100.00%"
      ]
     },
     "execution_count": 17,
     "metadata": {},
     "output_type": "execute_result"
    }
   ],
   "source": [
    "#column with >5% nulls\n",
    "columns_with_significant_missing_values(df, threshold=5)"
   ]
  },
  {
   "cell_type": "markdown",
   "id": "9fc2bddb",
   "metadata": {},
   "source": [
    "### Duplicated Values Analysis"
   ]
  },
  {
   "cell_type": "code",
   "execution_count": 18,
   "id": "a29e205c",
   "metadata": {},
   "outputs": [
    {
     "name": "stdout",
     "output_type": "stream",
     "text": [
      "0\n"
     ]
    }
   ],
   "source": [
    "#check for duplicates\n",
    "print(df.duplicated().sum())"
   ]
  },
  {
   "cell_type": "markdown",
   "id": "e24f1dfe",
   "metadata": {},
   "source": [
    "### Detect Invalid Data"
   ]
  },
  {
   "cell_type": "markdown",
   "id": "748bcb87",
   "metadata": {},
   "source": [
    "#### Check if data lies within the valid range"
   ]
  },
  {
   "cell_type": "code",
   "execution_count": null,
   "id": "2426edcb",
   "metadata": {},
   "outputs": [],
   "source": [
    "# Dictionary of variable name and valid range (min, max)\n",
    "valid_ranges = {\n",
    "    'GHI': (0, 1300),\n",
    "    'DNI': (0, 1300),\n",
    "    'DHI': (0, 1000),\n",
    "    'ModA': (0, 1300),\n",
    "    'ModB': (0, 1300),\n",
    "    'Tamb': (-40, 60),\n",
    "    'TModA': (-40, 80),\n",
    "    'TModB': (-40, 80),\n",
    "    'RH': (0, 100),\n",
    "    'WS': (0, 60),\n",
    "    'WSgust': (0, 80),\n",
    "    'WSstdev': (0, 20),\n",
    "    'WD': (0, 360),\n",
    "    'WDstdev': (0, 180),\n",
    "    'BP': (800, 1100),\n",
    "    'Precipitation': (0, 10),\n",
    "    'Cleaning': (0, 1)\n",
    "}\n"
   ]
  },
  {
   "cell_type": "code",
   "execution_count": null,
   "id": "9d242122",
   "metadata": {},
   "outputs": [],
   "source": [
    "# Find columns that violate the valid ranges\n",
    "find_columns_with_invalid_values(df,valid_ranges)"
   ]
  },
  {
   "cell_type": "markdown",
   "id": "b514277d",
   "metadata": {},
   "source": [
    "##### Looking into Negative Irradiance values"
   ]
  },
  {
   "cell_type": "code",
   "execution_count": null,
   "id": "84beefd4",
   "metadata": {},
   "outputs": [],
   "source": [
    "# Count rows where any of the three values is negative\n",
    "invalid_rows = df[(df['GHI'] < 0) | (df['DHI'] < 0) | (df['DNI'] < 0)]\n",
    "\n",
    "# Print count\n",
    "print(f\"Rows with at least one invalid irradiance value (GHI, DHI, or DNI < 0): {len(invalid_rows)}\")\n"
   ]
  },
  {
   "cell_type": "markdown",
   "id": "8099bca0",
   "metadata": {},
   "source": [
    "##### Check if these negative values for GHI,DNI and DHI occur simultaneously"
   ]
  },
  {
   "cell_type": "code",
   "execution_count": null,
   "id": "1ba9a5ac",
   "metadata": {},
   "outputs": [],
   "source": [
    "# Create a boolean mask for each condition\n",
    "neg_ghi = df['GHI'] < 0\n",
    "neg_dhi = df['DHI'] < 0\n",
    "neg_dni = df['DNI'] < 0\n",
    "\n",
    "# Create a new column to capture the combination as a label\n",
    "df['irradiance_negative_combo'] = (\n",
    "    neg_ghi.astype(int).astype(str) + \n",
    "    neg_dhi.astype(int).astype(str) + \n",
    "    neg_dni.astype(int).astype(str)\n",
    ")\n",
    "\n",
    "# Count frequency of each combination\n",
    "combo_counts = df['irradiance_negative_combo'].value_counts().sort_index()\n",
    "print(combo_counts)\n"
   ]
  },
  {
   "cell_type": "markdown",
   "id": "24ed1366",
   "metadata": {},
   "source": [
    "##### Check if this negative values are recorded during the night -- to see if we can impute 0 as their value"
   ]
  },
  {
   "cell_type": "code",
   "execution_count": null,
   "id": "177cb8b4",
   "metadata": {},
   "outputs": [],
   "source": [
    "#add hour and is_night columns to help with analysis\n",
    "df['hour'] = pd.to_datetime(df['Timestamp']).dt.hour\n",
    "df['is_night'] = (df['hour'] < 6) | (df['hour'] > 18)  # Example: night before 6 AM or after 6 PM\n",
    "df\n"
   ]
  },
  {
   "cell_type": "code",
   "execution_count": null,
   "id": "c19c3993",
   "metadata": {},
   "outputs": [],
   "source": [
    "# Filter rows where GHI, DNI, DHI < 0\n",
    "irradiance_neg = df[(df['GHI'] < 0) | (df['DNI'] < 0) | (df['DHI'] < 0)]\n",
    "\n",
    "# Check how many of those rows occurred at night\n",
    "irradiance_neg['is_night'].value_counts()\n"
   ]
  },
  {
   "cell_type": "markdown",
   "id": "e1005088",
   "metadata": {},
   "source": [
    "##### Negative GHI,DNI,DHI values happening simaltaneously during the night - > candidates to be imputed as zero"
   ]
  },
  {
   "cell_type": "code",
   "execution_count": null,
   "id": "683c18d6",
   "metadata": {},
   "outputs": [],
   "source": [
    "# Group by combo and night/day\n",
    "combo_night_counts = df.groupby(['irradiance_negative_combo', 'is_night']).size().unstack(fill_value=0)\n",
    "\n",
    "# Rename columns for clarity\n",
    "combo_night_counts.columns = ['day_count', 'night_count']  # False → Day, True → Night\n",
    "\n",
    "# Optional: Add total count per combo\n",
    "combo_night_counts['total'] = combo_night_counts['day_count'] + combo_night_counts['night_count']\n",
    "\n",
    "# Display the result\n",
    "print(combo_night_counts)\n"
   ]
  },
  {
   "cell_type": "markdown",
   "id": "acae04b9",
   "metadata": {},
   "source": [
    "<div style=\"border-radius:10px; border:orange solid; padding: 15px; font-size:100%; text-align:left; font-color:#325939;background-color:#2c2c2c\">\n",
    "<h3 align=\"left\"><font color='orange'>💡 Course of Action:</font></h3>\n",
    "\n",
    "Negative GHI,DHI,DNI values happenning simaltaneously during the night will be imputed as zero"
   ]
  },
  {
   "cell_type": "markdown",
   "id": "db26e82e",
   "metadata": {},
   "source": [
    "##### Exploring Irradiance values beyond 1300"
   ]
  },
  {
   "cell_type": "code",
   "execution_count": null,
   "id": "4cb59b82",
   "metadata": {},
   "outputs": [],
   "source": [
    "# Filter rows where GHI or DNI are greater than 1300\n",
    "high_irradiance_df = df[(df['GHI'] > 1300) | (df['ModA'] > 1300)| (df['ModB'] > 1300)]\n",
    "\n",
    "# Display the filtered rows\n",
    "print(high_irradiance_df)\n",
    "\n",
    "# Optionally, see how many such rows exist\n",
    "print(f\"Number of rows with ModA or ModB> 1300: {len(high_irradiance_df)}\")\n"
   ]
  },
  {
   "cell_type": "markdown",
   "id": "914ab852",
   "metadata": {},
   "source": [
    "<div style=\"border-radius:10px; border:orange solid; padding: 15px; font-size:100%; text-align:left; font-color:#325939;background-color:#2c2c2c\">\n",
    "<h3 align=\"left\"><font color='orange'>💡 Observations:</font></h3>\n",
    "🔍 Observations:\n",
    "1. All Entries Happen During Midday (Solar Peak Hours):\n",
    "hour values range from 11 to 14, which is typically solar noon — the time of maximum irradiance.\n",
    "\n",
    "is_night is False in all cases, so these are daytime observations.\n",
    "\n",
    "2. High GHI Values:\n",
    "GHI ranges from 1302 to 1413 W/m², slightly above the common limit of ~1300 W/m².\n",
    "\n",
    "Some of these exceed the WMO typical clear-sky max of ~1360 W/m² at Earth's surface — values like 1390, 1413 W/m² are unusually high.\n",
    "\n",
    "3. High ModA/ModB (Module Plane Irradiance):\n",
    "ModA and ModB go up to 1342.3 W/m², which tracks GHI closely. This is plausible if modules are angled optimally or receiving additional diffuse/reflected radiation.\n",
    "</dv>\n",
    "\n"
   ]
  },
  {
   "cell_type": "code",
   "execution_count": null,
   "id": "2ac58302",
   "metadata": {},
   "outputs": [],
   "source": [
    "# Drop flags and timestamp columns\n",
    "df.drop(columns=['irradiance_negative_combo', 'hour', 'is_night'], inplace=True)\n",
    "df"
   ]
  },
  {
   "cell_type": "markdown",
   "id": "dbd47d28",
   "metadata": {},
   "source": [
    "### Outlier Detection"
   ]
  },
  {
   "cell_type": "markdown",
   "id": "c14de184",
   "metadata": {},
   "source": [
    "#### Detect outliers"
   ]
  },
  {
   "cell_type": "code",
   "execution_count": null,
   "id": "ea51e0ca",
   "metadata": {},
   "outputs": [],
   "source": [
    "columns_to_check_for_outliers = ['ModA','ModB','WS','WSgust','GHI','DHI','DNI']\n",
    "outlier_df =(df, columns_to_check_for_outliers)\n",
    "print(outlier_df)"
   ]
  },
  {
   "cell_type": "markdown",
   "id": "0b0fd3a1",
   "metadata": {},
   "source": [
    "#### Visualize outliers"
   ]
  },
  {
   "cell_type": "code",
   "execution_count": null,
   "id": "ff02bb9a",
   "metadata": {},
   "outputs": [],
   "source": [
    "#Z-Score Outlier Strip Plot\n",
    "plot_outlier_stripplots(df, columns_to_check_for_outliers)"
   ]
  },
  {
   "cell_type": "code",
   "execution_count": null,
   "id": "a0fd1a66",
   "metadata": {},
   "outputs": [],
   "source": [
    "\n",
    "#Visualizing outliers using boxplots\n",
    "plot_outlier_boxplots(df, columns_to_check_for_outliers)"
   ]
  },
  {
   "cell_type": "code",
   "execution_count": null,
   "id": "be363771",
   "metadata": {},
   "outputs": [],
   "source": [
    "#Singling out WS and WSgust\n",
    "plot_outlier_boxplots(df, columns_to_check_for_outliers[2:4])"
   ]
  },
  {
   "cell_type": "markdown",
   "id": "12bf76d6",
   "metadata": {},
   "source": [
    "## 🧹 5. Data Cleaning  <a id='5-data-cleaning'></a>"
   ]
  },
  {
   "cell_type": "code",
   "execution_count": null,
   "id": "eb24cfff",
   "metadata": {},
   "outputs": [],
   "source": [
    "#saving the original dataset for later use\n",
    "df_original=df.copy()"
   ]
  },
  {
   "cell_type": "markdown",
   "id": "3f2011f5",
   "metadata": {},
   "source": [
    "#### Handle Missing Values"
   ]
  },
  {
   "cell_type": "code",
   "execution_count": null,
   "id": "77c31238",
   "metadata": {},
   "outputs": [],
   "source": [
    "# the comments columns doesn't have any value\n",
    "columns_to_delete = ['Comments']\n",
    "existing_columns = [col for col in columns_to_delete if col in df.columns]\n",
    "df = df.drop(existing_columns, axis=1)"
   ]
  },
  {
   "cell_type": "markdown",
   "id": "97706a22",
   "metadata": {},
   "source": []
  },
  {
   "cell_type": "code",
   "execution_count": null,
   "id": "50c0e276",
   "metadata": {},
   "outputs": [],
   "source": [
    "#inspect the data after dropping the columns\n",
    "df.sample(10)"
   ]
  },
  {
   "cell_type": "markdown",
   "id": "38beb7e9",
   "metadata": {},
   "source": [
    "### Handle Inconsistencies / Inaccuracies"
   ]
  },
  {
   "cell_type": "markdown",
   "id": "637f2e5a",
   "metadata": {},
   "source": [
    "#### Impute zero when all GHI,DHI and DNI are negative during the night"
   ]
  },
  {
   "cell_type": "code",
   "execution_count": null,
   "id": "02a88448",
   "metadata": {},
   "outputs": [],
   "source": [
    "# Impute zero when all GHI,DHI and DNI are negative during the night\n",
    "conditions = {\n",
    "    'GHI': '<= 0',\n",
    "    'DHI': '<= 0',\n",
    "    'DNI': '<= 0',\n",
    "    'is_night': '== True'\n",
    "}\n",
    "\n",
    "updates = {\n",
    "    'GHI': 0,\n",
    "    'DHI': 0,\n",
    "    'DNI': 0\n",
    "}\n",
    "df = conditional_impute(df, 'Timestamp', conditions, updates)"
   ]
  },
  {
   "cell_type": "code",
   "execution_count": null,
   "id": "2716b35f",
   "metadata": {},
   "outputs": [],
   "source": [
    "df.sample(10)"
   ]
  },
  {
   "cell_type": "code",
   "execution_count": null,
   "id": "8330281c",
   "metadata": {},
   "outputs": [],
   "source": [
    "#because of the near linear relationship between GHi and MdoA and ModB, we can use regression to impute the \n",
    "#negative values of GHI\n",
    "\n",
    "#Lets set all negative values of GHI,DHI,DNI to NaN\n",
    "df=replace_negative_irradiance_with_nan(df)\n",
    "# Impute GHI using ModA and ModB\n",
    "df =impute_ghi_with_linear_regression(df)\n",
    "df.sample(10)"
   ]
  },
  {
   "cell_type": "code",
   "execution_count": null,
   "id": "30020051",
   "metadata": {},
   "outputs": [],
   "source": [
    "#impute DNI and DHI using other features\n",
    "df=impute_multiple_targets_with_model(df)\n"
   ]
  },
  {
   "cell_type": "code",
   "execution_count": null,
   "id": "24f4ef2d",
   "metadata": {},
   "outputs": [],
   "source": [
    "df.sample(10)"
   ]
  },
  {
   "cell_type": "code",
   "execution_count": null,
   "id": "7c228357",
   "metadata": {},
   "outputs": [],
   "source": [
    "#count of missing values per column\n",
    "df.isna().sum() "
   ]
  },
  {
   "cell_type": "markdown",
   "id": "56888a21",
   "metadata": {},
   "source": [
    "## 📈 6. Univariate Analysis (Single Variable) <a id='Univariate Analysis (Single Variable)'></a>"
   ]
  },
  {
   "cell_type": "markdown",
   "id": "d6276a64",
   "metadata": {},
   "source": [
    "### Distributions of Variables"
   ]
  },
  {
   "cell_type": "code",
   "execution_count": null,
   "id": "d551c1f5",
   "metadata": {},
   "outputs": [],
   "source": [
    "#plot histograms for continuous variables\n",
    "plot_continuous_histograms(df)"
   ]
  },
  {
   "cell_type": "markdown",
   "id": "bd48393d",
   "metadata": {},
   "source": [
    "## 📉 7. Bivariate/Multivariate Analysis <a id='7-bivariatemultivariate-analysis'>"
   ]
  },
  {
   "cell_type": "markdown",
   "id": "e511f653",
   "metadata": {},
   "source": [
    "### Correlation & Relationship Analysis"
   ]
  },
  {
   "cell_type": "code",
   "execution_count": null,
   "id": "fbc5998e",
   "metadata": {},
   "outputs": [],
   "source": [
    "columns=df.columns.to_list()\n",
    "columns"
   ]
  },
  {
   "cell_type": "code",
   "execution_count": null,
   "id": "4d7fc542",
   "metadata": {},
   "outputs": [],
   "source": [
    "# Pairplot of selected columns\n",
    "columns_for_pairplot = [*columns_to_check_for_outliers, 'Tamb', 'RH', 'BP', 'Precipitation', 'TModA', 'TModB', 'WD']\n",
    "plot_pairplot(df, columns_for_pairplot)"
   ]
  },
  {
   "cell_type": "markdown",
   "id": "b5109aeb",
   "metadata": {},
   "source": [
    "#### Heatmap of correlations (GHI, DNI, DHI, TModA, TModB)."
   ]
  },
  {
   "cell_type": "code",
   "execution_count": null,
   "id": "051d2a1d",
   "metadata": {},
   "outputs": [],
   "source": [
    "columns = ['GHI', 'DNI', 'DHI', 'TModA', 'TModB']\n",
    "plot_correlation_heatmap(df,columns)"
   ]
  },
  {
   "cell_type": "markdown",
   "id": "9ccbf9fa",
   "metadata": {},
   "source": [
    "#### Scatter plots: WS, WSgust, WD vs. GHI; RH vs. Tamb or RH vs. GHI.\n"
   ]
  },
  {
   "cell_type": "code",
   "execution_count": null,
   "id": "92e46459",
   "metadata": {},
   "outputs": [],
   "source": [
    "plot_scatter_relationships(df)"
   ]
  },
  {
   "cell_type": "markdown",
   "id": "ac52881e",
   "metadata": {},
   "source": [
    "#### Wind & Distribution Analysis"
   ]
  },
  {
   "cell_type": "code",
   "execution_count": null,
   "id": "6d36de67",
   "metadata": {},
   "outputs": [],
   "source": [
    "plot_wind_rose(df)"
   ]
  },
  {
   "cell_type": "markdown",
   "id": "b1f98be9",
   "metadata": {},
   "source": [
    "### Temperature Analysis"
   ]
  },
  {
   "cell_type": "code",
   "execution_count": null,
   "id": "52ef812e",
   "metadata": {},
   "outputs": [],
   "source": [
    "#Examine how relative humidity (RH) might influence temperature readings and solar radiation\n",
    "plot_rh_relationships(df)"
   ]
  },
  {
   "cell_type": "markdown",
   "id": "bb12e98d",
   "metadata": {},
   "source": [
    "#### Bubble Chart"
   ]
  },
  {
   "cell_type": "code",
   "execution_count": null,
   "id": "d6bfc16e",
   "metadata": {},
   "outputs": [],
   "source": [
    "#GHI vs. Tamb with bubble size = RH or BP.\n",
    "plot_bubble_ghi_vs_tamb(df)"
   ]
  },
  {
   "cell_type": "markdown",
   "id": "919b8728",
   "metadata": {},
   "source": [
    "### Cleaning Effect"
   ]
  },
  {
   "cell_type": "code",
   "execution_count": null,
   "id": "e7436dc8",
   "metadata": {},
   "outputs": [],
   "source": [
    "# Group by 'Cleaning' and calculate mean for ModA and ModB\n",
    "plot_mod_cleaning_effect(df)"
   ]
  },
  {
   "cell_type": "markdown",
   "id": "9d57c012",
   "metadata": {},
   "source": [
    "## 🧮 Feature Engineering <a id='8-feature-engineering'><a>"
   ]
  },
  {
   "cell_type": "markdown",
   "id": "840c32e9",
   "metadata": {},
   "source": [
    "#### GHI,DNI,DHI,ModA and ModB  have skewed distribution - transforming them to normal distribution will help in case we choose to use parametric tests later"
   ]
  },
  {
   "cell_type": "code",
   "execution_count": null,
   "id": "83da8488",
   "metadata": {},
   "outputs": [],
   "source": [
    "#log transform the columns GHI, DNI, DHI, ModA and ModB\n",
    "df=log_transform_columns(df, ['GHI', 'DNI', 'DHI', 'ModA', 'ModB'])"
   ]
  },
  {
   "cell_type": "code",
   "execution_count": null,
   "id": "8e357239",
   "metadata": {},
   "outputs": [],
   "source": [
    "# recheck the distributions after log transformation\n",
    "plot_continuous_histograms(df)"
   ]
  },
  {
   "cell_type": "markdown",
   "id": "23a428ee",
   "metadata": {},
   "source": [
    "## 📅 9. Time Series Trends  <a id='9-time-series-trends'></a>"
   ]
  },
  {
   "cell_type": "markdown",
   "id": "d64203b2",
   "metadata": {},
   "source": [
    "#### Line or bar charts of GHI, DNI, DHI, Tamb vs. Timestamp."
   ]
  },
  {
   "cell_type": "code",
   "execution_count": null,
   "id": "41c0d266",
   "metadata": {},
   "outputs": [],
   "source": [
    "plot_irradiance_temperature_timeseries(df_original)"
   ]
  },
  {
   "cell_type": "markdown",
   "id": "f260105d",
   "metadata": {},
   "source": [
    "#### Observe patterns by month, trends throughout day, or anomalies, such as peaks in solar irradiance or temperature fluctuations. "
   ]
  },
  {
   "cell_type": "markdown",
   "id": "0e4a07a0",
   "metadata": {},
   "source": [
    "##### 🔍 1. Monthly Patterns"
   ]
  },
  {
   "cell_type": "code",
   "execution_count": null,
   "id": "c9845dfa",
   "metadata": {},
   "outputs": [],
   "source": [
    "# Extract month from timestamp\n",
    "plot_monthly_irradiance_temperature(df_original)"
   ]
  },
  {
   "cell_type": "markdown",
   "id": "0164830d",
   "metadata": {},
   "source": [
    "#### 🕒 2. Daily Trends"
   ]
  },
  {
   "cell_type": "code",
   "execution_count": null,
   "id": "572be36d",
   "metadata": {},
   "outputs": [],
   "source": [
    "#plot average daily patter of irradiance and temperature by hour\n",
    "plot_hourly_irradiance_temperature(df)"
   ]
  },
  {
   "cell_type": "code",
   "execution_count": null,
   "id": "4a58fee5",
   "metadata": {},
   "outputs": [],
   "source": [
    "#filter out daytime measurements\n",
    "day_df=filter_daytime(df)"
   ]
  },
  {
   "cell_type": "code",
   "execution_count": null,
   "id": "af436175",
   "metadata": {},
   "outputs": [],
   "source": [
    "#plot distribution of measurements for daytime data\n",
    "plot_continuous_histograms(day_df)"
   ]
  },
  {
   "cell_type": "markdown",
   "id": "b98289ce",
   "metadata": {},
   "source": [
    "##### ⚠️ 3. Anomaly Detection (Peaks & Drops)"
   ]
  },
  {
   "cell_type": "code",
   "execution_count": null,
   "id": "7aff2b8c",
   "metadata": {},
   "outputs": [],
   "source": [
    "plot_ghi_anomalies(df)"
   ]
  },
  {
   "cell_type": "markdown",
   "id": "8a419c46",
   "metadata": {},
   "source": [
    "#### Save the preprocessed dataset"
   ]
  },
  {
   "cell_type": "code",
   "execution_count": null,
   "id": "31582a79",
   "metadata": {},
   "outputs": [],
   "source": [
    "#### Save the preprocessed dataset\n",
    "df.to_csv('../data/togo-dapaong', index=False)\n"
   ]
  },
  {
   "cell_type": "markdown",
   "id": "83238c1c",
   "metadata": {},
   "source": [
    "## 🧠 10. Key Insights <a id='10-key-insights'></a>"
   ]
  },
  {
   "cell_type": "markdown",
   "id": "006e170f",
   "metadata": {},
   "source": [
    "<div style=\"border-radius:10px; border:orange solid; padding: 15px; font-size:100%; text-align:left; font-color:#325939;background-color:#2c2c2c\">\n",
    "<h3 align=\"left\"><font color='orange'>💡 Observations:</font></h3>\n",
    "\n",
    "* There is near-linear relationship between WS (Wind Speed) and WSgust (Wind Gust Speed): In the context of the project — analyzing solar energy potential and sensor performance — it might be redundant to include both WS (Wind Speed) and WSgust (Wind Gust)\n",
    "* There is a near linear relationship between GHI and both ModA and ModB\n",
    "* There is a near linear relationship between ModA and ModB\n",
    "* WD has little correlation with any of the other variables\n",
    "* There is a linear relationship between TModA and TModB and their correlation with all other variables is near identical\n",
    "</div>"
   ]
  },
  {
   "cell_type": "markdown",
   "id": "7bb7dfe3",
   "metadata": {},
   "source": [
    "<div style=\"border-radius:10px; border:orange solid; padding: 15px; font-size:100%; text-align:left; font-color:#325939;background-color:#2c2c2c\">\n",
    "<h3 align=\"left\"><font color='orange'>💡 Observations:</font></h3>\n",
    "\n",
    "**☀️ Solar Irradiance Variables (GHI, DNI, DHI, ModA, ModB)**\n",
    "Distributions are right-skewed: Most values are close to zero, with a long tail of high values.\n",
    "\n",
    "**Implication:** These are only non-zero during daytime → confirms irradiance-based splitting logic (e.g., GHI > 0 → daytime).\n",
    "\n",
    "**Action:** There might be a need to  apply log transformation or clipping when using them for modeling or visualization.\n",
    "</div>"
   ]
  },
  {
   "cell_type": "markdown",
   "id": "dc67a9e8",
   "metadata": {},
   "source": [
    "<div style=\"border-radius:10px; border:orange solid; padding: 15px; font-size:100%; text-align:left; font-color:#325939;background-color:#2c2c2c\">\n",
    "<h3 align=\"left\"><font color='orange'>💡 Observations:</font></h3>\n",
    "\n",
    "**💧 Humidity (RH)**\n",
    "Fairly uniform or slightly U-shaped: High frequency at both low and high RH levels.\n",
    "\n",
    "**Implication:** Reflects variability in atmospheric moisture (from dry to humid).\n",
    "\n",
    "**Action:** RH can be a good input to model heat dissipation or fog effects on panels.\n",
    "</div>"
   ]
  },
  {
   "cell_type": "markdown",
   "id": "4c2bcd8d",
   "metadata": {},
   "source": [
    "<div style=\"border-radius:10px; border:orange solid; padding: 15px; font-size:100%; text-align:left; font-color:#325939;background-color:#2c2c2c\">\n",
    "<h3 align=\"left\"><font color='orange'>💡 Observations:</font></h3>\n",
    "\n",
    "**🧪 BP (Barometric Pressure)**\n",
    "Shows cyclical fluctuations (possibly measurement artifact or elevation-influenced).\n",
    "\n",
    "**Implication:** Limited predictive power unless used in atmospheric modeling.\n",
    "\n",
    "**Optional:** Could be dropped if irrelevant for power forecasting.\n",
    "</div>"
   ]
  },
  {
   "cell_type": "markdown",
   "id": "b3aa038b",
   "metadata": {},
   "source": [
    "## 🔚 11. Conclusion & Next Steps <a id='11-conclusion--next-steps'></a>"
   ]
  },
  {
   "cell_type": "markdown",
   "id": "cbc7613b",
   "metadata": {},
   "source": [
    "<div style=\"border-radius:10px; border:orange solid; padding: 15px; font-size:100%; text-align:left; font-color:#325939;background-color:#2c2c2c\">\n",
    "<h3 align=\"left\"><font color='orange'>💡 Recommendations:</font></h3>\n",
    "\n",
    "* Given the strong correlations among solar variables (GHI, DNI, DHI, ModA, ModB), consider dimensionality reduction (e.g., PCA) or selecting a subset to avoid multicollinearity in modeling.\n",
    "* Temperature and humidity variables are moderately correlated with solar irradiance, so including both can help models capture environmental conditions affecting your system.\n",
    "* Log-transforming skewed variables like solar irradiance and wind speeds could improve model performance by normalizing their distributions.\n",
    "* Variables like Cleaning and Precipitation are mostly zeros. Ensure models handle this class imbalance properly or use specialized techniques for rare events.\n",
    "* Consider interaction terms between solar radiation and humidity or temperature, as their interplay may affect your system’s behavior.\n",
    "</div>"
   ]
  }
 ],
 "metadata": {
  "kernelspec": {
   "display_name": "venv",
   "language": "python",
   "name": "python3"
  },
  "language_info": {
   "codemirror_mode": {
    "name": "ipython",
    "version": 3
   },
   "file_extension": ".py",
   "mimetype": "text/x-python",
   "name": "python",
   "nbconvert_exporter": "python",
   "pygments_lexer": "ipython3",
   "version": "3.10.12"
  }
 },
 "nbformat": 4,
 "nbformat_minor": 5
}
